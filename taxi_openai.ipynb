{
  "nbformat": 4,
  "nbformat_minor": 0,
  "metadata": {
    "colab": {
      "name": "taxi_openai.ipynb",
      "version": "0.3.2",
      "provenance": [],
      "include_colab_link": true
    },
    "kernelspec": {
      "name": "python3",
      "display_name": "Python 3"
    }
  },
  "cells": [
    {
      "cell_type": "markdown",
      "metadata": {
        "id": "view-in-github",
        "colab_type": "text"
      },
      "source": [
        "<a href=\"https://colab.research.google.com/github/shirishbahirat/artificial-intelligence/blob/master/taxi_openai.ipynb\" target=\"_parent\"><img src=\"https://colab.research.google.com/assets/colab-badge.svg\" alt=\"Open In Colab\"/></a>"
      ]
    },
    {
      "metadata": {
        "id": "krH0C_4bUHfp",
        "colab_type": "code",
        "colab": {}
      },
      "cell_type": "code",
      "source": [
        "import gym\n",
        "import numpy as np"
      ],
      "execution_count": 0,
      "outputs": []
    },
    {
      "metadata": {
        "id": "2TiuhYdtWmTh",
        "colab_type": "text"
      },
      "cell_type": "markdown",
      "source": [
        "Possible Actions  down (0), up (1), right (2), left (3), pick-up (4), and drop-off (5)"
      ]
    },
    {
      "metadata": {
        "id": "D2w1i526UcEW",
        "colab_type": "code",
        "colab": {}
      },
      "cell_type": "code",
      "source": [
        "env = gym.make(\"Taxi-v2\")\n",
        "state = env.reset()"
      ],
      "execution_count": 0,
      "outputs": []
    },
    {
      "metadata": {
        "id": "oQTzctW3UmAx",
        "colab_type": "code",
        "outputId": "f8eae3b3-e3ad-439c-cd10-7bdee43b8280",
        "colab": {
          "base_uri": "https://localhost:8080/",
          "height": 170
        }
      },
      "cell_type": "code",
      "source": [
        "print(state)\n",
        "env.render()"
      ],
      "execution_count": 0,
      "outputs": [
        {
          "output_type": "stream",
          "text": [
            "441\n",
            "+---------+\n",
            "|\u001b[34;1mR\u001b[0m: | : :\u001b[35mG\u001b[0m|\n",
            "| : : : : |\n",
            "| : : : : |\n",
            "| | : | : |\n",
            "|Y| :\u001b[43m \u001b[0m|B: |\n",
            "+---------+\n",
            "\n"
          ],
          "name": "stdout"
        }
      ]
    },
    {
      "metadata": {
        "id": "v7LsQE_9UoBP",
        "colab_type": "code",
        "colab": {}
      },
      "cell_type": "code",
      "source": [
        "n_states = env.observation_space.n\n",
        "n_actions = env.action_space.n"
      ],
      "execution_count": 0,
      "outputs": []
    },
    {
      "metadata": {
        "id": "HVqWQ9WOW2fl",
        "colab_type": "text"
      },
      "cell_type": "markdown",
      "source": [
        "How good does behaving completely random do?"
      ]
    },
    {
      "metadata": {
        "id": "KGPullW_UtzO",
        "colab_type": "code",
        "outputId": "35bb720a-c3a5-4ae0-8f90-c3aa3d668bb4",
        "colab": {
          "base_uri": "https://localhost:8080/",
          "height": 34
        }
      },
      "cell_type": "code",
      "source": [
        "state = env.reset()\n",
        "counter = 0\n",
        "g = 0\n",
        "reward = None\n",
        "while reward != 20:\n",
        "    state, reward, done, info = env.step(env.action_space.sample())\n",
        "    counter += 1\n",
        "    g += reward\n",
        "print(\"Solved in {} Steps with a total reward of {}\".format(counter,g))"
      ],
      "execution_count": 0,
      "outputs": [
        {
          "output_type": "stream",
          "text": [
            "Solved in 2059 Steps with a total reward of -8149\n"
          ],
          "name": "stdout"
        }
      ]
    },
    {
      "metadata": {
        "id": "dwi7ewIuW_gx",
        "colab_type": "text"
      },
      "cell_type": "markdown",
      "source": [
        "Let's look at just one episode and see how the Q values change after each step using the formula below"
      ]
    },
    {
      "metadata": {
        "id": "4FT06FJKU5sr",
        "colab_type": "code",
        "outputId": "bdc8b525-a45f-426b-9db1-21bba0d59163",
        "colab": {
          "base_uri": "https://localhost:8080/",
          "height": 51
        }
      },
      "cell_type": "code",
      "source": [
        "Q = np.zeros([n_states, n_actions])\n",
        "\n",
        "# This multidimensional array will keep a history of our Q-Values for all states\n",
        "Q_hist = np.zeros([n_states, n_actions, 0])\n",
        "\n",
        "\n",
        "episodes = 1\n",
        "G = 0\n",
        "alpha = 0.618\n",
        "\n",
        "for episode in range(1,episodes+1):\n",
        "    done = False\n",
        "    G, reward = 0,0\n",
        "    state = env.reset()\n",
        "    firstState = state\n",
        "    print(\"Initial State = {}\".format(state))\n",
        "    while reward != 20:\n",
        "        action = np.argmax(Q[state]) \n",
        "        state2, reward, done, info = env.step(action)\n",
        "        Q[state,action] += alpha * (reward + np.max(Q[state2]) - Q[state,action]) \n",
        "        G += reward\n",
        "        state = state2\n",
        "        \n",
        "        #This will keep a history of Q Values in a multi dimensional array\n",
        "        Q_hist = np.dstack((Q_hist, Q))\n",
        "finalState = state\n",
        "print(\"Final State = {}\".format(finalState))\n"
      ],
      "execution_count": 0,
      "outputs": [
        {
          "output_type": "stream",
          "text": [
            "Initial State = 203\n",
            "Final State = 475\n"
          ],
          "name": "stdout"
        }
      ]
    },
    {
      "metadata": {
        "id": "WuddJzolXIim",
        "colab_type": "text"
      },
      "cell_type": "markdown",
      "source": [
        "\n",
        "Let's look at the first step!![alt text](qlearn.png)"
      ]
    },
    {
      "metadata": {
        "id": "bmk2qiIAVGJQ",
        "colab_type": "code",
        "outputId": "e22f49e4-8d93-4fad-9d83-24d97b424b81",
        "colab": {
          "base_uri": "https://localhost:8080/",
          "height": 51
        }
      },
      "cell_type": "code",
      "source": [
        "print(firstState)\n",
        "Q_hist[firstState,:,0]"
      ],
      "execution_count": 0,
      "outputs": [
        {
          "output_type": "stream",
          "text": [
            "203\n"
          ],
          "name": "stdout"
        },
        {
          "output_type": "execute_result",
          "data": {
            "text/plain": [
              "array([-0.618,  0.   ,  0.   ,  0.   ,  0.   ,  0.   ])"
            ]
          },
          "metadata": {
            "tags": []
          },
          "execution_count": 10
        }
      ]
    },
    {
      "metadata": {
        "id": "kSL6bqQeVHth",
        "colab_type": "code",
        "outputId": "e281d21c-69e1-46b0-c1c5-cb2d8122b5a3",
        "colab": {
          "base_uri": "https://localhost:8080/",
          "height": 34
        }
      },
      "cell_type": "code",
      "source": [
        "Q_hist.shape"
      ],
      "execution_count": 0,
      "outputs": [
        {
          "output_type": "execute_result",
          "data": {
            "text/plain": [
              "(500, 6, 519)"
            ]
          },
          "metadata": {
            "tags": []
          },
          "execution_count": 11
        }
      ]
    },
    {
      "metadata": {
        "id": "78WR8a1sVLuK",
        "colab_type": "code",
        "outputId": "81f6f37a-dc41-4877-ecd4-ae83827e3386",
        "colab": {
          "base_uri": "https://localhost:8080/",
          "height": 51
        }
      },
      "cell_type": "code",
      "source": [
        "print(finalState)\n",
        "Q_hist[finalState,:,Q_hist.shape[2]-1]"
      ],
      "execution_count": 0,
      "outputs": [
        {
          "output_type": "stream",
          "text": [
            "475\n"
          ],
          "name": "stdout"
        },
        {
          "output_type": "execute_result",
          "data": {
            "text/plain": [
              "array([0., 0., 0., 0., 0., 0.])"
            ]
          },
          "metadata": {
            "tags": []
          },
          "execution_count": 12
        }
      ]
    },
    {
      "metadata": {
        "id": "mG2IQBIBVXsq",
        "colab_type": "code",
        "outputId": "ae5ebe19-3a6c-448f-b62f-654f6b0f3d27",
        "colab": {
          "base_uri": "https://localhost:8080/",
          "height": 34
        }
      },
      "cell_type": "code",
      "source": [
        "np.argmax(Q_hist[:,:,Q_hist.shape[2]-2], axis = 0)"
      ],
      "execution_count": 0,
      "outputs": [
        {
          "output_type": "execute_result",
          "data": {
            "text/plain": [
              "array([0, 0, 0, 0, 0, 0])"
            ]
          },
          "metadata": {
            "tags": []
          },
          "execution_count": 13
        }
      ]
    },
    {
      "metadata": {
        "id": "b2yFjwdiVZBf",
        "colab_type": "code",
        "outputId": "56167393-1398-493f-b901-10a46d889d7e",
        "colab": {
          "base_uri": "https://localhost:8080/",
          "height": 357
        }
      },
      "cell_type": "code",
      "source": [
        "episodes = 2000\n",
        "rewardTracker = []\n",
        "\n",
        "G = 0\n",
        "alpha = 0.618\n",
        "\n",
        "for episode in range(1,episodes+1):\n",
        "    done = False\n",
        "    G, reward = 0,0\n",
        "    state = env.reset()\n",
        "    while done != True:\n",
        "        action = np.argmax(Q[state]) \n",
        "        state2, reward, done, info = env.step(action) \n",
        "        Q[state,action] += alpha * ((reward + (np.max(Q[state2]))  - Q[state,action]))\n",
        "        G += reward\n",
        "        state = state2\n",
        "    \n",
        "    if episode % 100 == 0:\n",
        "        print('Episode {} Total Reward: {}'.format(episode,G))"
      ],
      "execution_count": 0,
      "outputs": [
        {
          "output_type": "stream",
          "text": [
            "Episode 100 Total Reward: -102\n",
            "Episode 200 Total Reward: -130\n",
            "Episode 300 Total Reward: 12\n",
            "Episode 400 Total Reward: 8\n",
            "Episode 500 Total Reward: 10\n",
            "Episode 600 Total Reward: 7\n",
            "Episode 700 Total Reward: 14\n",
            "Episode 800 Total Reward: 7\n",
            "Episode 900 Total Reward: 11\n",
            "Episode 1000 Total Reward: 9\n",
            "Episode 1100 Total Reward: 10\n",
            "Episode 1200 Total Reward: 8\n",
            "Episode 1300 Total Reward: 9\n",
            "Episode 1400 Total Reward: 4\n",
            "Episode 1500 Total Reward: 8\n",
            "Episode 1600 Total Reward: 11\n",
            "Episode 1700 Total Reward: 11\n",
            "Episode 1800 Total Reward: 6\n",
            "Episode 1900 Total Reward: 8\n",
            "Episode 2000 Total Reward: 5\n"
          ],
          "name": "stdout"
        }
      ]
    },
    {
      "metadata": {
        "id": "6VA8hszwVec4",
        "colab_type": "code",
        "outputId": "a13b7efd-5ea0-4399-aa37-17b150370545",
        "colab": {
          "base_uri": "https://localhost:8080/",
          "height": 1241
        }
      },
      "cell_type": "code",
      "source": [
        "state = env.reset()\n",
        "done = None\n",
        "\n",
        "while done != True:\n",
        "    # We simply take the action with the highest Q Value\n",
        "    action = np.argmax(Q[state])\n",
        "    state, reward, done, info = env.step(action)\n",
        "    env.render()"
      ],
      "execution_count": 0,
      "outputs": [
        {
          "output_type": "stream",
          "text": [
            "+---------+\n",
            "|\u001b[35mR\u001b[0m: | : :G|\n",
            "| : : : : |\n",
            "| : : : : |\n",
            "| | : | : |\n",
            "|Y| : |\u001b[42mB\u001b[0m: |\n",
            "+---------+\n",
            "  (Pickup)\n",
            "+---------+\n",
            "|\u001b[35mR\u001b[0m: | : :G|\n",
            "| : : : : |\n",
            "| : : : : |\n",
            "| | : |\u001b[42m_\u001b[0m: |\n",
            "|Y| : |B: |\n",
            "+---------+\n",
            "  (North)\n",
            "+---------+\n",
            "|\u001b[35mR\u001b[0m: | : :G|\n",
            "| : : : : |\n",
            "| : : :\u001b[42m_\u001b[0m: |\n",
            "| | : | : |\n",
            "|Y| : |B: |\n",
            "+---------+\n",
            "  (North)\n",
            "+---------+\n",
            "|\u001b[35mR\u001b[0m: | : :G|\n",
            "| : : :\u001b[42m_\u001b[0m: |\n",
            "| : : : : |\n",
            "| | : | : |\n",
            "|Y| : |B: |\n",
            "+---------+\n",
            "  (North)\n",
            "+---------+\n",
            "|\u001b[35mR\u001b[0m: | : :G|\n",
            "| : :\u001b[42m_\u001b[0m: : |\n",
            "| : : : : |\n",
            "| | : | : |\n",
            "|Y| : |B: |\n",
            "+---------+\n",
            "  (West)\n",
            "+---------+\n",
            "|\u001b[35mR\u001b[0m: | : :G|\n",
            "| :\u001b[42m_\u001b[0m: : : |\n",
            "| : : : : |\n",
            "| | : | : |\n",
            "|Y| : |B: |\n",
            "+---------+\n",
            "  (West)\n",
            "+---------+\n",
            "|\u001b[35mR\u001b[0m:\u001b[42m_\u001b[0m| : :G|\n",
            "| : : : : |\n",
            "| : : : : |\n",
            "| | : | : |\n",
            "|Y| : |B: |\n",
            "+---------+\n",
            "  (North)\n",
            "+---------+\n",
            "|\u001b[35m\u001b[42mR\u001b[0m\u001b[0m: | : :G|\n",
            "| : : : : |\n",
            "| : : : : |\n",
            "| | : | : |\n",
            "|Y| : |B: |\n",
            "+---------+\n",
            "  (West)\n",
            "+---------+\n",
            "|\u001b[35m\u001b[34;1m\u001b[43mR\u001b[0m\u001b[0m\u001b[0m: | : :G|\n",
            "| : : : : |\n",
            "| : : : : |\n",
            "| | : | : |\n",
            "|Y| : |B: |\n",
            "+---------+\n",
            "  (Dropoff)\n"
          ],
          "name": "stdout"
        }
      ]
    }
  ]
}