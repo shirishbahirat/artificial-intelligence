{
  "nbformat": 4,
  "nbformat_minor": 0,
  "metadata": {
    "colab": {
      "name": "Recurrent Neural Networks.ipynb",
      "version": "0.3.2",
      "provenance": [],
      "collapsed_sections": [],
      "include_colab_link": true
    },
    "kernelspec": {
      "name": "python3",
      "display_name": "Python 3"
    }
  },
  "cells": [
    {
      "cell_type": "markdown",
      "metadata": {
        "id": "view-in-github",
        "colab_type": "text"
      },
      "source": [
        "<a href=\"https://colab.research.google.com/github/shirishbahirat/artificial-intelligence/blob/master/Recurrent_Neural_Networks.ipynb\" target=\"_parent\"><img src=\"https://colab.research.google.com/assets/colab-badge.svg\" alt=\"Open In Colab\"/></a>"
      ]
    },
    {
      "metadata": {
        "id": "8ZwXQHHbt2qX",
        "colab_type": "code",
        "colab": {}
      },
      "cell_type": "code",
      "source": [
        "import pandas as pd\n",
        "import numpy as np\n",
        "%matplotlib inline\n",
        "import matplotlib.pyplot as plt"
      ],
      "execution_count": 0,
      "outputs": []
    },
    {
      "metadata": {
        "id": "q0yKaud2t_8R",
        "colab_type": "code",
        "colab": {
          "base_uri": "https://localhost:8080/",
          "height": 204
        },
        "outputId": "3744dff9-c34e-4e69-b40e-9dabdb5bca1f"
      },
      "cell_type": "code",
      "source": [
        "df = pd.read_csv('./data/cansim-0800020-eng-6674700030567901031.csv',\n",
        "                 skiprows=6, skipfooter=9,\n",
        "                 engine='python')\n",
        "df.head()"
      ],
      "execution_count": 2,
      "outputs": [
        {
          "output_type": "execute_result",
          "data": {
            "text/html": [
              "<div>\n",
              "<style scoped>\n",
              "    .dataframe tbody tr th:only-of-type {\n",
              "        vertical-align: middle;\n",
              "    }\n",
              "\n",
              "    .dataframe tbody tr th {\n",
              "        vertical-align: top;\n",
              "    }\n",
              "\n",
              "    .dataframe thead th {\n",
              "        text-align: right;\n",
              "    }\n",
              "</style>\n",
              "<table border=\"1\" class=\"dataframe\">\n",
              "  <thead>\n",
              "    <tr style=\"text-align: right;\">\n",
              "      <th></th>\n",
              "      <th>Adjustments</th>\n",
              "      <th>Unadjusted</th>\n",
              "      <th>Seasonally adjusted</th>\n",
              "    </tr>\n",
              "  </thead>\n",
              "  <tbody>\n",
              "    <tr>\n",
              "      <th>0</th>\n",
              "      <td>Jan-1991</td>\n",
              "      <td>12588862</td>\n",
              "      <td>15026890</td>\n",
              "    </tr>\n",
              "    <tr>\n",
              "      <th>1</th>\n",
              "      <td>Feb-1991</td>\n",
              "      <td>12154321</td>\n",
              "      <td>15304585</td>\n",
              "    </tr>\n",
              "    <tr>\n",
              "      <th>2</th>\n",
              "      <td>Mar-1991</td>\n",
              "      <td>14337072</td>\n",
              "      <td>15413591</td>\n",
              "    </tr>\n",
              "    <tr>\n",
              "      <th>3</th>\n",
              "      <td>Apr-1991</td>\n",
              "      <td>15108570</td>\n",
              "      <td>15293409</td>\n",
              "    </tr>\n",
              "    <tr>\n",
              "      <th>4</th>\n",
              "      <td>May-1991</td>\n",
              "      <td>17225734</td>\n",
              "      <td>15676083</td>\n",
              "    </tr>\n",
              "  </tbody>\n",
              "</table>\n",
              "</div>"
            ],
            "text/plain": [
              "  Adjustments  Unadjusted  Seasonally adjusted\n",
              "0    Jan-1991    12588862             15026890\n",
              "1    Feb-1991    12154321             15304585\n",
              "2    Mar-1991    14337072             15413591\n",
              "3    Apr-1991    15108570             15293409\n",
              "4    May-1991    17225734             15676083"
            ]
          },
          "metadata": {
            "tags": []
          },
          "execution_count": 2
        }
      ]
    },
    {
      "metadata": {
        "id": "Ta0v9mBQuEAF",
        "colab_type": "code",
        "colab": {}
      },
      "cell_type": "code",
      "source": [
        "from pandas.tseries.offsets import MonthEnd"
      ],
      "execution_count": 0,
      "outputs": []
    },
    {
      "metadata": {
        "id": "aGLzUmNQuIIF",
        "colab_type": "code",
        "colab": {
          "base_uri": "https://localhost:8080/",
          "height": 235
        },
        "outputId": "34381515-d741-4f70-b028-5906698b7947"
      },
      "cell_type": "code",
      "source": [
        "df['Adjustments'] = pd.to_datetime(df['Adjustments']) + MonthEnd(1)\n",
        "df = df.set_index('Adjustments')\n",
        "df.head()"
      ],
      "execution_count": 4,
      "outputs": [
        {
          "output_type": "execute_result",
          "data": {
            "text/html": [
              "<div>\n",
              "<style scoped>\n",
              "    .dataframe tbody tr th:only-of-type {\n",
              "        vertical-align: middle;\n",
              "    }\n",
              "\n",
              "    .dataframe tbody tr th {\n",
              "        vertical-align: top;\n",
              "    }\n",
              "\n",
              "    .dataframe thead th {\n",
              "        text-align: right;\n",
              "    }\n",
              "</style>\n",
              "<table border=\"1\" class=\"dataframe\">\n",
              "  <thead>\n",
              "    <tr style=\"text-align: right;\">\n",
              "      <th></th>\n",
              "      <th>Unadjusted</th>\n",
              "      <th>Seasonally adjusted</th>\n",
              "    </tr>\n",
              "    <tr>\n",
              "      <th>Adjustments</th>\n",
              "      <th></th>\n",
              "      <th></th>\n",
              "    </tr>\n",
              "  </thead>\n",
              "  <tbody>\n",
              "    <tr>\n",
              "      <th>1991-01-31</th>\n",
              "      <td>12588862</td>\n",
              "      <td>15026890</td>\n",
              "    </tr>\n",
              "    <tr>\n",
              "      <th>1991-02-28</th>\n",
              "      <td>12154321</td>\n",
              "      <td>15304585</td>\n",
              "    </tr>\n",
              "    <tr>\n",
              "      <th>1991-03-31</th>\n",
              "      <td>14337072</td>\n",
              "      <td>15413591</td>\n",
              "    </tr>\n",
              "    <tr>\n",
              "      <th>1991-04-30</th>\n",
              "      <td>15108570</td>\n",
              "      <td>15293409</td>\n",
              "    </tr>\n",
              "    <tr>\n",
              "      <th>1991-05-31</th>\n",
              "      <td>17225734</td>\n",
              "      <td>15676083</td>\n",
              "    </tr>\n",
              "  </tbody>\n",
              "</table>\n",
              "</div>"
            ],
            "text/plain": [
              "             Unadjusted  Seasonally adjusted\n",
              "Adjustments                                 \n",
              "1991-01-31     12588862             15026890\n",
              "1991-02-28     12154321             15304585\n",
              "1991-03-31     14337072             15413591\n",
              "1991-04-30     15108570             15293409\n",
              "1991-05-31     17225734             15676083"
            ]
          },
          "metadata": {
            "tags": []
          },
          "execution_count": 4
        }
      ]
    },
    {
      "metadata": {
        "id": "8tAgFeN1uK2K",
        "colab_type": "code",
        "colab": {
          "base_uri": "https://localhost:8080/",
          "height": 307
        },
        "outputId": "109cf87d-339e-494f-9b3c-1307f2fd03e1"
      },
      "cell_type": "code",
      "source": [
        "df.plot()"
      ],
      "execution_count": 5,
      "outputs": [
        {
          "output_type": "execute_result",
          "data": {
            "text/plain": [
              "<matplotlib.axes._subplots.AxesSubplot at 0x7fa2c0684f98>"
            ]
          },
          "metadata": {
            "tags": []
          },
          "execution_count": 5
        },
        {
          "output_type": "display_data",
          "data": {
            "image/png": "[encoded data removed]",
            "text/plain": [
              "<Figure size 432x288 with 1 Axes>"
            ]
          },
          "metadata": {
            "tags": []
          }
        }
      ]
    },
    {
      "metadata": {
        "id": "VU1ZtCiAuNl9",
        "colab_type": "code",
        "colab": {}
      },
      "cell_type": "code",
      "source": [
        "split_date = pd.Timestamp('01-01-2011')"
      ],
      "execution_count": 0,
      "outputs": []
    },
    {
      "metadata": {
        "id": "HxVALNppuRP5",
        "colab_type": "code",
        "colab": {}
      },
      "cell_type": "code",
      "source": [
        "train = df.loc[:split_date, ['Unadjusted']]\n",
        "test = df.loc[split_date:, ['Unadjusted']]"
      ],
      "execution_count": 0,
      "outputs": []
    },
    {
      "metadata": {
        "id": "hiI_mn01uUP9",
        "colab_type": "code",
        "colab": {
          "base_uri": "https://localhost:8080/",
          "height": 307
        },
        "outputId": "61f55c0b-ce67-4dfe-baf9-c6366f24ebb5"
      },
      "cell_type": "code",
      "source": [
        "ax = train.plot()\n",
        "test.plot(ax=ax)\n",
        "plt.legend(['train', 'test'])"
      ],
      "execution_count": 8,
      "outputs": [
        {
          "output_type": "execute_result",
          "data": {
            "text/plain": [
              "<matplotlib.legend.Legend at 0x7fa2c0d6a9b0>"
            ]
          },
          "metadata": {
            "tags": []
          },
          "execution_count": 8
        },
        {
          "output_type": "display_data",
          "data": {
            "image/png": "[encoded data removed]",
            "text/plain": [
              "<Figure size 432x288 with 1 Axes>"
            ]
          },
          "metadata": {
            "tags": []
          }
        }
      ]
    },
    {
      "metadata": {
        "id": "GziNexQWuXXu",
        "colab_type": "code",
        "colab": {
          "base_uri": "https://localhost:8080/",
          "height": 91
        },
        "outputId": "6eedcfea-4eba-469d-9218-aa9044cbc84e"
      },
      "cell_type": "code",
      "source": [
        "from sklearn.preprocessing import MinMaxScaler\n",
        "\n",
        "sc = MinMaxScaler()\n",
        "\n",
        "train_sc = sc.fit_transform(train)\n",
        "test_sc = sc.transform(test)"
      ],
      "execution_count": 9,
      "outputs": [
        {
          "output_type": "stream",
          "text": [
            "/usr/local/lib/python3.6/dist-packages/sklearn/preprocessing/data.py:323: DataConversionWarning: Data with input dtype int64 were all converted to float64 by MinMaxScaler.\n",
            "  return self.partial_fit(X, y)\n"
          ],
          "name": "stderr"
        }
      ]
    },
    {
      "metadata": {
        "id": "5_2zRSFFucK8",
        "colab_type": "code",
        "colab": {
          "base_uri": "https://localhost:8080/",
          "height": 85
        },
        "outputId": "f8506bf4-fbea-4d75-95fa-37f8c9d9e3d7"
      },
      "cell_type": "code",
      "source": [
        "train_sc[:4]"
      ],
      "execution_count": 10,
      "outputs": [
        {
          "output_type": "execute_result",
          "data": {
            "text/plain": [
              "array([[0.01402033],\n",
              "       [0.        ],\n",
              "       [0.0704258 ],\n",
              "       [0.09531795]])"
            ]
          },
          "metadata": {
            "tags": []
          },
          "execution_count": 10
        }
      ]
    },
    {
      "metadata": {
        "id": "-FhErS7sue_u",
        "colab_type": "code",
        "colab": {}
      },
      "cell_type": "code",
      "source": [
        "X_train = train_sc[:-1]\n",
        "y_train = train_sc[1:]\n",
        "\n",
        "X_test = test_sc[:-1]\n",
        "y_test = test_sc[1:]"
      ],
      "execution_count": 0,
      "outputs": []
    },
    {
      "metadata": {
        "id": "zth5zoH1uhqO",
        "colab_type": "code",
        "colab": {
          "base_uri": "https://localhost:8080/",
          "height": 34
        },
        "outputId": "a90692d8-25a8-4ad8-ab29-55878855e860"
      },
      "cell_type": "code",
      "source": [
        "from keras.models import Sequential\n",
        "from keras.layers import Dense\n",
        "import keras.backend as K\n",
        "from keras.callbacks import EarlyStopping"
      ],
      "execution_count": 12,
      "outputs": [
        {
          "output_type": "stream",
          "text": [
            "Using TensorFlow backend.\n"
          ],
          "name": "stderr"
        }
      ]
    },
    {
      "metadata": {
        "id": "gYtSTIWpukqt",
        "colab_type": "code",
        "colab": {
          "base_uri": "https://localhost:8080/",
          "height": 204
        },
        "outputId": "ce02ebd2-3eb4-43db-d697-f017c103d689"
      },
      "cell_type": "code",
      "source": [
        "K.clear_session()\n",
        "\n",
        "model = Sequential()\n",
        "model.add(Dense(12, input_dim=1, activation='relu'))\n",
        "model.add(Dense(1))\n",
        "model.compile(loss='mean_squared_error', optimizer='adam')\n",
        "model.summary()"
      ],
      "execution_count": 13,
      "outputs": [
        {
          "output_type": "stream",
          "text": [
            "_________________________________________________________________\n",
            "Layer (type)                 Output Shape              Param #   \n",
            "=================================================================\n",
            "dense_1 (Dense)              (None, 12)                24        \n",
            "_________________________________________________________________\n",
            "dense_2 (Dense)              (None, 1)                 13        \n",
            "=================================================================\n",
            "Total params: 37\n",
            "Trainable params: 37\n",
            "Non-trainable params: 0\n",
            "_________________________________________________________________\n"
          ],
          "name": "stdout"
        }
      ]
    },
    {
      "metadata": {
        "id": "d_2J8Qh9unwZ",
        "colab_type": "code",
        "colab": {}
      },
      "cell_type": "code",
      "source": [
        "early_stop = EarlyStopping(monitor='loss', patience=1, verbose=1)"
      ],
      "execution_count": 0,
      "outputs": []
    },
    {
      "metadata": {
        "id": "Fd_Io4-gvDN3",
        "colab_type": "code",
        "colab": {
          "base_uri": "https://localhost:8080/",
          "height": 527
        },
        "outputId": "6a27d830-b020-4fd6-cded-2e14f9947d35"
      },
      "cell_type": "code",
      "source": [
        "model.fit(X_train, y_train, epochs=200,\n",
        "          batch_size=2, verbose=1,\n",
        "          callbacks=[early_stop])"
      ],
      "execution_count": 15,
      "outputs": [
        {
          "output_type": "stream",
          "text": [
            "Epoch 1/200\n",
            "239/239 [==============================] - 0s 891us/step - loss: 0.1744\n",
            "Epoch 2/200\n",
            "239/239 [==============================] - 0s 441us/step - loss: 0.0394\n",
            "Epoch 3/200\n",
            "239/239 [==============================] - 0s 403us/step - loss: 0.0296\n",
            "Epoch 4/200\n",
            "239/239 [==============================] - 0s 423us/step - loss: 0.0242\n",
            "Epoch 5/200\n",
            "239/239 [==============================] - 0s 386us/step - loss: 0.0201\n",
            "Epoch 6/200\n",
            "239/239 [==============================] - 0s 411us/step - loss: 0.0166\n",
            "Epoch 7/200\n",
            "239/239 [==============================] - 0s 410us/step - loss: 0.0144\n",
            "Epoch 8/200\n",
            "239/239 [==============================] - 0s 423us/step - loss: 0.0126\n",
            "Epoch 9/200\n",
            "239/239 [==============================] - 0s 404us/step - loss: 0.0114\n",
            "Epoch 10/200\n",
            "239/239 [==============================] - 0s 417us/step - loss: 0.0109\n",
            "Epoch 11/200\n",
            "239/239 [==============================] - 0s 390us/step - loss: 0.0103\n",
            "Epoch 12/200\n",
            "239/239 [==============================] - 0s 402us/step - loss: 0.0101\n",
            "Epoch 13/200\n",
            "239/239 [==============================] - 0s 398us/step - loss: 0.0099\n",
            "Epoch 14/200\n",
            "239/239 [==============================] - 0s 392us/step - loss: 0.0101\n",
            "Epoch 00014: early stopping\n"
          ],
          "name": "stdout"
        },
        {
          "output_type": "execute_result",
          "data": {
            "text/plain": [
              "<keras.callbacks.History at 0x7fa2bfdc1da0>"
            ]
          },
          "metadata": {
            "tags": []
          },
          "execution_count": 15
        }
      ]
    },
    {
      "metadata": {
        "id": "GEUReSyevF8o",
        "colab_type": "code",
        "colab": {}
      },
      "cell_type": "code",
      "source": [
        "y_pred = model.predict(X_test)"
      ],
      "execution_count": 0,
      "outputs": []
    },
    {
      "metadata": {
        "id": "2CI97KvxvI9b",
        "colab_type": "code",
        "colab": {
          "base_uri": "https://localhost:8080/",
          "height": 282
        },
        "outputId": "3dd1e1ab-5755-41e5-e711-b1f723530a3e"
      },
      "cell_type": "code",
      "source": [
        "plt.plot(y_test)\n",
        "plt.plot(y_pred)"
      ],
      "execution_count": 17,
      "outputs": [
        {
          "output_type": "execute_result",
          "data": {
            "text/plain": [
              "[<matplotlib.lines.Line2D at 0x7fa2a9b27f60>]"
            ]
          },
          "metadata": {
            "tags": []
          },
          "execution_count": 17
        },
        {
          "output_type": "display_data",
          "data": {
            "image/png": "[encoded data removed]",
            "text/plain": [
              "<Figure size 432x288 with 1 Axes>"
            ]
          },
          "metadata": {
            "tags": []
          }
        }
      ]
    },
    {
      "metadata": {
        "id": "3O9AX9YyvOHo",
        "colab_type": "code",
        "colab": {}
      },
      "cell_type": "code",
      "source": [
        "from keras.layers import LSTM"
      ],
      "execution_count": 0,
      "outputs": []
    },
    {
      "metadata": {
        "id": "ZsNkyiM0vQy6",
        "colab_type": "code",
        "colab": {
          "base_uri": "https://localhost:8080/",
          "height": 34
        },
        "outputId": "e8b8a594-4fb5-48a3-e5cd-717d01d8889f"
      },
      "cell_type": "code",
      "source": [
        "X_train.shape"
      ],
      "execution_count": 19,
      "outputs": [
        {
          "output_type": "execute_result",
          "data": {
            "text/plain": [
              "(239, 1)"
            ]
          },
          "metadata": {
            "tags": []
          },
          "execution_count": 19
        }
      ]
    },
    {
      "metadata": {
        "id": "NWrKsND_vRxH",
        "colab_type": "code",
        "colab": {
          "base_uri": "https://localhost:8080/",
          "height": 34
        },
        "outputId": "b2243672-6deb-43ad-c848-c30a4648916a"
      },
      "cell_type": "code",
      "source": [
        "#3D tensor with shape (batch_size, timesteps, input_dim)\n",
        "X_train[:, None].shape"
      ],
      "execution_count": 20,
      "outputs": [
        {
          "output_type": "execute_result",
          "data": {
            "text/plain": [
              "(239, 1, 1)"
            ]
          },
          "metadata": {
            "tags": []
          },
          "execution_count": 20
        }
      ]
    },
    {
      "metadata": {
        "id": "zl0ETLVivUkx",
        "colab_type": "code",
        "colab": {}
      },
      "cell_type": "code",
      "source": [
        "X_train_t = X_train[:, None]\n",
        "X_test_t = X_test[:, None]"
      ],
      "execution_count": 0,
      "outputs": []
    },
    {
      "metadata": {
        "id": "oIvJw9puvXKU",
        "colab_type": "code",
        "colab": {}
      },
      "cell_type": "code",
      "source": [
        "K.clear_session()\n",
        "model = Sequential()\n",
        "\n",
        "model.add(LSTM(6, input_shape=(1, 1)))\n",
        "\n",
        "model.add(Dense(1))\n",
        "\n",
        "model.compile(loss='mean_squared_error', optimizer='adam')"
      ],
      "execution_count": 0,
      "outputs": []
    },
    {
      "metadata": {
        "id": "oIAtCp7Tvali",
        "colab_type": "code",
        "colab": {
          "base_uri": "https://localhost:8080/",
          "height": 459
        },
        "outputId": "086d56e1-b1f2-4ea8-a900-ae33cae384b5"
      },
      "cell_type": "code",
      "source": [
        "model.fit(X_train_t, y_train,\n",
        "          epochs=100, batch_size=1, verbose=1,\n",
        "          callbacks=[early_stop])"
      ],
      "execution_count": 23,
      "outputs": [
        {
          "output_type": "stream",
          "text": [
            "Epoch 1/100\n",
            "239/239 [==============================] - 1s 4ms/step - loss: 0.0918\n",
            "Epoch 2/100\n",
            "239/239 [==============================] - 0s 2ms/step - loss: 0.0297\n",
            "Epoch 3/100\n",
            "239/239 [==============================] - 0s 2ms/step - loss: 0.0229\n",
            "Epoch 4/100\n",
            "239/239 [==============================] - 0s 2ms/step - loss: 0.0176\n",
            "Epoch 5/100\n",
            "239/239 [==============================] - 0s 2ms/step - loss: 0.0138\n",
            "Epoch 6/100\n",
            "239/239 [==============================] - 0s 2ms/step - loss: 0.0116\n",
            "Epoch 7/100\n",
            "239/239 [==============================] - 0s 2ms/step - loss: 0.0104\n",
            "Epoch 8/100\n",
            "239/239 [==============================] - 0s 2ms/step - loss: 0.0102\n",
            "Epoch 9/100\n",
            "239/239 [==============================] - 0s 2ms/step - loss: 0.0100\n",
            "Epoch 10/100\n",
            "239/239 [==============================] - 0s 2ms/step - loss: 0.0100\n",
            "Epoch 11/100\n",
            "239/239 [==============================] - 0s 2ms/step - loss: 0.0099\n",
            "Epoch 12/100\n",
            "239/239 [==============================] - 0s 2ms/step - loss: 0.0100\n",
            "Epoch 00012: early stopping\n"
          ],
          "name": "stdout"
        },
        {
          "output_type": "execute_result",
          "data": {
            "text/plain": [
              "<keras.callbacks.History at 0x7fa2a9ad7160>"
            ]
          },
          "metadata": {
            "tags": []
          },
          "execution_count": 23
        }
      ]
    },
    {
      "metadata": {
        "id": "wh5E-TkFvdoA",
        "colab_type": "code",
        "colab": {
          "base_uri": "https://localhost:8080/",
          "height": 282
        },
        "outputId": "90f10d40-8afc-4788-e6ed-e9ccc5f4472c"
      },
      "cell_type": "code",
      "source": [
        "y_pred = model.predict(X_test_t)\n",
        "plt.plot(y_test)\n",
        "plt.plot(y_pred)"
      ],
      "execution_count": 24,
      "outputs": [
        {
          "output_type": "execute_result",
          "data": {
            "text/plain": [
              "[<matplotlib.lines.Line2D at 0x7fa2a7fc3dd8>]"
            ]
          },
          "metadata": {
            "tags": []
          },
          "execution_count": 24
        },
        {
          "output_type": "display_data",
          "data": {
            "image/png": "[encoded data removed]",
            "text/plain": [
              "<Figure size 432x288 with 1 Axes>"
            ]
          },
          "metadata": {
            "tags": []
          }
        }
      ]
    },
    {
      "metadata": {
        "id": "eOI9fkBYyCnB",
        "colab_type": "code",
        "colab": {
          "base_uri": "https://localhost:8080/",
          "height": 34
        },
        "outputId": "dea6d2e2-f3a7-4ac6-89d1-685e4dee034e"
      },
      "cell_type": "code",
      "source": [
        "train_sc.shape"
      ],
      "execution_count": 25,
      "outputs": [
        {
          "output_type": "execute_result",
          "data": {
            "text/plain": [
              "(240, 1)"
            ]
          },
          "metadata": {
            "tags": []
          },
          "execution_count": 25
        }
      ]
    },
    {
      "metadata": {
        "id": "fMziPTjsyD6B",
        "colab_type": "code",
        "colab": {
          "base_uri": "https://localhost:8080/",
          "height": 235
        },
        "outputId": "e5ff7beb-29f9-4551-dbe4-4323cfecedb5"
      },
      "cell_type": "code",
      "source": [
        "train_sc_df = pd.DataFrame(train_sc, columns=['Scaled'], index=train.index)\n",
        "test_sc_df = pd.DataFrame(test_sc, columns=['Scaled'], index=test.index)\n",
        "train_sc_df.head()"
      ],
      "execution_count": 27,
      "outputs": [
        {
          "output_type": "execute_result",
          "data": {
            "text/html": [
              "<div>\n",
              "<style scoped>\n",
              "    .dataframe tbody tr th:only-of-type {\n",
              "        vertical-align: middle;\n",
              "    }\n",
              "\n",
              "    .dataframe tbody tr th {\n",
              "        vertical-align: top;\n",
              "    }\n",
              "\n",
              "    .dataframe thead th {\n",
              "        text-align: right;\n",
              "    }\n",
              "</style>\n",
              "<table border=\"1\" class=\"dataframe\">\n",
              "  <thead>\n",
              "    <tr style=\"text-align: right;\">\n",
              "      <th></th>\n",
              "      <th>Scaled</th>\n",
              "    </tr>\n",
              "    <tr>\n",
              "      <th>Adjustments</th>\n",
              "      <th></th>\n",
              "    </tr>\n",
              "  </thead>\n",
              "  <tbody>\n",
              "    <tr>\n",
              "      <th>1991-01-31</th>\n",
              "      <td>0.014020</td>\n",
              "    </tr>\n",
              "    <tr>\n",
              "      <th>1991-02-28</th>\n",
              "      <td>0.000000</td>\n",
              "    </tr>\n",
              "    <tr>\n",
              "      <th>1991-03-31</th>\n",
              "      <td>0.070426</td>\n",
              "    </tr>\n",
              "    <tr>\n",
              "      <th>1991-04-30</th>\n",
              "      <td>0.095318</td>\n",
              "    </tr>\n",
              "    <tr>\n",
              "      <th>1991-05-31</th>\n",
              "      <td>0.163628</td>\n",
              "    </tr>\n",
              "  </tbody>\n",
              "</table>\n",
              "</div>"
            ],
            "text/plain": [
              "               Scaled\n",
              "Adjustments          \n",
              "1991-01-31   0.014020\n",
              "1991-02-28   0.000000\n",
              "1991-03-31   0.070426\n",
              "1991-04-30   0.095318\n",
              "1991-05-31   0.163628"
            ]
          },
          "metadata": {
            "tags": []
          },
          "execution_count": 27
        }
      ]
    },
    {
      "metadata": {
        "id": "YFSsXA1VyHkz",
        "colab_type": "code",
        "colab": {}
      },
      "cell_type": "code",
      "source": [
        "for s in range(1, 13):\n",
        "    train_sc_df['shift_{}'.format(s)] = train_sc_df['Scaled'].shift(s)\n",
        "    test_sc_df['shift_{}'.format(s)] = test_sc_df['Scaled'].shift(s)"
      ],
      "execution_count": 0,
      "outputs": []
    },
    {
      "metadata": {
        "id": "DFQ9INZjyOOC",
        "colab_type": "code",
        "colab": {
          "base_uri": "https://localhost:8080/",
          "height": 523
        },
        "outputId": "b885b037-b35b-463d-b7bb-101e1d53ebb6"
      },
      "cell_type": "code",
      "source": [
        "train_sc_df.head(13)"
      ],
      "execution_count": 29,
      "outputs": [
        {
          "output_type": "execute_result",
          "data": {
            "text/html": [
              "<div>\n",
              "<style scoped>\n",
              "    .dataframe tbody tr th:only-of-type {\n",
              "        vertical-align: middle;\n",
              "    }\n",
              "\n",
              "    .dataframe tbody tr th {\n",
              "        vertical-align: top;\n",
              "    }\n",
              "\n",
              "    .dataframe thead th {\n",
              "        text-align: right;\n",
              "    }\n",
              "</style>\n",
              "<table border=\"1\" class=\"dataframe\">\n",
              "  <thead>\n",
              "    <tr style=\"text-align: right;\">\n",
              "      <th></th>\n",
              "      <th>Scaled</th>\n",
              "      <th>shift_1</th>\n",
              "      <th>shift_2</th>\n",
              "      <th>shift_3</th>\n",
              "      <th>shift_4</th>\n",
              "      <th>shift_5</th>\n",
              "      <th>shift_6</th>\n",
              "      <th>shift_7</th>\n",
              "      <th>shift_8</th>\n",
              "      <th>shift_9</th>\n",
              "      <th>shift_10</th>\n",
              "      <th>shift_11</th>\n",
              "      <th>shift_12</th>\n",
              "    </tr>\n",
              "    <tr>\n",
              "      <th>Adjustments</th>\n",
              "      <th></th>\n",
              "      <th></th>\n",
              "      <th></th>\n",
              "      <th></th>\n",
              "      <th></th>\n",
              "      <th></th>\n",
              "      <th></th>\n",
              "      <th></th>\n",
              "      <th></th>\n",
              "      <th></th>\n",
              "      <th></th>\n",
              "      <th></th>\n",
              "      <th></th>\n",
              "    </tr>\n",
              "  </thead>\n",
              "  <tbody>\n",
              "    <tr>\n",
              "      <th>1991-01-31</th>\n",
              "      <td>0.014020</td>\n",
              "      <td>NaN</td>\n",
              "      <td>NaN</td>\n",
              "      <td>NaN</td>\n",
              "      <td>NaN</td>\n",
              "      <td>NaN</td>\n",
              "      <td>NaN</td>\n",
              "      <td>NaN</td>\n",
              "      <td>NaN</td>\n",
              "      <td>NaN</td>\n",
              "      <td>NaN</td>\n",
              "      <td>NaN</td>\n",
              "      <td>NaN</td>\n",
              "    </tr>\n",
              "    <tr>\n",
              "      <th>1991-02-28</th>\n",
              "      <td>0.000000</td>\n",
              "      <td>0.014020</td>\n",
              "      <td>NaN</td>\n",
              "      <td>NaN</td>\n",
              "      <td>NaN</td>\n",
              "      <td>NaN</td>\n",
              "      <td>NaN</td>\n",
              "      <td>NaN</td>\n",
              "      <td>NaN</td>\n",
              "      <td>NaN</td>\n",
              "      <td>NaN</td>\n",
              "      <td>NaN</td>\n",
              "      <td>NaN</td>\n",
              "    </tr>\n",
              "    <tr>\n",
              "      <th>1991-03-31</th>\n",
              "      <td>0.070426</td>\n",
              "      <td>0.000000</td>\n",
              "      <td>0.014020</td>\n",
              "      <td>NaN</td>\n",
              "      <td>NaN</td>\n",
              "      <td>NaN</td>\n",
              "      <td>NaN</td>\n",
              "      <td>NaN</td>\n",
              "      <td>NaN</td>\n",
              "      <td>NaN</td>\n",
              "      <td>NaN</td>\n",
              "      <td>NaN</td>\n",
              "      <td>NaN</td>\n",
              "    </tr>\n",
              "    <tr>\n",
              "      <th>1991-04-30</th>\n",
              "      <td>0.095318</td>\n",
              "      <td>0.070426</td>\n",
              "      <td>0.000000</td>\n",
              "      <td>0.014020</td>\n",
              "      <td>NaN</td>\n",
              "      <td>NaN</td>\n",
              "      <td>NaN</td>\n",
              "      <td>NaN</td>\n",
              "      <td>NaN</td>\n",
              "      <td>NaN</td>\n",
              "      <td>NaN</td>\n",
              "      <td>NaN</td>\n",
              "      <td>NaN</td>\n",
              "    </tr>\n",
              "    <tr>\n",
              "      <th>1991-05-31</th>\n",
              "      <td>0.163628</td>\n",
              "      <td>0.095318</td>\n",
              "      <td>0.070426</td>\n",
              "      <td>0.000000</td>\n",
              "      <td>0.014020</td>\n",
              "      <td>NaN</td>\n",
              "      <td>NaN</td>\n",
              "      <td>NaN</td>\n",
              "      <td>NaN</td>\n",
              "      <td>NaN</td>\n",
              "      <td>NaN</td>\n",
              "      <td>NaN</td>\n",
              "      <td>NaN</td>\n",
              "    </tr>\n",
              "    <tr>\n",
              "      <th>1991-06-30</th>\n",
              "      <td>0.135141</td>\n",
              "      <td>0.163628</td>\n",
              "      <td>0.095318</td>\n",
              "      <td>0.070426</td>\n",
              "      <td>0.000000</td>\n",
              "      <td>0.014020</td>\n",
              "      <td>NaN</td>\n",
              "      <td>NaN</td>\n",
              "      <td>NaN</td>\n",
              "      <td>NaN</td>\n",
              "      <td>NaN</td>\n",
              "      <td>NaN</td>\n",
              "      <td>NaN</td>\n",
              "    </tr>\n",
              "    <tr>\n",
              "      <th>1991-07-31</th>\n",
              "      <td>0.123958</td>\n",
              "      <td>0.135141</td>\n",
              "      <td>0.163628</td>\n",
              "      <td>0.095318</td>\n",
              "      <td>0.070426</td>\n",
              "      <td>0.000000</td>\n",
              "      <td>0.014020</td>\n",
              "      <td>NaN</td>\n",
              "      <td>NaN</td>\n",
              "      <td>NaN</td>\n",
              "      <td>NaN</td>\n",
              "      <td>NaN</td>\n",
              "      <td>NaN</td>\n",
              "    </tr>\n",
              "    <tr>\n",
              "      <th>1991-08-31</th>\n",
              "      <td>0.126174</td>\n",
              "      <td>0.123958</td>\n",
              "      <td>0.135141</td>\n",
              "      <td>0.163628</td>\n",
              "      <td>0.095318</td>\n",
              "      <td>0.070426</td>\n",
              "      <td>0.000000</td>\n",
              "      <td>0.014020</td>\n",
              "      <td>NaN</td>\n",
              "      <td>NaN</td>\n",
              "      <td>NaN</td>\n",
              "      <td>NaN</td>\n",
              "      <td>NaN</td>\n",
              "    </tr>\n",
              "    <tr>\n",
              "      <th>1991-09-30</th>\n",
              "      <td>0.092309</td>\n",
              "      <td>0.126174</td>\n",
              "      <td>0.123958</td>\n",
              "      <td>0.135141</td>\n",
              "      <td>0.163628</td>\n",
              "      <td>0.095318</td>\n",
              "      <td>0.070426</td>\n",
              "      <td>0.000000</td>\n",
              "      <td>0.014020</td>\n",
              "      <td>NaN</td>\n",
              "      <td>NaN</td>\n",
              "      <td>NaN</td>\n",
              "      <td>NaN</td>\n",
              "    </tr>\n",
              "    <tr>\n",
              "      <th>1991-10-31</th>\n",
              "      <td>0.111395</td>\n",
              "      <td>0.092309</td>\n",
              "      <td>0.126174</td>\n",
              "      <td>0.123958</td>\n",
              "      <td>0.135141</td>\n",
              "      <td>0.163628</td>\n",
              "      <td>0.095318</td>\n",
              "      <td>0.070426</td>\n",
              "      <td>0.000000</td>\n",
              "      <td>0.014020</td>\n",
              "      <td>NaN</td>\n",
              "      <td>NaN</td>\n",
              "      <td>NaN</td>\n",
              "    </tr>\n",
              "    <tr>\n",
              "      <th>1991-11-30</th>\n",
              "      <td>0.131738</td>\n",
              "      <td>0.111395</td>\n",
              "      <td>0.092309</td>\n",
              "      <td>0.126174</td>\n",
              "      <td>0.123958</td>\n",
              "      <td>0.135141</td>\n",
              "      <td>0.163628</td>\n",
              "      <td>0.095318</td>\n",
              "      <td>0.070426</td>\n",
              "      <td>0.000000</td>\n",
              "      <td>0.014020</td>\n",
              "      <td>NaN</td>\n",
              "      <td>NaN</td>\n",
              "    </tr>\n",
              "    <tr>\n",
              "      <th>1991-12-31</th>\n",
              "      <td>0.200913</td>\n",
              "      <td>0.131738</td>\n",
              "      <td>0.111395</td>\n",
              "      <td>0.092309</td>\n",
              "      <td>0.126174</td>\n",
              "      <td>0.123958</td>\n",
              "      <td>0.135141</td>\n",
              "      <td>0.163628</td>\n",
              "      <td>0.095318</td>\n",
              "      <td>0.070426</td>\n",
              "      <td>0.000000</td>\n",
              "      <td>0.01402</td>\n",
              "      <td>NaN</td>\n",
              "    </tr>\n",
              "    <tr>\n",
              "      <th>1992-01-31</th>\n",
              "      <td>0.030027</td>\n",
              "      <td>0.200913</td>\n",
              "      <td>0.131738</td>\n",
              "      <td>0.111395</td>\n",
              "      <td>0.092309</td>\n",
              "      <td>0.126174</td>\n",
              "      <td>0.123958</td>\n",
              "      <td>0.135141</td>\n",
              "      <td>0.163628</td>\n",
              "      <td>0.095318</td>\n",
              "      <td>0.070426</td>\n",
              "      <td>0.00000</td>\n",
              "      <td>0.01402</td>\n",
              "    </tr>\n",
              "  </tbody>\n",
              "</table>\n",
              "</div>"
            ],
            "text/plain": [
              "               Scaled   shift_1   shift_2   shift_3   shift_4   shift_5  \\\n",
              "Adjustments                                                               \n",
              "1991-01-31   0.014020       NaN       NaN       NaN       NaN       NaN   \n",
              "1991-02-28   0.000000  0.014020       NaN       NaN       NaN       NaN   \n",
              "1991-03-31   0.070426  0.000000  0.014020       NaN       NaN       NaN   \n",
              "1991-04-30   0.095318  0.070426  0.000000  0.014020       NaN       NaN   \n",
              "1991-05-31   0.163628  0.095318  0.070426  0.000000  0.014020       NaN   \n",
              "1991-06-30   0.135141  0.163628  0.095318  0.070426  0.000000  0.014020   \n",
              "1991-07-31   0.123958  0.135141  0.163628  0.095318  0.070426  0.000000   \n",
              "1991-08-31   0.126174  0.123958  0.135141  0.163628  0.095318  0.070426   \n",
              "1991-09-30   0.092309  0.126174  0.123958  0.135141  0.163628  0.095318   \n",
              "1991-10-31   0.111395  0.092309  0.126174  0.123958  0.135141  0.163628   \n",
              "1991-11-30   0.131738  0.111395  0.092309  0.126174  0.123958  0.135141   \n",
              "1991-12-31   0.200913  0.131738  0.111395  0.092309  0.126174  0.123958   \n",
              "1992-01-31   0.030027  0.200913  0.131738  0.111395  0.092309  0.126174   \n",
              "\n",
              "              shift_6   shift_7   shift_8   shift_9  shift_10  shift_11  \\\n",
              "Adjustments                                                               \n",
              "1991-01-31        NaN       NaN       NaN       NaN       NaN       NaN   \n",
              "1991-02-28        NaN       NaN       NaN       NaN       NaN       NaN   \n",
              "1991-03-31        NaN       NaN       NaN       NaN       NaN       NaN   \n",
              "1991-04-30        NaN       NaN       NaN       NaN       NaN       NaN   \n",
              "1991-05-31        NaN       NaN       NaN       NaN       NaN       NaN   \n",
              "1991-06-30        NaN       NaN       NaN       NaN       NaN       NaN   \n",
              "1991-07-31   0.014020       NaN       NaN       NaN       NaN       NaN   \n",
              "1991-08-31   0.000000  0.014020       NaN       NaN       NaN       NaN   \n",
              "1991-09-30   0.070426  0.000000  0.014020       NaN       NaN       NaN   \n",
              "1991-10-31   0.095318  0.070426  0.000000  0.014020       NaN       NaN   \n",
              "1991-11-30   0.163628  0.095318  0.070426  0.000000  0.014020       NaN   \n",
              "1991-12-31   0.135141  0.163628  0.095318  0.070426  0.000000   0.01402   \n",
              "1992-01-31   0.123958  0.135141  0.163628  0.095318  0.070426   0.00000   \n",
              "\n",
              "             shift_12  \n",
              "Adjustments            \n",
              "1991-01-31        NaN  \n",
              "1991-02-28        NaN  \n",
              "1991-03-31        NaN  \n",
              "1991-04-30        NaN  \n",
              "1991-05-31        NaN  \n",
              "1991-06-30        NaN  \n",
              "1991-07-31        NaN  \n",
              "1991-08-31        NaN  \n",
              "1991-09-30        NaN  \n",
              "1991-10-31        NaN  \n",
              "1991-11-30        NaN  \n",
              "1991-12-31        NaN  \n",
              "1992-01-31    0.01402  "
            ]
          },
          "metadata": {
            "tags": []
          },
          "execution_count": 29
        }
      ]
    },
    {
      "metadata": {
        "id": "juG0da7CyTjA",
        "colab_type": "code",
        "colab": {}
      },
      "cell_type": "code",
      "source": [
        ""
      ],
      "execution_count": 0,
      "outputs": []
    },
    {
      "metadata": {
        "id": "WL0NTMMZyPwq",
        "colab_type": "code",
        "colab": {}
      },
      "cell_type": "code",
      "source": [
        "X_train = train_sc_df.dropna().drop('Scaled', axis=1)\n",
        "y_train = train_sc_df.dropna()[['Scaled']]\n",
        "\n",
        "X_test = test_sc_df.dropna().drop('Scaled', axis=1)\n",
        "y_test = test_sc_df.dropna()[['Scaled']]"
      ],
      "execution_count": 0,
      "outputs": []
    },
    {
      "metadata": {
        "id": "3H_teedjyUtB",
        "colab_type": "code",
        "colab": {
          "base_uri": "https://localhost:8080/",
          "height": 235
        },
        "outputId": "6ab956d4-e0f0-4131-e4b1-433480df6e6a"
      },
      "cell_type": "code",
      "source": [
        "X_train.head()"
      ],
      "execution_count": 31,
      "outputs": [
        {
          "output_type": "execute_result",
          "data": {
            "text/html": [
              "<div>\n",
              "<style scoped>\n",
              "    .dataframe tbody tr th:only-of-type {\n",
              "        vertical-align: middle;\n",
              "    }\n",
              "\n",
              "    .dataframe tbody tr th {\n",
              "        vertical-align: top;\n",
              "    }\n",
              "\n",
              "    .dataframe thead th {\n",
              "        text-align: right;\n",
              "    }\n",
              "</style>\n",
              "<table border=\"1\" class=\"dataframe\">\n",
              "  <thead>\n",
              "    <tr style=\"text-align: right;\">\n",
              "      <th></th>\n",
              "      <th>shift_1</th>\n",
              "      <th>shift_2</th>\n",
              "      <th>shift_3</th>\n",
              "      <th>shift_4</th>\n",
              "      <th>shift_5</th>\n",
              "      <th>shift_6</th>\n",
              "      <th>shift_7</th>\n",
              "      <th>shift_8</th>\n",
              "      <th>shift_9</th>\n",
              "      <th>shift_10</th>\n",
              "      <th>shift_11</th>\n",
              "      <th>shift_12</th>\n",
              "    </tr>\n",
              "    <tr>\n",
              "      <th>Adjustments</th>\n",
              "      <th></th>\n",
              "      <th></th>\n",
              "      <th></th>\n",
              "      <th></th>\n",
              "      <th></th>\n",
              "      <th></th>\n",
              "      <th></th>\n",
              "      <th></th>\n",
              "      <th></th>\n",
              "      <th></th>\n",
              "      <th></th>\n",
              "      <th></th>\n",
              "    </tr>\n",
              "  </thead>\n",
              "  <tbody>\n",
              "    <tr>\n",
              "      <th>1992-01-31</th>\n",
              "      <td>0.200913</td>\n",
              "      <td>0.131738</td>\n",
              "      <td>0.111395</td>\n",
              "      <td>0.092309</td>\n",
              "      <td>0.126174</td>\n",
              "      <td>0.123958</td>\n",
              "      <td>0.135141</td>\n",
              "      <td>0.163628</td>\n",
              "      <td>0.095318</td>\n",
              "      <td>0.070426</td>\n",
              "      <td>0.000000</td>\n",
              "      <td>0.014020</td>\n",
              "    </tr>\n",
              "    <tr>\n",
              "      <th>1992-02-29</th>\n",
              "      <td>0.030027</td>\n",
              "      <td>0.200913</td>\n",
              "      <td>0.131738</td>\n",
              "      <td>0.111395</td>\n",
              "      <td>0.092309</td>\n",
              "      <td>0.126174</td>\n",
              "      <td>0.123958</td>\n",
              "      <td>0.135141</td>\n",
              "      <td>0.163628</td>\n",
              "      <td>0.095318</td>\n",
              "      <td>0.070426</td>\n",
              "      <td>0.000000</td>\n",
              "    </tr>\n",
              "    <tr>\n",
              "      <th>1992-03-31</th>\n",
              "      <td>0.019993</td>\n",
              "      <td>0.030027</td>\n",
              "      <td>0.200913</td>\n",
              "      <td>0.131738</td>\n",
              "      <td>0.111395</td>\n",
              "      <td>0.092309</td>\n",
              "      <td>0.126174</td>\n",
              "      <td>0.123958</td>\n",
              "      <td>0.135141</td>\n",
              "      <td>0.163628</td>\n",
              "      <td>0.095318</td>\n",
              "      <td>0.070426</td>\n",
              "    </tr>\n",
              "    <tr>\n",
              "      <th>1992-04-30</th>\n",
              "      <td>0.065964</td>\n",
              "      <td>0.019993</td>\n",
              "      <td>0.030027</td>\n",
              "      <td>0.200913</td>\n",
              "      <td>0.131738</td>\n",
              "      <td>0.111395</td>\n",
              "      <td>0.092309</td>\n",
              "      <td>0.126174</td>\n",
              "      <td>0.123958</td>\n",
              "      <td>0.135141</td>\n",
              "      <td>0.163628</td>\n",
              "      <td>0.095318</td>\n",
              "    </tr>\n",
              "    <tr>\n",
              "      <th>1992-05-31</th>\n",
              "      <td>0.109831</td>\n",
              "      <td>0.065964</td>\n",
              "      <td>0.019993</td>\n",
              "      <td>0.030027</td>\n",
              "      <td>0.200913</td>\n",
              "      <td>0.131738</td>\n",
              "      <td>0.111395</td>\n",
              "      <td>0.092309</td>\n",
              "      <td>0.126174</td>\n",
              "      <td>0.123958</td>\n",
              "      <td>0.135141</td>\n",
              "      <td>0.163628</td>\n",
              "    </tr>\n",
              "  </tbody>\n",
              "</table>\n",
              "</div>"
            ],
            "text/plain": [
              "              shift_1   shift_2   shift_3   shift_4   shift_5   shift_6  \\\n",
              "Adjustments                                                               \n",
              "1992-01-31   0.200913  0.131738  0.111395  0.092309  0.126174  0.123958   \n",
              "1992-02-29   0.030027  0.200913  0.131738  0.111395  0.092309  0.126174   \n",
              "1992-03-31   0.019993  0.030027  0.200913  0.131738  0.111395  0.092309   \n",
              "1992-04-30   0.065964  0.019993  0.030027  0.200913  0.131738  0.111395   \n",
              "1992-05-31   0.109831  0.065964  0.019993  0.030027  0.200913  0.131738   \n",
              "\n",
              "              shift_7   shift_8   shift_9  shift_10  shift_11  shift_12  \n",
              "Adjustments                                                              \n",
              "1992-01-31   0.135141  0.163628  0.095318  0.070426  0.000000  0.014020  \n",
              "1992-02-29   0.123958  0.135141  0.163628  0.095318  0.070426  0.000000  \n",
              "1992-03-31   0.126174  0.123958  0.135141  0.163628  0.095318  0.070426  \n",
              "1992-04-30   0.092309  0.126174  0.123958  0.135141  0.163628  0.095318  \n",
              "1992-05-31   0.111395  0.092309  0.126174  0.123958  0.135141  0.163628  "
            ]
          },
          "metadata": {
            "tags": []
          },
          "execution_count": 31
        }
      ]
    },
    {
      "metadata": {
        "id": "S0azC7AZyYjO",
        "colab_type": "code",
        "colab": {
          "base_uri": "https://localhost:8080/",
          "height": 34
        },
        "outputId": "7bd468c3-69fe-460f-d879-984153412391"
      },
      "cell_type": "code",
      "source": [
        "X_train.shape"
      ],
      "execution_count": 26,
      "outputs": [
        {
          "output_type": "execute_result",
          "data": {
            "text/plain": [
              "(239, 1)"
            ]
          },
          "metadata": {
            "tags": []
          },
          "execution_count": 26
        }
      ]
    },
    {
      "metadata": {
        "id": "w14xZYMqybUC",
        "colab_type": "code",
        "colab": {}
      },
      "cell_type": "code",
      "source": [
        "X_train = X_train.values\n",
        "X_test= X_test.values\n",
        "\n",
        "y_train = y_train.values\n",
        "y_test = y_test.values"
      ],
      "execution_count": 0,
      "outputs": []
    },
    {
      "metadata": {
        "id": "sJkQVTRhyjH-",
        "colab_type": "code",
        "colab": {
          "base_uri": "https://localhost:8080/",
          "height": 204
        },
        "outputId": "baa3e8ee-e030-47c2-c4fd-361214bc7541"
      },
      "cell_type": "code",
      "source": [
        "K.clear_session()\n",
        "\n",
        "model = Sequential()\n",
        "model.add(Dense(12, input_dim=12, activation='relu'))\n",
        "model.add(Dense(1))\n",
        "model.compile(loss='mean_squared_error', optimizer='adam')\n",
        "model.summary()"
      ],
      "execution_count": 33,
      "outputs": [
        {
          "output_type": "stream",
          "text": [
            "_________________________________________________________________\n",
            "Layer (type)                 Output Shape              Param #   \n",
            "=================================================================\n",
            "dense_1 (Dense)              (None, 12)                156       \n",
            "_________________________________________________________________\n",
            "dense_2 (Dense)              (None, 1)                 13        \n",
            "=================================================================\n",
            "Total params: 169\n",
            "Trainable params: 169\n",
            "Non-trainable params: 0\n",
            "_________________________________________________________________\n"
          ],
          "name": "stdout"
        }
      ]
    },
    {
      "metadata": {
        "id": "9mKDJG7GyoVh",
        "colab_type": "code",
        "colab": {
          "base_uri": "https://localhost:8080/",
          "height": 595
        },
        "outputId": "03857eea-b551-409f-a43e-9b4f9acb645a"
      },
      "cell_type": "code",
      "source": [
        "model.fit(X_train, y_train, epochs=200,\n",
        "          batch_size=1, verbose=1, callbacks=[early_stop])"
      ],
      "execution_count": 34,
      "outputs": [
        {
          "output_type": "stream",
          "text": [
            "Epoch 1/200\n",
            "228/228 [==============================] - 0s 2ms/step - loss: 0.0211\n",
            "Epoch 2/200\n",
            "228/228 [==============================] - 0s 1ms/step - loss: 0.0073\n",
            "Epoch 3/200\n",
            "228/228 [==============================] - 0s 1ms/step - loss: 0.0064\n",
            "Epoch 4/200\n",
            "228/228 [==============================] - 0s 1ms/step - loss: 0.0054\n",
            "Epoch 5/200\n",
            "228/228 [==============================] - 0s 992us/step - loss: 0.0048\n",
            "Epoch 6/200\n",
            "228/228 [==============================] - 0s 862us/step - loss: 0.0042\n",
            "Epoch 7/200\n",
            "228/228 [==============================] - 0s 885us/step - loss: 0.0037\n",
            "Epoch 8/200\n",
            "228/228 [==============================] - 0s 917us/step - loss: 0.0034\n",
            "Epoch 9/200\n",
            "228/228 [==============================] - 0s 871us/step - loss: 0.0031\n",
            "Epoch 10/200\n",
            "228/228 [==============================] - 0s 886us/step - loss: 0.0029\n",
            "Epoch 11/200\n",
            "228/228 [==============================] - 0s 885us/step - loss: 0.0027\n",
            "Epoch 12/200\n",
            "228/228 [==============================] - 0s 854us/step - loss: 0.0024\n",
            "Epoch 13/200\n",
            "228/228 [==============================] - 0s 878us/step - loss: 0.0022\n",
            "Epoch 14/200\n",
            "228/228 [==============================] - 0s 857us/step - loss: 0.0021\n",
            "Epoch 15/200\n",
            "228/228 [==============================] - 0s 884us/step - loss: 0.0019\n",
            "Epoch 16/200\n",
            "228/228 [==============================] - 0s 900us/step - loss: 0.0019\n",
            "Epoch 00016: early stopping\n"
          ],
          "name": "stdout"
        },
        {
          "output_type": "execute_result",
          "data": {
            "text/plain": [
              "<keras.callbacks.History at 0x7fa2a7d7e518>"
            ]
          },
          "metadata": {
            "tags": []
          },
          "execution_count": 34
        }
      ]
    },
    {
      "metadata": {
        "id": "6jnYJx2dyrl9",
        "colab_type": "code",
        "colab": {
          "base_uri": "https://localhost:8080/",
          "height": 282
        },
        "outputId": "8ae34a53-e37e-42d4-f5e0-fec64d283203"
      },
      "cell_type": "code",
      "source": [
        "y_pred = model.predict(X_test)\n",
        "plt.plot(y_test)\n",
        "plt.plot(y_pred)"
      ],
      "execution_count": 35,
      "outputs": [
        {
          "output_type": "execute_result",
          "data": {
            "text/plain": [
              "[<matplotlib.lines.Line2D at 0x7fa2a6c90240>]"
            ]
          },
          "metadata": {
            "tags": []
          },
          "execution_count": 35
        },
        {
          "output_type": "display_data",
          "data": {
            "image/png": "[encoded data removed]",
            "text/plain": [
              "<Figure size 432x288 with 1 Axes>"
            ]
          },
          "metadata": {
            "tags": []
          }
        }
      ]
    },
    {
      "metadata": {
        "id": "_JuVKVsByxca",
        "colab_type": "code",
        "colab": {}
      },
      "cell_type": "code",
      "source": [
        "X_train_t = X_train.reshape(X_train.shape[0], 1, 12)\n",
        "X_test_t = X_test.reshape(X_test.shape[0], 1, 12)"
      ],
      "execution_count": 0,
      "outputs": []
    },
    {
      "metadata": {
        "id": "3kf0ltKCy0cB",
        "colab_type": "code",
        "colab": {
          "base_uri": "https://localhost:8080/",
          "height": 34
        },
        "outputId": "438698d2-9c12-4d1b-b62c-9ea872bb39d4"
      },
      "cell_type": "code",
      "source": [
        "X_train_t.shape"
      ],
      "execution_count": 37,
      "outputs": [
        {
          "output_type": "execute_result",
          "data": {
            "text/plain": [
              "(228, 1, 12)"
            ]
          },
          "metadata": {
            "tags": []
          },
          "execution_count": 37
        }
      ]
    },
    {
      "metadata": {
        "id": "cGpB5MQCy4IV",
        "colab_type": "code",
        "colab": {}
      },
      "cell_type": "code",
      "source": [
        "K.clear_session()\n",
        "model = Sequential()\n",
        "\n",
        "model.add(LSTM(6, input_shape=(1, 12)))\n",
        "\n",
        "model.add(Dense(1))\n",
        "\n",
        "model.compile(loss='mean_squared_error', optimizer='adam')"
      ],
      "execution_count": 0,
      "outputs": []
    },
    {
      "metadata": {
        "id": "FrO_0sYFy8zh",
        "colab_type": "code",
        "colab": {
          "base_uri": "https://localhost:8080/",
          "height": 204
        },
        "outputId": "fa27b3d6-ac67-4270-b2c9-32955a2f688b"
      },
      "cell_type": "code",
      "source": [
        "model.summary()"
      ],
      "execution_count": 39,
      "outputs": [
        {
          "output_type": "stream",
          "text": [
            "_________________________________________________________________\n",
            "Layer (type)                 Output Shape              Param #   \n",
            "=================================================================\n",
            "lstm_1 (LSTM)                (None, 6)                 456       \n",
            "_________________________________________________________________\n",
            "dense_1 (Dense)              (None, 1)                 7         \n",
            "=================================================================\n",
            "Total params: 463\n",
            "Trainable params: 463\n",
            "Non-trainable params: 0\n",
            "_________________________________________________________________\n"
          ],
          "name": "stdout"
        }
      ]
    },
    {
      "metadata": {
        "id": "q8DRYIS5y-kw",
        "colab_type": "code",
        "colab": {
          "base_uri": "https://localhost:8080/",
          "height": 833
        },
        "outputId": "f2f6fc97-a210-4fc1-f553-eb345dfa9450"
      },
      "cell_type": "code",
      "source": [
        "model.fit(X_train_t, y_train, epochs=100,\n",
        "          batch_size=1, verbose=1, callbacks=[early_stop])"
      ],
      "execution_count": 40,
      "outputs": [
        {
          "output_type": "stream",
          "text": [
            "Epoch 1/100\n",
            "228/228 [==============================] - 1s 4ms/step - loss: 0.0306\n",
            "Epoch 2/100\n",
            "228/228 [==============================] - 1s 2ms/step - loss: 0.0125\n",
            "Epoch 3/100\n",
            "228/228 [==============================] - 0s 2ms/step - loss: 0.0110\n",
            "Epoch 4/100\n",
            "228/228 [==============================] - 0s 2ms/step - loss: 0.0102\n",
            "Epoch 5/100\n",
            "228/228 [==============================] - 0s 2ms/step - loss: 0.0092\n",
            "Epoch 6/100\n",
            "228/228 [==============================] - 0s 2ms/step - loss: 0.0086\n",
            "Epoch 7/100\n",
            "228/228 [==============================] - 0s 2ms/step - loss: 0.0079\n",
            "Epoch 8/100\n",
            "228/228 [==============================] - 0s 2ms/step - loss: 0.0074\n",
            "Epoch 9/100\n",
            "228/228 [==============================] - 0s 2ms/step - loss: 0.0065\n",
            "Epoch 10/100\n",
            "228/228 [==============================] - 0s 2ms/step - loss: 0.0059\n",
            "Epoch 11/100\n",
            "228/228 [==============================] - 0s 2ms/step - loss: 0.0055\n",
            "Epoch 12/100\n",
            "228/228 [==============================] - 0s 2ms/step - loss: 0.0051\n",
            "Epoch 13/100\n",
            "228/228 [==============================] - 0s 2ms/step - loss: 0.0047\n",
            "Epoch 14/100\n",
            "228/228 [==============================] - 0s 2ms/step - loss: 0.0041\n",
            "Epoch 15/100\n",
            "228/228 [==============================] - 0s 2ms/step - loss: 0.0038\n",
            "Epoch 16/100\n",
            "228/228 [==============================] - 0s 2ms/step - loss: 0.0035\n",
            "Epoch 17/100\n",
            "228/228 [==============================] - 0s 2ms/step - loss: 0.0031\n",
            "Epoch 18/100\n",
            "228/228 [==============================] - 0s 2ms/step - loss: 0.0029\n",
            "Epoch 19/100\n",
            "228/228 [==============================] - 0s 2ms/step - loss: 0.0026\n",
            "Epoch 20/100\n",
            "228/228 [==============================] - 0s 2ms/step - loss: 0.0024\n",
            "Epoch 21/100\n",
            "228/228 [==============================] - 0s 2ms/step - loss: 0.0021\n",
            "Epoch 22/100\n",
            "228/228 [==============================] - 0s 2ms/step - loss: 0.0019\n",
            "Epoch 23/100\n",
            "228/228 [==============================] - 0s 2ms/step - loss: 0.0019\n",
            "Epoch 00023: early stopping\n"
          ],
          "name": "stdout"
        },
        {
          "output_type": "execute_result",
          "data": {
            "text/plain": [
              "<keras.callbacks.History at 0x7fa2a6c46518>"
            ]
          },
          "metadata": {
            "tags": []
          },
          "execution_count": 40
        }
      ]
    },
    {
      "metadata": {
        "id": "cEtwQodwzBsP",
        "colab_type": "code",
        "colab": {
          "base_uri": "https://localhost:8080/",
          "height": 282
        },
        "outputId": "885d2b7f-af7a-4b4b-e70e-035baf244a1b"
      },
      "cell_type": "code",
      "source": [
        "y_pred = model.predict(X_test_t)\n",
        "plt.plot(y_test)\n",
        "plt.plot(y_pred)"
      ],
      "execution_count": 41,
      "outputs": [
        {
          "output_type": "execute_result",
          "data": {
            "text/plain": [
              "[<matplotlib.lines.Line2D at 0x7fa2a5193748>]"
            ]
          },
          "metadata": {
            "tags": []
          },
          "execution_count": 41
        },
        {
          "output_type": "display_data",
          "data": {
            "image/png": "[encoded data removed]",
            "text/plain": [
              "<Figure size 432x288 with 1 Axes>"
            ]
          },
          "metadata": {
            "tags": []
          }
        }
      ]
    }
  ]
}