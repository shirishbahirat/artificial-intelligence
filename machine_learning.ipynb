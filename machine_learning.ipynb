{
  "nbformat": 4,
  "nbformat_minor": 0,
  "metadata": {
    "colab": {
      "name": "machine learning.ipynb",
      "version": "0.3.2",
      "provenance": [],
      "collapsed_sections": [],
      "include_colab_link": true
    },
    "kernelspec": {
      "name": "python3",
      "display_name": "Python 3"
    }
  },
  "cells": [
    {
      "cell_type": "markdown",
      "metadata": {
        "id": "view-in-github",
        "colab_type": "text"
      },
      "source": [
        "<a href=\"https://colab.research.google.com/github/shirishbahirat/artificial-intelligence/blob/master/machine_learning.ipynb\" target=\"_parent\"><img src=\"https://colab.research.google.com/assets/colab-badge.svg\" alt=\"Open In Colab\"/></a>"
      ]
    },
    {
      "metadata": {
        "id": "YnSYTO8HIWKu",
        "colab_type": "code",
        "colab": {
          "base_uri": "https://localhost:8080/",
          "height": 265
        },
        "outputId": "5363bc66-cc07-465a-8847-3ca7a78f50af"
      },
      "cell_type": "code",
      "source": [
        "import numpy as np\n",
        "import matplotlib.pyplot as plt\n",
        "%matplotlib inline\n",
        "    \n",
        "n_pts=100\n",
        "np.random.seed(0)\n",
        "top_region=np.array([np.random.normal(10,2,n_pts), np.random.normal(12,2,n_pts)]).T\n",
        "bottom_region= np.array([np.random.normal(5,2, n_pts), np.random.normal(6,2, n_pts)]).T\n",
        "_, ax= plt.subplots(figsize=(4,4))\n",
        "ax.scatter(top_region[:,0], top_region[:,1], color='r')\n",
        "ax.scatter(bottom_region[:,0], bottom_region[:,1], color='b')\n",
        "plt.show()"
      ],
      "execution_count": 2,
      "outputs": [
        {
          "output_type": "display_data",
          "data": {
            "image/png": "[encoded data removed]",
            "text/plain": [
              "<Figure size 288x288 with 1 Axes>"
            ]
          },
          "metadata": {
            "tags": []
          }
        }
      ]
    },
    {
      "metadata": {
        "id": "QqrLo_0xl24q",
        "colab_type": "code",
        "colab": {
          "base_uri": "https://localhost:8080/",
          "height": 3665
        },
        "outputId": "3bb53d35-de95-4199-e3ef-d82d2ba97309"
      },
      "cell_type": "code",
      "source": [
        "import numpy as np\n",
        "import matplotlib.pyplot as plt\n",
        "%matplotlib inline\n",
        " \n",
        "\n",
        "def draw(x1,x2):\n",
        "  ln=plt.plot(x1,x2)\n",
        " \n",
        "def sigmoid(score):\n",
        "  return 1/(1+np.exp(-score))\n",
        "  \n",
        "n_pts=100\n",
        "np.random.seed(0)\n",
        "bias= np.ones(n_pts)\n",
        "top_region=np.array([np.random.normal(10,2,n_pts), np.random.normal(12,2,n_pts), bias]).T\n",
        "bottom_region= np.array([np.random.normal(5,2, n_pts), np.random.normal(6,2, n_pts), bias]).T\n",
        "all_points=np.vstack((top_region, bottom_region))\n",
        "w1=-0.2\n",
        "w2=-0.35\n",
        "b=3.5\n",
        "line_paramters = np.matrix([w1,w2,b]).T\n",
        "x1=np.array([bottom_region[:,0].min(), top_region[:,0].max()])\n",
        "x2= -b/w2 + (x1*(-w1/w2))\n",
        " \n",
        "linear_combination= all_points*line_paramters \n",
        "probabilities= sigmoid(linear_combination)\n",
        "print(probabilities)    \n",
        "_, ax= plt.subplots(figsize=(4,4))\n",
        "ax.scatter(top_region[:,0], top_region[:,1], color='r')\n",
        "ax.scatter(bottom_region[:,0], bottom_region[:,1], color='b')\n",
        "draw(x1,x2)\n",
        "plt.show()"
      ],
      "execution_count": 3,
      "outputs": [
        {
          "output_type": "stream",
          "text": [
            "[[0.00880295]\n",
            " [0.12823766]\n",
            " [0.09955707]\n",
            " [0.01372204]\n",
            " [0.067494  ]\n",
            " [0.02485266]\n",
            " [0.05783959]\n",
            " [0.10752849]\n",
            " [0.01790212]\n",
            " [0.01982865]\n",
            " [0.01687491]\n",
            " [0.01953267]\n",
            " [0.08305404]\n",
            " [0.01653317]\n",
            " [0.06356942]\n",
            " [0.03244615]\n",
            " [0.01869352]\n",
            " [0.07519977]\n",
            " [0.03714468]\n",
            " [0.04724971]\n",
            " [0.12539518]\n",
            " [0.10048323]\n",
            " [0.03716405]\n",
            " [0.03450275]\n",
            " [0.0422208 ]\n",
            " [0.11779179]\n",
            " [0.08213426]\n",
            " [0.01946251]\n",
            " [0.02223247]\n",
            " [0.0273059 ]\n",
            " [0.09770069]\n",
            " [0.03809842]\n",
            " [0.13321197]\n",
            " [0.1267547 ]\n",
            " [0.10757609]\n",
            " [0.03783167]\n",
            " [0.02670777]\n",
            " [0.04586325]\n",
            " [0.05613233]\n",
            " [0.14016312]\n",
            " [0.22501118]\n",
            " [0.08020485]\n",
            " [0.1058204 ]\n",
            " [0.01936312]\n",
            " [0.01530217]\n",
            " [0.03969957]\n",
            " [0.17366009]\n",
            " [0.02203358]\n",
            " [0.24355157]\n",
            " [0.09180481]\n",
            " [0.09161742]\n",
            " [0.01705515]\n",
            " [0.12192247]\n",
            " [0.16121167]\n",
            " [0.06787429]\n",
            " [0.0826482 ]\n",
            " [0.02888137]\n",
            " [0.1125418 ]\n",
            " [0.16205141]\n",
            " [0.09548502]\n",
            " [0.11081993]\n",
            " [0.01970751]\n",
            " [0.04568011]\n",
            " [0.11197017]\n",
            " [0.12862563]\n",
            " [0.0418729 ]\n",
            " [0.2062352 ]\n",
            " [0.14139238]\n",
            " [0.04036068]\n",
            " [0.05008562]\n",
            " [0.02567474]\n",
            " [0.0485819 ]\n",
            " [0.02285329]\n",
            " [0.14800284]\n",
            " [0.10555543]\n",
            " [0.05199599]\n",
            " [0.14315926]\n",
            " [0.12070453]\n",
            " [0.09478973]\n",
            " [0.06095649]\n",
            " [0.12066537]\n",
            " [0.10930454]\n",
            " [0.08048821]\n",
            " [0.37072208]\n",
            " [0.02336297]\n",
            " [0.08811145]\n",
            " [0.08329147]\n",
            " [0.06509814]\n",
            " [0.14754278]\n",
            " [0.01474653]\n",
            " [0.16332011]\n",
            " [0.03305676]\n",
            " [0.05975925]\n",
            " [0.09338474]\n",
            " [0.0388344 ]\n",
            " [0.05403637]\n",
            " [0.03752671]\n",
            " [0.01814941]\n",
            " [0.01385674]\n",
            " [0.0219592 ]\n",
            " [0.81187527]\n",
            " [0.33963083]\n",
            " [0.51071111]\n",
            " [0.6488571 ]\n",
            " [0.42006154]\n",
            " [0.79726482]\n",
            " [0.79309961]\n",
            " [0.83725098]\n",
            " [0.45075738]\n",
            " [0.63435865]\n",
            " [0.53233469]\n",
            " [0.38194332]\n",
            " [0.70562862]\n",
            " [0.74989307]\n",
            " [0.74023578]\n",
            " [0.62198304]\n",
            " [0.60738376]\n",
            " [0.61043958]\n",
            " [0.38684703]\n",
            " [0.62058137]\n",
            " [0.78348652]\n",
            " [0.75166046]\n",
            " [0.59707131]\n",
            " [0.69657647]\n",
            " [0.86134037]\n",
            " [0.64412191]\n",
            " [0.61010754]\n",
            " [0.21881611]\n",
            " [0.75624774]\n",
            " [0.45881507]\n",
            " [0.60982877]\n",
            " [0.80683733]\n",
            " [0.51895778]\n",
            " [0.74312915]\n",
            " [0.93842191]\n",
            " [0.41656199]\n",
            " [0.73717358]\n",
            " [0.71347874]\n",
            " [0.67002633]\n",
            " [0.26260963]\n",
            " [0.47677129]\n",
            " [0.7060505 ]\n",
            " [0.7180154 ]\n",
            " [0.79721378]\n",
            " [0.69683069]\n",
            " [0.78016881]\n",
            " [0.54843585]\n",
            " [0.46467392]\n",
            " [0.57941702]\n",
            " [0.67739188]\n",
            " [0.67403121]\n",
            " [0.83709485]\n",
            " [0.35161369]\n",
            " [0.73308782]\n",
            " [0.64106511]\n",
            " [0.61938363]\n",
            " [0.87872248]\n",
            " [0.78379617]\n",
            " [0.79720794]\n",
            " [0.43084545]\n",
            " [0.59546966]\n",
            " [0.64567619]\n",
            " [0.49655799]\n",
            " [0.5456355 ]\n",
            " [0.76593338]\n",
            " [0.55276255]\n",
            " [0.58027467]\n",
            " [0.65498531]\n",
            " [0.67079169]\n",
            " [0.75962923]\n",
            " [0.51101628]\n",
            " [0.90062815]\n",
            " [0.27458027]\n",
            " [0.60314429]\n",
            " [0.65165387]\n",
            " [0.5524799 ]\n",
            " [0.43836092]\n",
            " [0.82431758]\n",
            " [0.795289  ]\n",
            " [0.26077924]\n",
            " [0.8365652 ]\n",
            " [0.4306584 ]\n",
            " [0.90514235]\n",
            " [0.62274223]\n",
            " [0.56424813]\n",
            " [0.78854263]\n",
            " [0.81875851]\n",
            " [0.72027506]\n",
            " [0.26315745]\n",
            " [0.4413468 ]\n",
            " [0.56319322]\n",
            " [0.67880455]\n",
            " [0.43188501]\n",
            " [0.87604928]\n",
            " [0.65896067]\n",
            " [0.61734353]\n",
            " [0.44037587]\n",
            " [0.34706788]\n",
            " [0.38536788]\n",
            " [0.41464186]]\n"
          ],
          "name": "stdout"
        },
        {
          "output_type": "display_data",
          "data": {
            "image/png": "[encoded data removed]",
            "text/plain": [
              "<Figure size 288x288 with 1 Axes>"
            ]
          },
          "metadata": {
            "tags": []
          }
        }
      ]
    },
    {
      "metadata": {
        "id": "rC6gknPWqqMY",
        "colab_type": "code",
        "colab": {
          "base_uri": "https://localhost:8080/",
          "height": 282
        },
        "outputId": "06cf5bf4-5e39-4dfc-85f1-170bfd0d580f"
      },
      "cell_type": "code",
      "source": [
        "import numpy as np\n",
        "import matplotlib.pyplot as plt\n",
        "%matplotlib inline\n",
        " \n",
        " \n",
        "def draw(x1,x2):\n",
        "  ln=plt.plot(x1,x2)\n",
        " \n",
        "def sigmoid(score):\n",
        "  return 1/(1+np.exp(-score))\n",
        " \n",
        "def calculate_error(line_parameters, points , y):\n",
        "  n=points.shape[0]\n",
        "  p= sigmoid(points*line_parameters)\n",
        "  cross_entropy=-(1/n)*(np.log(p).T*y + np.log(1-p).T*(1-y))\n",
        "  return cross_entropy\n",
        "  \n",
        "n_pts=10\n",
        "np.random.seed(0)\n",
        "bias= np.ones(n_pts)\n",
        "top_region=np.array([np.random.normal(10,2,n_pts), np.random.normal(12,2,n_pts), bias]).T\n",
        "bottom_region= np.array([np.random.normal(5,2, n_pts), np.random.normal(6,2, n_pts), bias]).T\n",
        "all_points=np.vstack((top_region, bottom_region))\n",
        "w1=-0.1\n",
        "w2=-0.15\n",
        "b=2.2\n",
        "line_parameters = np.matrix([w1,w2,b]).T\n",
        "x1=np.array([bottom_region[:,0].min(), top_region[:,0].max()])\n",
        "x2= -b/w2 + (x1*(-w1/w2))\n",
        "y=np.array([np.zeros(n_pts), np.ones(n_pts)]).reshape(n_pts*2, 1)\n",
        " \n",
        "_, ax= plt.subplots(figsize=(4,4))\n",
        "ax.scatter(top_region[:,0], top_region[:,1], color='r')\n",
        "ax.scatter(bottom_region[:,0], bottom_region[:,1], color='b')\n",
        "draw(x1,x2)\n",
        "plt.show()\n",
        " \n",
        "print((calculate_error(line_parameters, all_points, y)))"
      ],
      "execution_count": 8,
      "outputs": [
        {
          "output_type": "display_data",
          "data": {
            "image/png": "[encoded data removed]",
            "text/plain": [
              "<Figure size 288x288 with 1 Axes>"
            ]
          },
          "metadata": {
            "tags": []
          }
        },
        {
          "output_type": "stream",
          "text": [
            "[[0.37438506]]\n"
          ],
          "name": "stdout"
        }
      ]
    },
    {
      "metadata": {
        "id": "4CKAOm6IdR0b",
        "colab_type": "code",
        "colab": {
          "base_uri": "https://localhost:8080/",
          "height": 265
        },
        "outputId": "42da3588-055f-46b3-d005-21c7b3dda63c"
      },
      "cell_type": "code",
      "source": [
        "import numpy as np\n",
        "import matplotlib.pyplot as plt\n",
        "%matplotlib inline\n",
        "def draw(x1,x2):\n",
        "  ln=plt.plot(x1,x2)\n",
        "def sigmoid(score):\n",
        "  return 1/(1+np.exp(-score))\n",
        "def calculate_error(line_parameters, points , y):\n",
        "  n=points.shape[0]\n",
        "  p= sigmoid(points*line_parameters)\n",
        "  cross_entropy=-(1/n)*(np.log(p).T*y + np.log(1-p).T*(1-y))\n",
        "  return cross_entropy\n",
        "def gradient_descent(line_parameters, points, y , alpha):\n",
        "  n=points.shape[0]\n",
        "  for i in range(2000):\n",
        "    p=sigmoid(points*line_parameters)\n",
        "    gradient= points.T*(p-y)*(alpha/n)\n",
        "    line_parameters = line_parameters - gradient\n",
        "    \n",
        "    w1=line_parameters.item(0)\n",
        "    w2=line_parameters.item(1)\n",
        "    b=line_parameters.item(2)\n",
        "    \n",
        "    x1=np.array([points[:,0].min(), points[:,0].max()])\n",
        "    x2= -b/w2 + (x1*(-w1/w2))\n",
        "  draw(x1,x2) \n",
        "  \n",
        "n_pts=100\n",
        "np.random.seed(0)\n",
        "bias= np.ones(n_pts)\n",
        "top_region=np.array([np.random.normal(10,2,n_pts), np.random.normal(12,2,n_pts), bias]).T\n",
        "bottom_region= np.array([np.random.normal(5,2, n_pts), np.random.normal(6,2, n_pts), bias]).T\n",
        "all_points=np.vstack((top_region, bottom_region))\n",
        " \n",
        "line_parameters = np.matrix([np.zeros(3)]).T\n",
        "# x1=np.array([bottom_region[:,0].min(), top_region[:,0].max()])\n",
        "# x2= -b/w2 + (x1*(-w1/w2))\n",
        "y=np.array([np.zeros(n_pts), np.ones(n_pts)]).reshape(n_pts*2, 1)\n",
        " \n",
        "_, ax= plt.subplots(figsize=(4,4))\n",
        "ax.scatter(top_region[:,0], top_region[:,1], color='r')\n",
        "ax.scatter(bottom_region[:,0], bottom_region[:,1], color='b')\n",
        "gradient_descent(line_parameters, all_points, y , 0.06)\n",
        "plt.show()\n"
      ],
      "execution_count": 1,
      "outputs": [
        {
          "output_type": "display_data",
          "data": {
            "image/png": "[encoded data removed]",
            "text/plain": [
              "<Figure size 288x288 with 1 Axes>"
            ]
          },
          "metadata": {
            "tags": []
          }
        }
      ]
    }
  ]
}