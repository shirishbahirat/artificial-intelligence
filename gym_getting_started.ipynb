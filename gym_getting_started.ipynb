{
  "nbformat": 4,
  "nbformat_minor": 0,
  "metadata": {
    "colab": {
      "name": "gym_getting_started.ipynb",
      "version": "0.3.2",
      "provenance": [],
      "include_colab_link": true
    },
    "kernelspec": {
      "name": "python3",
      "display_name": "Python 3"
    }
  },
  "cells": [
    {
      "cell_type": "markdown",
      "metadata": {
        "id": "view-in-github",
        "colab_type": "text"
      },
      "source": [
        "<a href=\"https://colab.research.google.com/github/shirishbahirat/artificial-intelligence/blob/master/gym_getting_started.ipynb\" target=\"_parent\"><img src=\"https://colab.research.google.com/assets/colab-badge.svg\" alt=\"Open In Colab\"/></a>"
      ]
    },
    {
      "metadata": {
        "id": "s7Y2s4n4aJxs",
        "colab_type": "code",
        "colab": {
          "base_uri": "https://localhost:8080/",
          "height": 34
        },
        "outputId": "fce792c9-430c-476f-a57e-5a559c10a62c"
      },
      "cell_type": "code",
      "source": [
        "import gym\n",
        "import numpy as np\n",
        "\n",
        "env = gym.make(\"Taxi-v2\")\n",
        "env.reset()"
      ],
      "execution_count": 1,
      "outputs": [
        {
          "output_type": "execute_result",
          "data": {
            "text/plain": [
              "12"
            ]
          },
          "metadata": {
            "tags": []
          },
          "execution_count": 1
        }
      ]
    },
    {
      "metadata": {
        "id": "iwrnTf-aahIF",
        "colab_type": "code",
        "colab": {
          "base_uri": "https://localhost:8080/",
          "height": 34
        },
        "outputId": "9470bd33-3456-4968-8302-c97b1b688a03"
      },
      "cell_type": "code",
      "source": [
        "env.observation_space.n"
      ],
      "execution_count": 2,
      "outputs": [
        {
          "output_type": "execute_result",
          "data": {
            "text/plain": [
              "500"
            ]
          },
          "metadata": {
            "tags": []
          },
          "execution_count": 2
        }
      ]
    },
    {
      "metadata": {
        "id": "T9xrtl0EamX6",
        "colab_type": "code",
        "colab": {
          "base_uri": "https://localhost:8080/",
          "height": 153
        },
        "outputId": "38735cd5-6125-48ea-a07a-e381f9da2b0e"
      },
      "cell_type": "code",
      "source": [
        "env.render()"
      ],
      "execution_count": 3,
      "outputs": [
        {
          "output_type": "stream",
          "text": [
            "+---------+\n",
            "|\u001b[35m\u001b[43mR\u001b[0m\u001b[0m: | : :G|\n",
            "| : : : : |\n",
            "| : : : : |\n",
            "| | : | : |\n",
            "|Y| : |\u001b[34;1mB\u001b[0m: |\n",
            "+---------+\n",
            "\n"
          ],
          "name": "stdout"
        }
      ]
    },
    {
      "metadata": {
        "id": "8rJL7i6yarnz",
        "colab_type": "code",
        "colab": {
          "base_uri": "https://localhost:8080/",
          "height": 34
        },
        "outputId": "aaed7c34-8e04-4db5-c8e0-71038af3eed7"
      },
      "cell_type": "code",
      "source": [
        "env.action_space.n"
      ],
      "execution_count": 4,
      "outputs": [
        {
          "output_type": "execute_result",
          "data": {
            "text/plain": [
              "6"
            ]
          },
          "metadata": {
            "tags": []
          },
          "execution_count": 4
        }
      ]
    },
    {
      "metadata": {
        "id": "dfXAQ4SXawiD",
        "colab_type": "code",
        "colab": {
          "base_uri": "https://localhost:8080/",
          "height": 153
        },
        "outputId": "19c6f440-1cc1-4a4a-c7de-ff7f54ac224d"
      },
      "cell_type": "code",
      "source": [
        "env.env.s = 114\n",
        "env.render()"
      ],
      "execution_count": 5,
      "outputs": [
        {
          "output_type": "stream",
          "text": [
            "+---------+\n",
            "|R: | : :G|\n",
            "|\u001b[43m \u001b[0m: : : : |\n",
            "| : : : : |\n",
            "| | : | : |\n",
            "|\u001b[35mY\u001b[0m| : |\u001b[34;1mB\u001b[0m: |\n",
            "+---------+\n",
            "\n"
          ],
          "name": "stdout"
        }
      ]
    },
    {
      "metadata": {
        "id": "HRAFS8f6a7aI",
        "colab_type": "code",
        "colab": {}
      },
      "cell_type": "code",
      "source": [
        "env.env.get_action_meanings()"
      ],
      "execution_count": 0,
      "outputs": []
    },
    {
      "metadata": {
        "id": "tQDDNqacbAsr",
        "colab_type": "code",
        "colab": {
          "base_uri": "https://localhost:8080/",
          "height": 34
        },
        "outputId": "3d2064e5-387b-4ac8-c042-7a1ec67a4631"
      },
      "cell_type": "code",
      "source": [
        "env.step(1)"
      ],
      "execution_count": 7,
      "outputs": [
        {
          "output_type": "execute_result",
          "data": {
            "text/plain": [
              "(14, -1, False, {'prob': 1.0})"
            ]
          },
          "metadata": {
            "tags": []
          },
          "execution_count": 7
        }
      ]
    },
    {
      "metadata": {
        "id": "0NvXc0vcbOdg",
        "colab_type": "code",
        "colab": {
          "base_uri": "https://localhost:8080/",
          "height": 153
        },
        "outputId": "5a0d5d2c-22b0-4a78-eb4d-6a76114a6c4e"
      },
      "cell_type": "code",
      "source": [
        "env.render()"
      ],
      "execution_count": 8,
      "outputs": [
        {
          "output_type": "stream",
          "text": [
            "+---------+\n",
            "|\u001b[43mR\u001b[0m: | : :G|\n",
            "| : : : : |\n",
            "| : : : : |\n",
            "| | : | : |\n",
            "|\u001b[35mY\u001b[0m| : |\u001b[34;1mB\u001b[0m: |\n",
            "+---------+\n",
            "  (North)\n"
          ],
          "name": "stdout"
        }
      ]
    },
    {
      "metadata": {
        "id": "F313GrVKbQnB",
        "colab_type": "code",
        "colab": {
          "base_uri": "https://localhost:8080/",
          "height": 34
        },
        "outputId": "b1b4563e-bcd6-426f-9c74-2c01cdc35be3"
      },
      "cell_type": "code",
      "source": [
        "state = env.reset()\n",
        "counter = 0\n",
        "reward = None\n",
        "while reward != 20:\n",
        "    state, reward, done, info = env.step(env.action_space.sample())\n",
        "    counter += 1\n",
        "\n",
        "print(counter)"
      ],
      "execution_count": 9,
      "outputs": [
        {
          "output_type": "stream",
          "text": [
            "2359\n"
          ],
          "name": "stdout"
        }
      ]
    },
    {
      "metadata": {
        "id": "yMvEzPJ2bWwD",
        "colab_type": "code",
        "colab": {}
      },
      "cell_type": "code",
      "source": [
        "Q = np.zeros([env.observation_space.n, env.action_space.n])\n",
        "G = 0\n",
        "alpha = 0.618"
      ],
      "execution_count": 0,
      "outputs": []
    },
    {
      "metadata": {
        "id": "KZMDmUdybajE",
        "colab_type": "code",
        "colab": {
          "base_uri": "https://localhost:8080/",
          "height": 357
        },
        "outputId": "a9237b05-bf98-405c-88c0-63e89d525fb0"
      },
      "cell_type": "code",
      "source": [
        "for episode in range(1,1001):\n",
        "    done = False\n",
        "    G, reward = 0,0\n",
        "    state = env.reset()\n",
        "    while done != True:\n",
        "        action = np.argmax(Q[state]) #1\n",
        "        state2, reward, done, info = env.step(action) #2\n",
        "        Q[state,action] += alpha * (reward + np.max(Q[state2]) - Q[state,action]) #3\n",
        "        G += reward\n",
        "        state = state2    \n",
        "    if episode % 50 == 0:\n",
        "        print('Episode {} Total Reward: {}'.format(episode,G))"
      ],
      "execution_count": 11,
      "outputs": [
        {
          "output_type": "stream",
          "text": [
            "Episode 50 Total Reward: -50\n",
            "Episode 100 Total Reward: -29\n",
            "Episode 150 Total Reward: 6\n",
            "Episode 200 Total Reward: 9\n",
            "Episode 250 Total Reward: -17\n",
            "Episode 300 Total Reward: 3\n",
            "Episode 350 Total Reward: 3\n",
            "Episode 400 Total Reward: 7\n",
            "Episode 450 Total Reward: -2\n",
            "Episode 500 Total Reward: 4\n",
            "Episode 550 Total Reward: 12\n",
            "Episode 600 Total Reward: 8\n",
            "Episode 650 Total Reward: 10\n",
            "Episode 700 Total Reward: 6\n",
            "Episode 750 Total Reward: 4\n",
            "Episode 800 Total Reward: 11\n",
            "Episode 850 Total Reward: 5\n",
            "Episode 900 Total Reward: 4\n",
            "Episode 950 Total Reward: 11\n",
            "Episode 1000 Total Reward: 10\n"
          ],
          "name": "stdout"
        }
      ]
    }
  ]
}