{
  "nbformat": 4,
  "nbformat_minor": 0,
  "metadata": {
    "colab": {
      "name": "word2vex.ipynb",
      "version": "0.3.2",
      "provenance": [],
      "collapsed_sections": [],
      "include_colab_link": true
    },
    "kernelspec": {
      "name": "python3",
      "display_name": "Python 3"
    },
    "accelerator": "GPU"
  },
  "cells": [
    {
      "cell_type": "markdown",
      "metadata": {
        "id": "view-in-github",
        "colab_type": "text"
      },
      "source": [
        "<a href=\"https://colab.research.google.com/github/shirishbahirat/artificial-intelligence/blob/master/word2vex.ipynb\" target=\"_parent\"><img src=\"https://colab.research.google.com/assets/colab-badge.svg\" alt=\"Open In Colab\"/></a>"
      ]
    },
    {
      "metadata": {
        "id": "kS6ZXmFH-b06",
        "colab_type": "code",
        "colab": {
          "base_uri": "https://localhost:8080/",
          "height": 204
        },
        "outputId": "d92951e3-e4bc-4d2f-d741-b526d8e36acc"
      },
      "cell_type": "code",
      "source": [
        "from keras.preprocessing.text import Tokenizer, text_to_word_sequence\n",
        "from keras.preprocessing.sequence import skipgrams\n",
        "\n",
        "text = \"I love green eggs and ham .\"\n",
        "\n",
        "tokenizer = Tokenizer()\n",
        "tokenizer.fit_on_texts([text])\n",
        "\n",
        "word2id = tokenizer.word_index\n",
        "id2word = {v: k for k, v in word2id.items()}\n",
        "\n",
        "wids = [word2id[w] for w in text_to_word_sequence(text)]\n",
        "pairs, labels = skipgrams(wids, len(word2id))\n",
        "print(len(pairs), len(labels))\n",
        "for i in range(10):\n",
        "    print(\"({:s} ({:d}), {:s} ({:d})) -> {:d}\".format(\n",
        "        id2word[pairs[i][0]], pairs[i][0],\n",
        "        id2word[pairs[i][1]], pairs[i][1],\n",
        "        labels[i]))"
      ],
      "execution_count": 4,
      "outputs": [
        {
          "output_type": "stream",
          "text": [
            "56 56\n",
            "(love (2), green (3)) -> 1\n",
            "(love (2), green (3)) -> 0\n",
            "(ham (6), love (2)) -> 1\n",
            "(eggs (4), ham (6)) -> 1\n",
            "(and (5), and (5)) -> 0\n",
            "(i (1), love (2)) -> 1\n",
            "(eggs (4), eggs (4)) -> 0\n",
            "(and (5), love (2)) -> 1\n",
            "(ham (6), i (1)) -> 0\n",
            "(ham (6), green (3)) -> 0\n"
          ],
          "name": "stdout"
        }
      ]
    }
  ]
}