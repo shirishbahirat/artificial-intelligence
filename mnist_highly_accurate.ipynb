{
  "nbformat": 4,
  "nbformat_minor": 0,
  "metadata": {
    "colab": {
      "name": "mnist_highly_accurate.ipynb",
      "version": "0.3.2",
      "provenance": [],
      "collapsed_sections": [],
      "include_colab_link": true
    },
    "kernelspec": {
      "name": "python3",
      "display_name": "Python 3"
    },
    "accelerator": "GPU"
  },
  "cells": [
    {
      "cell_type": "markdown",
      "metadata": {
        "id": "view-in-github",
        "colab_type": "text"
      },
      "source": [
        "<a href=\"https://colab.research.google.com/github/shirishbahirat/artificial-intelligence/blob/master/mnist_highly_accurate.ipynb\" target=\"_parent\"><img src=\"https://colab.research.google.com/assets/colab-badge.svg\" alt=\"Open In Colab\"/></a>"
      ]
    },
    {
      "metadata": {
        "id": "OfycRE9I7tS9",
        "colab_type": "code",
        "colab": {
          "base_uri": "https://localhost:8080/",
          "height": 986
        },
        "outputId": "3b3ef375-183c-4ea1-f0a1-8b2317e22df2"
      },
      "cell_type": "code",
      "source": [
        "from __future__ import absolute_import\n",
        "from __future__ import division\n",
        "from __future__ import print_function\n",
        "\n",
        "import numpy as np\n",
        "from keras.models import Sequential\n",
        "from keras.layers import Dense, Activation, SimpleRNN\n",
        "from keras.utils import to_categorical, plot_model\n",
        "from keras.datasets import mnist\n",
        "\n",
        "# load mnist dataset\n",
        "(x_train, y_train), (x_test, y_test) = mnist.load_data()\n",
        "\n",
        "# compute the number of labels\n",
        "num_labels = len(np.unique(y_train))\n",
        "\n",
        "# convert to one-hot vector\n",
        "y_train = to_categorical(y_train)\n",
        "y_test = to_categorical(y_test)\n",
        "\n",
        "# resize and normalize\n",
        "image_size = x_train.shape[1]\n",
        "x_train = np.reshape(x_train,[-1, image_size, image_size])\n",
        "x_test = np.reshape(x_test,[-1, image_size, image_size])\n",
        "x_train = x_train.astype('float32') / 255\n",
        "x_test = x_test.astype('float32') / 255\n",
        "\n",
        "# network parameters\n",
        "input_shape = (image_size, image_size)\n",
        "batch_size = 128\n",
        "units = 256\n",
        "dropout = 0.2\n",
        "\n",
        "# model is RNN with 256 units, input is 28-dim vector 28 timesteps\n",
        "model = Sequential()\n",
        "model.add(SimpleRNN(units=units,\n",
        "                    dropout=dropout,\n",
        "                    input_shape=input_shape))\n",
        "model.add(Dense(num_labels))\n",
        "model.add(Activation('softmax'))\n",
        "model.summary()\n",
        "plot_model(model, to_file='rnn-mnist.png', show_shapes=True)\n",
        "\n",
        "# loss function for one-hot vector\n",
        "# use of sgd optimizer\n",
        "# accuracy is good metric for classification tasks\n",
        "model.compile(loss='categorical_crossentropy',\n",
        "              optimizer='sgd',\n",
        "              metrics=['accuracy'])\n",
        "# train the network\n",
        "model.fit(x_train, y_train, epochs=20, batch_size=batch_size)\n",
        "\n",
        "loss, acc = model.evaluate(x_test, y_test, batch_size=batch_size)\n",
        "print(\"\\nTest accuracy: %.1f%%\" % (100.0 * acc))"
      ],
      "execution_count": 1,
      "outputs": [
        {
          "output_type": "stream",
          "text": [
            "Using TensorFlow backend.\n"
          ],
          "name": "stderr"
        },
        {
          "output_type": "stream",
          "text": [
            "_________________________________________________________________\n",
            "Layer (type)                 Output Shape              Param #   \n",
            "=================================================================\n",
            "simple_rnn_1 (SimpleRNN)     (None, 256)               72960     \n",
            "_________________________________________________________________\n",
            "dense_1 (Dense)              (None, 10)                2570      \n",
            "_________________________________________________________________\n",
            "activation_1 (Activation)    (None, 10)                0         \n",
            "=================================================================\n",
            "Total params: 75,530\n",
            "Trainable params: 75,530\n",
            "Non-trainable params: 0\n",
            "_________________________________________________________________\n",
            "Epoch 1/20\n",
            "60000/60000 [==============================] - 12s 207us/step - loss: 0.8219 - acc: 0.7591\n",
            "Epoch 2/20\n",
            "60000/60000 [==============================] - 12s 193us/step - loss: 0.3733 - acc: 0.8897\n",
            "Epoch 3/20\n",
            "60000/60000 [==============================] - 12s 192us/step - loss: 0.2722 - acc: 0.9192\n",
            "Epoch 4/20\n",
            "60000/60000 [==============================] - 12s 192us/step - loss: 0.2288 - acc: 0.9314\n",
            "Epoch 5/20\n",
            "60000/60000 [==============================] - 12s 192us/step - loss: 0.2014 - acc: 0.9400\n",
            "Epoch 6/20\n",
            "60000/60000 [==============================] - 12s 192us/step - loss: 0.1754 - acc: 0.9472\n",
            "Epoch 7/20\n",
            "60000/60000 [==============================] - 11s 191us/step - loss: 0.1623 - acc: 0.9515\n",
            "Epoch 8/20\n",
            "60000/60000 [==============================] - 11s 191us/step - loss: 0.1520 - acc: 0.9542\n",
            "Epoch 9/20\n",
            "60000/60000 [==============================] - 11s 191us/step - loss: 0.1402 - acc: 0.9577\n",
            "Epoch 10/20\n",
            "60000/60000 [==============================] - 11s 190us/step - loss: 0.1327 - acc: 0.9599\n",
            "Epoch 11/20\n",
            "60000/60000 [==============================] - 11s 190us/step - loss: 0.1263 - acc: 0.9618\n",
            "Epoch 12/20\n",
            "60000/60000 [==============================] - 11s 191us/step - loss: 0.1204 - acc: 0.9638\n",
            "Epoch 13/20\n",
            "60000/60000 [==============================] - 11s 190us/step - loss: 0.1131 - acc: 0.9651\n",
            "Epoch 14/20\n",
            "60000/60000 [==============================] - 11s 190us/step - loss: 0.1090 - acc: 0.9665\n",
            "Epoch 15/20\n",
            "60000/60000 [==============================] - 11s 190us/step - loss: 0.1047 - acc: 0.9674\n",
            "Epoch 16/20\n",
            "60000/60000 [==============================] - 11s 190us/step - loss: 0.1011 - acc: 0.9685\n",
            "Epoch 17/20\n",
            "60000/60000 [==============================] - 11s 190us/step - loss: 0.1008 - acc: 0.9693\n",
            "Epoch 18/20\n",
            "60000/60000 [==============================] - 12s 193us/step - loss: 0.0954 - acc: 0.9709\n",
            "Epoch 19/20\n",
            "60000/60000 [==============================] - 11s 190us/step - loss: 0.0930 - acc: 0.9715\n",
            "Epoch 20/20\n",
            "60000/60000 [==============================] - 11s 190us/step - loss: 0.0897 - acc: 0.9719\n",
            "10000/10000 [==============================] - 1s 116us/step\n",
            "\n",
            "Test accuracy: 97.9%\n"
          ],
          "name": "stdout"
        }
      ]
    }
  ]
}