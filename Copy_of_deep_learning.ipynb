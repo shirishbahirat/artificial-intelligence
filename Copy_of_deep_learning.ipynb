{
  "nbformat": 4,
  "nbformat_minor": 0,
  "metadata": {
    "colab": {
      "name": "Copy of deep_learning.ipynb",
      "version": "0.3.2",
      "provenance": [],
      "collapsed_sections": [],
      "include_colab_link": true
    },
    "kernelspec": {
      "name": "python3",
      "display_name": "Python 3"
    }
  },
  "cells": [
    {
      "cell_type": "markdown",
      "metadata": {
        "id": "view-in-github",
        "colab_type": "text"
      },
      "source": [
        "<a href=\"https://colab.research.google.com/github/shirishbahirat/artificial-intelligence/blob/master/Copy_of_deep_learning.ipynb\" target=\"_parent\"><img src=\"https://colab.research.google.com/assets/colab-badge.svg\" alt=\"Open In Colab\"/></a>"
      ]
    },
    {
      "metadata": {
        "id": "2TnBUmMR0y5L",
        "colab_type": "code",
        "colab": {}
      },
      "cell_type": "code",
      "source": [
        "import tensorflow as tf"
      ],
      "execution_count": 0,
      "outputs": []
    },
    {
      "metadata": {
        "id": "9pRcU7Vnt48F",
        "colab_type": "code",
        "colab": {
          "base_uri": "https://localhost:8080/",
          "height": 34
        },
        "outputId": "a6a0ce5d-9df4-4846-a837-a5a4441e74a5"
      },
      "cell_type": "code",
      "source": [
        "with tf.Session() as sess:\n",
        "  a = tf.constant(15, name='a')\n",
        "  b = tf.constant(5, name='b')\n",
        "  prod = tf.multiply(a,b, name='Multiply')\n",
        "  sum = tf.add(a,b, name='Add')\n",
        "  res = tf.divide(prod, sum, name='Divide')\n",
        "  out=sess.run(res)\n",
        "  print(out)\n",
        "  "
      ],
      "execution_count": 32,
      "outputs": [
        {
          "output_type": "stream",
          "text": [
            "3.75\n"
          ],
          "name": "stdout"
        }
      ]
    },
    {
      "metadata": {
        "id": "nPs3asjMxCPw",
        "colab_type": "code",
        "colab": {}
      },
      "cell_type": "code",
      "source": [
        "class Graph():\n",
        "  def __init__(self):\n",
        "    self.operations = []\n",
        "    self.placeholders = []\n",
        "    self.variables = []\n",
        "    self.constants = []\n",
        "\n",
        "  def as_default(self):\n",
        "    global _default_graph\n",
        "    _default_graph = self\n",
        "    \n",
        "class Operation():\n",
        "  def __init__(self, input_nodes=None):\n",
        "    self.input_nodes = input_nodes\n",
        "    self.output = None\n",
        "    \n",
        "    # Append operation to the list of operations of the default graph\n",
        "    _default_graph.operations.append(self)\n",
        "\n",
        "  def forward(self):\n",
        "    pass\n",
        "\n",
        "  def backward(self):\n",
        "    pass\n",
        "\n",
        "  \n",
        "class BinaryOperation(Operation):\n",
        "  def __init__(self, a, b):\n",
        "    super().__init__([a, b])\n",
        "  \n",
        "class add(BinaryOperation):\n",
        "  \"\"\"\n",
        "  Computes a + b, element-wise\n",
        "  \"\"\"\n",
        "  def forward(self, a, b):\n",
        "    return a + b\n",
        "\n",
        "  def backward(self, upstream_grad):\n",
        "    raise NotImplementedError\n",
        "\n",
        "class multiply(BinaryOperation):\n",
        "  \"\"\"\n",
        "  Computes a * b, element-wise\n",
        "  \"\"\"\n",
        "  def forward(self, a, b):\n",
        "    return a * b\n",
        "\n",
        "  def backward(self, upstream_grad):\n",
        "    raise NotImplementedError\n",
        "\n",
        "class divide(BinaryOperation):\n",
        "  \"\"\"\n",
        "  Returns the true division of the inputs, element-wise\n",
        "  \"\"\"\n",
        "  def forward(self, a, b):\n",
        "    return np.true_divide(a, b)\n",
        "\n",
        "  def backward(self, upstream_grad):\n",
        "    raise NotImplementedError\n",
        "\n",
        "class matmul(BinaryOperation):\n",
        "  \"\"\"\n",
        "  Multiplies matrix a by matrix b, producing a * b\n",
        "  \"\"\"\n",
        "  def forward(self, a, b):\n",
        "    return a.dot(b)\n",
        "\n",
        "  def backward(self, upstream_grad):\n",
        "    raise NotImplementedError\n",
        "\n",
        "class Placeholder():\n",
        "  def __init__(self):\n",
        "    self.value = None\n",
        "    _default_graph.placeholders.append(self)\n",
        "    \n",
        "class Constant():\n",
        "  def __init__(self, value=None):\n",
        "    self.__value = value\n",
        "    _default_graph.constants.append(self)\n",
        "\n",
        "  @property\n",
        "  def value(self):\n",
        "    return self.__value\n",
        "\n",
        "  @value.setter\n",
        "  def value(self, value):\n",
        "    raise ValueError(\"Cannot reassign value.\")\n",
        "    \n",
        "class Variable():\n",
        "  def __init__(self, initial_value=None):\n",
        "    self.value = initial_value\n",
        "    _default_graph.variables.append(self)\n",
        "    \n",
        "def topology_sort(operation):\n",
        "    ordering = []\n",
        "    visited_nodes = set()\n",
        "\n",
        "    def recursive_helper(node):\n",
        "      if isinstance(node, Operation):\n",
        "        for input_node in node.input_nodes:\n",
        "          if input_node not in visited_nodes:\n",
        "            recursive_helper(input_node)\n",
        "\n",
        "      visited_nodes.add(node)\n",
        "      ordering.append(node)\n",
        "\n",
        "    # start recursive depth-first search\n",
        "    recursive_helper(operation)\n",
        "\n",
        "    return ordering\n",
        "  \n",
        "class Session():\n",
        "  def run(self, operation, feed_dict={}):\n",
        "    nodes_sorted = topology_sort(operation)\n",
        "\n",
        "    for node in nodes_sorted:\n",
        "      if type(node) == Placeholder:\n",
        "        node.output = feed_dict[node]\n",
        "      elif type(node) == Variable or type(node) == Constant:\n",
        "        node.output = node.value\n",
        "      else:\n",
        "        inputs = [node.output for node in node.input_nodes]\n",
        "        node.output = node.forward(*inputs)\n",
        "\n",
        "    return operation.output\n"
      ],
      "execution_count": 0,
      "outputs": []
    },
    {
      "metadata": {
        "id": "D99Yg7eYy2Fu",
        "colab_type": "code",
        "colab": {
          "base_uri": "https://localhost:8080/",
          "height": 368
        },
        "outputId": "9d72f8a7-785d-4176-d610-0444ec4b5351"
      },
      "cell_type": "code",
      "source": [
        "import tf_api as tf\n",
        "\n",
        "# create default graph\n",
        "tf.Graph().as_default()\n",
        "\n",
        "# construct computational graph by creating some nodes\n",
        "a = tf.Constant(15)\n",
        "b = tf.Constant(5)\n",
        "prod = tf.multiply(a, b)\n",
        "sum = tf.add(a, b)\n",
        "res = tf.divide(prod, sum)\n",
        "\n",
        "# create a session object\n",
        "session = tf.Session()\n",
        "\n",
        "# run computational graph to compute the output for 'res'\n",
        "out = session.run(res)\n",
        "print(out)"
      ],
      "execution_count": 30,
      "outputs": [
        {
          "output_type": "error",
          "ename": "ModuleNotFoundError",
          "evalue": "ignored",
          "traceback": [
            "\u001b[0;31m---------------------------------------------------------------------------\u001b[0m",
            "\u001b[0;31mModuleNotFoundError\u001b[0m                       Traceback (most recent call last)",
            "\u001b[0;32m<ipython-input-30-42e69a97040f>\u001b[0m in \u001b[0;36m<module>\u001b[0;34m()\u001b[0m\n\u001b[0;32m----> 1\u001b[0;31m \u001b[0;32mimport\u001b[0m \u001b[0mtf_api\u001b[0m \u001b[0;32mas\u001b[0m \u001b[0mtf\u001b[0m\u001b[0;34m\u001b[0m\u001b[0;34m\u001b[0m\u001b[0m\n\u001b[0m\u001b[1;32m      2\u001b[0m \u001b[0;34m\u001b[0m\u001b[0m\n\u001b[1;32m      3\u001b[0m \u001b[0;31m# create default graph\u001b[0m\u001b[0;34m\u001b[0m\u001b[0;34m\u001b[0m\u001b[0;34m\u001b[0m\u001b[0m\n\u001b[1;32m      4\u001b[0m \u001b[0mtf\u001b[0m\u001b[0;34m.\u001b[0m\u001b[0mGraph\u001b[0m\u001b[0;34m(\u001b[0m\u001b[0;34m)\u001b[0m\u001b[0;34m.\u001b[0m\u001b[0mas_default\u001b[0m\u001b[0;34m(\u001b[0m\u001b[0;34m)\u001b[0m\u001b[0;34m\u001b[0m\u001b[0;34m\u001b[0m\u001b[0m\n\u001b[1;32m      5\u001b[0m \u001b[0;34m\u001b[0m\u001b[0m\n",
            "\u001b[0;31mModuleNotFoundError\u001b[0m: No module named 'tf_api'",
            "",
            "\u001b[0;31m---------------------------------------------------------------------------\u001b[0;32m\nNOTE: If your import is failing due to a missing package, you can\nmanually install dependencies using either !pip or !apt.\n\nTo view examples of installing some common dependencies, click the\n\"Open Examples\" button below.\n\u001b[0;31m---------------------------------------------------------------------------\u001b[0m\n"
          ]
        }
      ]
    },
    {
      "metadata": {
        "id": "9HzuWUzq3UbM",
        "colab_type": "text"
      },
      "cell_type": "markdown",
      "source": [
        "# New Section"
      ]
    },
    {
      "metadata": {
        "id": "IkJIkZU80RMx",
        "colab_type": "code",
        "colab": {}
      },
      "cell_type": "code",
      "source": [
        "ls"
      ],
      "execution_count": 0,
      "outputs": []
    }
  ]
}