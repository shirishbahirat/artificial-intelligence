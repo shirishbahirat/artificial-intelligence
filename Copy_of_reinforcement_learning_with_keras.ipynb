{
  "nbformat": 4,
  "nbformat_minor": 0,
  "metadata": {
    "colab": {
      "name": "Copy of reinforcement_learning_with_keras.ipynb",
      "version": "0.3.2",
      "provenance": [],
      "collapsed_sections": [],
      "include_colab_link": true
    },
    "kernelspec": {
      "name": "python3",
      "display_name": "Python 3"
    },
    "accelerator": "GPU"
  },
  "cells": [
    {
      "cell_type": "markdown",
      "metadata": {
        "id": "view-in-github",
        "colab_type": "text"
      },
      "source": [
        "<a href=\"https://colab.research.google.com/github/shirishbahirat/artificial-intelligence/blob/master/Copy_of_reinforcement_learning_with_keras.ipynb\" target=\"_parent\"><img src=\"https://colab.research.google.com/assets/colab-badge.svg\" alt=\"Open In Colab\"/></a>"
      ]
    },
    {
      "metadata": {
        "id": "55uOJxDAVnB3",
        "colab_type": "code",
        "colab": {
          "base_uri": "https://localhost:8080/",
          "height": 17034
        },
        "outputId": "72b773f7-4101-432c-f0ac-e3af1c1cbd8a"
      },
      "cell_type": "code",
      "source": [
        "import json\n",
        "import numpy as np\n",
        "from keras.models import Sequential\n",
        "from keras.layers.core import Dense\n",
        "from keras.optimizers import sgd\n",
        "\n",
        "\n",
        "class Catch(object):\n",
        "    def __init__(self, grid_size=10):\n",
        "        self.grid_size = grid_size\n",
        "        self.reset()\n",
        "\n",
        "    def _update_state(self, action):\n",
        "        \"\"\"\n",
        "        Input: action and states\n",
        "        Ouput: new states and reward\n",
        "        \"\"\"\n",
        "        state = self.state\n",
        "        if action == 0:  # left\n",
        "            action = -1\n",
        "        elif action == 1:  # stay\n",
        "            action = 0\n",
        "        else:\n",
        "            action = 1  # right\n",
        "        f0, f1, basket = state[0]\n",
        "        new_basket = min(max(1, basket + action), self.grid_size-1)\n",
        "        f0 += 1\n",
        "        out = np.asarray([f0, f1, new_basket])\n",
        "        out = out[np.newaxis]\n",
        "\n",
        "        assert len(out.shape) == 2\n",
        "        self.state = out\n",
        "\n",
        "    def _draw_state(self):\n",
        "        im_size = (self.grid_size,)*2\n",
        "        state = self.state[0]\n",
        "        canvas = np.zeros(im_size)\n",
        "        canvas[state[0], state[1]] = 1  # draw fruit\n",
        "        canvas[-1, state[2]-1:state[2] + 2] = 1  # draw basket\n",
        "        return canvas\n",
        "\n",
        "    def _get_reward(self):\n",
        "        fruit_row, fruit_col, basket = self.state[0]\n",
        "        if fruit_row == self.grid_size-1:\n",
        "            if abs(fruit_col - basket) <= 1:\n",
        "                return 1\n",
        "            else:\n",
        "                return -1\n",
        "        else:\n",
        "            return 0\n",
        "\n",
        "    def _is_over(self):\n",
        "        if self.state[0, 0] == self.grid_size-1:\n",
        "            return True\n",
        "        else:\n",
        "            return False\n",
        "\n",
        "    def observe(self):\n",
        "        canvas = self._draw_state()\n",
        "        return canvas.reshape((1, -1))\n",
        "\n",
        "    def act(self, action):\n",
        "        self._update_state(action)\n",
        "        reward = self._get_reward()\n",
        "        game_over = self._is_over()\n",
        "        return self.observe(), reward, game_over\n",
        "\n",
        "    def reset(self):\n",
        "        n = np.random.randint(0, self.grid_size-1, size=1)\n",
        "        m = np.random.randint(1, self.grid_size-2, size=1)\n",
        "        self.state = np.asarray([0, n, m])[np.newaxis]\n",
        "\n",
        "\n",
        "class ExperienceReplay(object):\n",
        "    def __init__(self, max_memory=100, discount=.9):\n",
        "        self.max_memory = max_memory\n",
        "        self.memory = list()\n",
        "        self.discount = discount\n",
        "\n",
        "    def remember(self, states, game_over):\n",
        "        # memory[i] = [[state_t, action_t, reward_t, state_t+1], game_over?]\n",
        "        self.memory.append([states, game_over])\n",
        "        if len(self.memory) > self.max_memory:\n",
        "            del self.memory[0]\n",
        "\n",
        "    def get_batch(self, model, batch_size=10):\n",
        "        len_memory = len(self.memory)\n",
        "        num_actions = model.output_shape[-1]\n",
        "        env_dim = self.memory[0][0][0].shape[1]\n",
        "        inputs = np.zeros((min(len_memory, batch_size), env_dim))\n",
        "        targets = np.zeros((inputs.shape[0], num_actions))\n",
        "        for i, idx in enumerate(np.random.randint(0, len_memory,\n",
        "                                                  size=inputs.shape[0])):\n",
        "            state_t, action_t, reward_t, state_tp1 = self.memory[idx][0]\n",
        "            game_over = self.memory[idx][1]\n",
        "\n",
        "            inputs[i:i+1] = state_t\n",
        "            # There should be no target values for actions not taken.\n",
        "            # Thou shalt not correct actions not taken #deep\n",
        "            targets[i] = model.predict(state_t)[0]\n",
        "            Q_sa = np.max(model.predict(state_tp1)[0])\n",
        "            if game_over:  # if game_over is True\n",
        "                targets[i, action_t] = reward_t\n",
        "            else:\n",
        "                # reward_t + gamma * max_a' Q(s', a')\n",
        "                targets[i, action_t] = reward_t + self.discount * Q_sa\n",
        "        return inputs, targets\n",
        "\n",
        "\n",
        "if __name__ == \"__main__\":\n",
        "    # parameters\n",
        "    epsilon = .1  # exploration\n",
        "    num_actions = 3  # [move_left, stay, move_right]\n",
        "    epoch = 1000\n",
        "    max_memory = 500\n",
        "    hidden_size = 100\n",
        "    batch_size = 50\n",
        "    grid_size = 10\n",
        "\n",
        "    model = Sequential()\n",
        "    model.add(Dense(hidden_size, input_shape=(grid_size**2,), activation='relu'))\n",
        "    model.add(Dense(hidden_size, activation='relu'))\n",
        "    model.add(Dense(num_actions))\n",
        "    model.compile(sgd(lr=.2), \"mse\")\n",
        "\n",
        "    # If you want to continue training from a previous model, just uncomment the line bellow\n",
        "    # model.load_weights(\"model.h5\")\n",
        "\n",
        "    # Define environment/game\n",
        "    env = Catch(grid_size)\n",
        "\n",
        "    # Initialize experience replay object\n",
        "    exp_replay = ExperienceReplay(max_memory=max_memory)\n",
        "\n",
        "    # Train\n",
        "    win_cnt = 0\n",
        "    for e in range(epoch):\n",
        "        loss = 0.\n",
        "        env.reset()\n",
        "        game_over = False\n",
        "        # get initial input\n",
        "        input_t = env.observe()\n",
        "\n",
        "        while not game_over:\n",
        "            input_tm1 = input_t\n",
        "            # get next action\n",
        "            if np.random.rand() <= epsilon:\n",
        "                action = np.random.randint(0, num_actions, size=1)\n",
        "            else:\n",
        "                q = model.predict(input_tm1)\n",
        "                action = np.argmax(q[0])\n",
        "\n",
        "            # apply action, get rewards and new state\n",
        "            input_t, reward, game_over = env.act(action)\n",
        "            if reward == 1:\n",
        "                win_cnt += 1\n",
        "\n",
        "            # store experience\n",
        "            exp_replay.remember([input_tm1, action, reward, input_t], game_over)\n",
        "\n",
        "            # adapt model\n",
        "            inputs, targets = exp_replay.get_batch(model, batch_size=batch_size)\n",
        "\n",
        "            loss += model.train_on_batch(inputs, targets)\n",
        "        print(\"Epoch {:03d}/999 | Loss {:.4f} | Win count {}\".format(e, loss, win_cnt))\n",
        "\n",
        "    # Save trained model weights and architecture, this will be used by the visualization code\n",
        "    model.save_weights(\"model.h5\", overwrite=True)\n",
        "    with open(\"model.json\", \"w\") as outfile:\n",
        "        json.dump(model.to_json(), outfile)"
      ],
      "execution_count": 1,
      "outputs": [
        {
          "output_type": "stream",
          "text": [
            "Using TensorFlow backend.\n"
          ],
          "name": "stderr"
        },
        {
          "output_type": "stream",
          "text": [
            "Epoch 000/999 | Loss 0.0428 | Win count 1\n",
            "Epoch 001/999 | Loss 0.1621 | Win count 1\n",
            "Epoch 002/999 | Loss 0.1569 | Win count 1\n",
            "Epoch 003/999 | Loss 0.2843 | Win count 1\n",
            "Epoch 004/999 | Loss 0.3078 | Win count 1\n",
            "Epoch 005/999 | Loss 0.2878 | Win count 2\n",
            "Epoch 006/999 | Loss 0.1913 | Win count 2\n",
            "Epoch 007/999 | Loss 0.2502 | Win count 3\n",
            "Epoch 008/999 | Loss 0.1976 | Win count 4\n",
            "Epoch 009/999 | Loss 0.1979 | Win count 4\n",
            "Epoch 010/999 | Loss 0.2803 | Win count 4\n",
            "Epoch 011/999 | Loss 0.1675 | Win count 5\n",
            "Epoch 012/999 | Loss 0.2298 | Win count 5\n",
            "Epoch 013/999 | Loss 0.2205 | Win count 6\n",
            "Epoch 014/999 | Loss 0.2377 | Win count 7\n",
            "Epoch 015/999 | Loss 0.2200 | Win count 7\n",
            "Epoch 016/999 | Loss 0.2419 | Win count 8\n",
            "Epoch 017/999 | Loss 0.2491 | Win count 8\n",
            "Epoch 018/999 | Loss 0.2321 | Win count 9\n",
            "Epoch 019/999 | Loss 0.1822 | Win count 9\n",
            "Epoch 020/999 | Loss 0.2359 | Win count 10\n",
            "Epoch 021/999 | Loss 0.2502 | Win count 10\n",
            "Epoch 022/999 | Loss 0.2430 | Win count 11\n",
            "Epoch 023/999 | Loss 0.2009 | Win count 12\n",
            "Epoch 024/999 | Loss 0.2087 | Win count 13\n",
            "Epoch 025/999 | Loss 0.2204 | Win count 13\n",
            "Epoch 026/999 | Loss 0.1878 | Win count 14\n",
            "Epoch 027/999 | Loss 0.1829 | Win count 15\n",
            "Epoch 028/999 | Loss 0.1881 | Win count 16\n",
            "Epoch 029/999 | Loss 0.1724 | Win count 16\n",
            "Epoch 030/999 | Loss 0.1909 | Win count 16\n",
            "Epoch 031/999 | Loss 0.2630 | Win count 17\n",
            "Epoch 032/999 | Loss 0.1726 | Win count 18\n",
            "Epoch 033/999 | Loss 0.1773 | Win count 18\n",
            "Epoch 034/999 | Loss 0.1593 | Win count 18\n",
            "Epoch 035/999 | Loss 0.1735 | Win count 18\n",
            "Epoch 036/999 | Loss 0.2157 | Win count 18\n",
            "Epoch 037/999 | Loss 0.1764 | Win count 19\n",
            "Epoch 038/999 | Loss 0.1405 | Win count 20\n",
            "Epoch 039/999 | Loss 0.1543 | Win count 21\n",
            "Epoch 040/999 | Loss 0.1642 | Win count 22\n",
            "Epoch 041/999 | Loss 0.1692 | Win count 22\n",
            "Epoch 042/999 | Loss 0.1819 | Win count 23\n",
            "Epoch 043/999 | Loss 0.1565 | Win count 24\n",
            "Epoch 044/999 | Loss 0.1322 | Win count 24\n",
            "Epoch 045/999 | Loss 0.1562 | Win count 24\n",
            "Epoch 046/999 | Loss 0.1703 | Win count 24\n",
            "Epoch 047/999 | Loss 0.2218 | Win count 25\n",
            "Epoch 048/999 | Loss 0.1701 | Win count 25\n",
            "Epoch 049/999 | Loss 0.1729 | Win count 26\n",
            "Epoch 050/999 | Loss 0.1719 | Win count 27\n",
            "Epoch 051/999 | Loss 0.1393 | Win count 28\n",
            "Epoch 052/999 | Loss 0.1266 | Win count 28\n",
            "Epoch 053/999 | Loss 0.1531 | Win count 28\n",
            "Epoch 054/999 | Loss 0.1176 | Win count 29\n",
            "Epoch 055/999 | Loss 0.1373 | Win count 29\n",
            "Epoch 056/999 | Loss 0.1609 | Win count 30\n",
            "Epoch 057/999 | Loss 0.1151 | Win count 31\n",
            "Epoch 058/999 | Loss 0.1644 | Win count 31\n",
            "Epoch 059/999 | Loss 0.1264 | Win count 31\n",
            "Epoch 060/999 | Loss 0.1498 | Win count 32\n",
            "Epoch 061/999 | Loss 0.1952 | Win count 32\n",
            "Epoch 062/999 | Loss 0.1687 | Win count 32\n",
            "Epoch 063/999 | Loss 0.1804 | Win count 33\n",
            "Epoch 064/999 | Loss 0.1716 | Win count 33\n",
            "Epoch 065/999 | Loss 0.1376 | Win count 34\n",
            "Epoch 066/999 | Loss 0.1743 | Win count 34\n",
            "Epoch 067/999 | Loss 0.1571 | Win count 34\n",
            "Epoch 068/999 | Loss 0.1756 | Win count 34\n",
            "Epoch 069/999 | Loss 0.1953 | Win count 35\n",
            "Epoch 070/999 | Loss 0.1900 | Win count 36\n",
            "Epoch 071/999 | Loss 0.1356 | Win count 37\n",
            "Epoch 072/999 | Loss 0.1534 | Win count 37\n",
            "Epoch 073/999 | Loss 0.1182 | Win count 38\n",
            "Epoch 074/999 | Loss 0.1592 | Win count 38\n",
            "Epoch 075/999 | Loss 0.1229 | Win count 39\n",
            "Epoch 076/999 | Loss 0.1624 | Win count 39\n",
            "Epoch 077/999 | Loss 0.1290 | Win count 40\n",
            "Epoch 078/999 | Loss 0.1373 | Win count 41\n",
            "Epoch 079/999 | Loss 0.1838 | Win count 42\n",
            "Epoch 080/999 | Loss 0.1684 | Win count 43\n",
            "Epoch 081/999 | Loss 0.1580 | Win count 44\n",
            "Epoch 082/999 | Loss 0.1061 | Win count 44\n",
            "Epoch 083/999 | Loss 0.1815 | Win count 45\n",
            "Epoch 084/999 | Loss 0.1467 | Win count 46\n",
            "Epoch 085/999 | Loss 0.1367 | Win count 46\n",
            "Epoch 086/999 | Loss 0.1304 | Win count 47\n",
            "Epoch 087/999 | Loss 0.1157 | Win count 48\n",
            "Epoch 088/999 | Loss 0.1295 | Win count 49\n",
            "Epoch 089/999 | Loss 0.1512 | Win count 50\n",
            "Epoch 090/999 | Loss 0.1541 | Win count 51\n",
            "Epoch 091/999 | Loss 0.1662 | Win count 52\n",
            "Epoch 092/999 | Loss 0.1765 | Win count 52\n",
            "Epoch 093/999 | Loss 0.1983 | Win count 52\n",
            "Epoch 094/999 | Loss 0.1430 | Win count 52\n",
            "Epoch 095/999 | Loss 0.1855 | Win count 52\n",
            "Epoch 096/999 | Loss 0.1494 | Win count 52\n",
            "Epoch 097/999 | Loss 0.1270 | Win count 52\n",
            "Epoch 098/999 | Loss 0.1658 | Win count 52\n",
            "Epoch 099/999 | Loss 0.1720 | Win count 52\n",
            "Epoch 100/999 | Loss 0.2166 | Win count 53\n",
            "Epoch 101/999 | Loss 0.1380 | Win count 53\n",
            "Epoch 102/999 | Loss 0.1903 | Win count 53\n",
            "Epoch 103/999 | Loss 0.1795 | Win count 53\n",
            "Epoch 104/999 | Loss 0.2891 | Win count 54\n",
            "Epoch 105/999 | Loss 0.1742 | Win count 54\n",
            "Epoch 106/999 | Loss 0.1985 | Win count 54\n",
            "Epoch 107/999 | Loss 0.2300 | Win count 55\n",
            "Epoch 108/999 | Loss 0.2014 | Win count 55\n",
            "Epoch 109/999 | Loss 0.1916 | Win count 55\n",
            "Epoch 110/999 | Loss 0.2020 | Win count 55\n",
            "Epoch 111/999 | Loss 0.2520 | Win count 56\n",
            "Epoch 112/999 | Loss 0.1454 | Win count 57\n",
            "Epoch 113/999 | Loss 0.2531 | Win count 57\n",
            "Epoch 114/999 | Loss 0.1643 | Win count 58\n",
            "Epoch 115/999 | Loss 0.2110 | Win count 59\n",
            "Epoch 116/999 | Loss 0.1946 | Win count 60\n",
            "Epoch 117/999 | Loss 0.1579 | Win count 60\n",
            "Epoch 118/999 | Loss 0.1699 | Win count 60\n",
            "Epoch 119/999 | Loss 0.2090 | Win count 61\n",
            "Epoch 120/999 | Loss 0.1404 | Win count 62\n",
            "Epoch 121/999 | Loss 0.1551 | Win count 63\n",
            "Epoch 122/999 | Loss 0.1631 | Win count 64\n",
            "Epoch 123/999 | Loss 0.1575 | Win count 65\n",
            "Epoch 124/999 | Loss 0.1797 | Win count 66\n",
            "Epoch 125/999 | Loss 0.1292 | Win count 66\n",
            "Epoch 126/999 | Loss 0.1593 | Win count 67\n",
            "Epoch 127/999 | Loss 0.1483 | Win count 67\n",
            "Epoch 128/999 | Loss 0.1691 | Win count 68\n",
            "Epoch 129/999 | Loss 0.1920 | Win count 69\n",
            "Epoch 130/999 | Loss 0.1176 | Win count 70\n",
            "Epoch 131/999 | Loss 0.1219 | Win count 71\n",
            "Epoch 132/999 | Loss 0.2001 | Win count 72\n",
            "Epoch 133/999 | Loss 0.1353 | Win count 73\n",
            "Epoch 134/999 | Loss 0.1275 | Win count 73\n",
            "Epoch 135/999 | Loss 0.1092 | Win count 74\n",
            "Epoch 136/999 | Loss 0.1520 | Win count 74\n",
            "Epoch 137/999 | Loss 0.1097 | Win count 75\n",
            "Epoch 138/999 | Loss 0.1420 | Win count 75\n",
            "Epoch 139/999 | Loss 0.1350 | Win count 76\n",
            "Epoch 140/999 | Loss 0.1144 | Win count 76\n",
            "Epoch 141/999 | Loss 0.1121 | Win count 77\n",
            "Epoch 142/999 | Loss 0.1370 | Win count 77\n",
            "Epoch 143/999 | Loss 0.1561 | Win count 78\n",
            "Epoch 144/999 | Loss 0.1482 | Win count 78\n",
            "Epoch 145/999 | Loss 0.1166 | Win count 79\n",
            "Epoch 146/999 | Loss 0.1127 | Win count 80\n",
            "Epoch 147/999 | Loss 0.1256 | Win count 81\n",
            "Epoch 148/999 | Loss 0.0988 | Win count 81\n",
            "Epoch 149/999 | Loss 0.1121 | Win count 82\n",
            "Epoch 150/999 | Loss 0.1319 | Win count 83\n",
            "Epoch 151/999 | Loss 0.1365 | Win count 84\n",
            "Epoch 152/999 | Loss 0.1307 | Win count 85\n",
            "Epoch 153/999 | Loss 0.1254 | Win count 85\n",
            "Epoch 154/999 | Loss 0.1004 | Win count 85\n",
            "Epoch 155/999 | Loss 0.1080 | Win count 86\n",
            "Epoch 156/999 | Loss 0.1187 | Win count 86\n",
            "Epoch 157/999 | Loss 0.1260 | Win count 87\n",
            "Epoch 158/999 | Loss 0.1291 | Win count 88\n",
            "Epoch 159/999 | Loss 0.0937 | Win count 89\n",
            "Epoch 160/999 | Loss 0.1409 | Win count 90\n",
            "Epoch 161/999 | Loss 0.1210 | Win count 91\n",
            "Epoch 162/999 | Loss 0.0795 | Win count 92\n",
            "Epoch 163/999 | Loss 0.1282 | Win count 93\n",
            "Epoch 164/999 | Loss 0.0947 | Win count 94\n",
            "Epoch 165/999 | Loss 0.0827 | Win count 95\n",
            "Epoch 166/999 | Loss 0.0866 | Win count 96\n",
            "Epoch 167/999 | Loss 0.1333 | Win count 97\n",
            "Epoch 168/999 | Loss 0.0996 | Win count 98\n",
            "Epoch 169/999 | Loss 0.0853 | Win count 99\n",
            "Epoch 170/999 | Loss 0.0932 | Win count 99\n",
            "Epoch 171/999 | Loss 0.1055 | Win count 99\n",
            "Epoch 172/999 | Loss 0.1004 | Win count 99\n",
            "Epoch 173/999 | Loss 0.0968 | Win count 100\n",
            "Epoch 174/999 | Loss 0.0971 | Win count 100\n",
            "Epoch 175/999 | Loss 0.1216 | Win count 100\n",
            "Epoch 176/999 | Loss 0.0805 | Win count 100\n",
            "Epoch 177/999 | Loss 0.1099 | Win count 100\n",
            "Epoch 178/999 | Loss 0.1082 | Win count 101\n",
            "Epoch 179/999 | Loss 0.1041 | Win count 102\n",
            "Epoch 180/999 | Loss 0.0913 | Win count 103\n",
            "Epoch 181/999 | Loss 0.0834 | Win count 103\n",
            "Epoch 182/999 | Loss 0.0909 | Win count 104\n",
            "Epoch 183/999 | Loss 0.0972 | Win count 104\n",
            "Epoch 184/999 | Loss 0.0968 | Win count 105\n",
            "Epoch 185/999 | Loss 0.1145 | Win count 105\n",
            "Epoch 186/999 | Loss 0.0807 | Win count 106\n",
            "Epoch 187/999 | Loss 0.0817 | Win count 106\n",
            "Epoch 188/999 | Loss 0.0743 | Win count 106\n",
            "Epoch 189/999 | Loss 0.0652 | Win count 106\n",
            "Epoch 190/999 | Loss 0.0831 | Win count 106\n",
            "Epoch 191/999 | Loss 0.0825 | Win count 106\n",
            "Epoch 192/999 | Loss 0.0737 | Win count 107\n",
            "Epoch 193/999 | Loss 0.0945 | Win count 108\n",
            "Epoch 194/999 | Loss 0.1026 | Win count 108\n",
            "Epoch 195/999 | Loss 0.1047 | Win count 109\n",
            "Epoch 196/999 | Loss 0.1027 | Win count 109\n",
            "Epoch 197/999 | Loss 0.0777 | Win count 109\n",
            "Epoch 198/999 | Loss 0.0859 | Win count 110\n",
            "Epoch 199/999 | Loss 0.1072 | Win count 111\n",
            "Epoch 200/999 | Loss 0.0947 | Win count 111\n",
            "Epoch 201/999 | Loss 0.0786 | Win count 111\n",
            "Epoch 202/999 | Loss 0.0730 | Win count 112\n",
            "Epoch 203/999 | Loss 0.0943 | Win count 112\n",
            "Epoch 204/999 | Loss 0.0705 | Win count 113\n",
            "Epoch 205/999 | Loss 0.0816 | Win count 114\n",
            "Epoch 206/999 | Loss 0.0839 | Win count 114\n",
            "Epoch 207/999 | Loss 0.0829 | Win count 115\n",
            "Epoch 208/999 | Loss 0.0719 | Win count 116\n",
            "Epoch 209/999 | Loss 0.0624 | Win count 116\n",
            "Epoch 210/999 | Loss 0.0884 | Win count 117\n",
            "Epoch 211/999 | Loss 0.0768 | Win count 117\n",
            "Epoch 212/999 | Loss 0.0845 | Win count 117\n",
            "Epoch 213/999 | Loss 0.0706 | Win count 117\n",
            "Epoch 214/999 | Loss 0.0727 | Win count 117\n",
            "Epoch 215/999 | Loss 0.0788 | Win count 117\n",
            "Epoch 216/999 | Loss 0.0620 | Win count 117\n",
            "Epoch 217/999 | Loss 0.0740 | Win count 118\n",
            "Epoch 218/999 | Loss 0.0786 | Win count 118\n",
            "Epoch 219/999 | Loss 0.0704 | Win count 119\n",
            "Epoch 220/999 | Loss 0.0773 | Win count 119\n",
            "Epoch 221/999 | Loss 0.0657 | Win count 119\n",
            "Epoch 222/999 | Loss 0.0722 | Win count 119\n",
            "Epoch 223/999 | Loss 0.0619 | Win count 119\n",
            "Epoch 224/999 | Loss 0.0601 | Win count 120\n",
            "Epoch 225/999 | Loss 0.0842 | Win count 121\n",
            "Epoch 226/999 | Loss 0.0613 | Win count 122\n",
            "Epoch 227/999 | Loss 0.0560 | Win count 122\n",
            "Epoch 228/999 | Loss 0.0521 | Win count 123\n",
            "Epoch 229/999 | Loss 0.0587 | Win count 124\n",
            "Epoch 230/999 | Loss 0.0426 | Win count 125\n",
            "Epoch 231/999 | Loss 0.0474 | Win count 126\n",
            "Epoch 232/999 | Loss 0.0661 | Win count 127\n",
            "Epoch 233/999 | Loss 0.0533 | Win count 127\n",
            "Epoch 234/999 | Loss 0.0513 | Win count 128\n",
            "Epoch 235/999 | Loss 0.0680 | Win count 129\n",
            "Epoch 236/999 | Loss 0.0737 | Win count 130\n",
            "Epoch 237/999 | Loss 0.0627 | Win count 131\n",
            "Epoch 238/999 | Loss 0.0517 | Win count 132\n",
            "Epoch 239/999 | Loss 0.0502 | Win count 133\n",
            "Epoch 240/999 | Loss 0.0604 | Win count 134\n",
            "Epoch 241/999 | Loss 0.0553 | Win count 135\n",
            "Epoch 242/999 | Loss 0.0668 | Win count 136\n",
            "Epoch 243/999 | Loss 0.0551 | Win count 136\n",
            "Epoch 244/999 | Loss 0.0732 | Win count 137\n",
            "Epoch 245/999 | Loss 0.0692 | Win count 138\n",
            "Epoch 246/999 | Loss 0.0548 | Win count 139\n",
            "Epoch 247/999 | Loss 0.0552 | Win count 140\n",
            "Epoch 248/999 | Loss 0.0497 | Win count 140\n",
            "Epoch 249/999 | Loss 0.0722 | Win count 140\n",
            "Epoch 250/999 | Loss 0.0601 | Win count 140\n",
            "Epoch 251/999 | Loss 0.0591 | Win count 140\n",
            "Epoch 252/999 | Loss 0.0736 | Win count 140\n",
            "Epoch 253/999 | Loss 0.0805 | Win count 141\n",
            "Epoch 254/999 | Loss 0.0542 | Win count 142\n",
            "Epoch 255/999 | Loss 0.0933 | Win count 143\n",
            "Epoch 256/999 | Loss 0.0684 | Win count 143\n",
            "Epoch 257/999 | Loss 0.0450 | Win count 143\n",
            "Epoch 258/999 | Loss 0.0488 | Win count 143\n",
            "Epoch 259/999 | Loss 0.0637 | Win count 144\n",
            "Epoch 260/999 | Loss 0.1049 | Win count 144\n",
            "Epoch 261/999 | Loss 0.0921 | Win count 144\n",
            "Epoch 262/999 | Loss 0.1330 | Win count 145\n",
            "Epoch 263/999 | Loss 0.1132 | Win count 146\n",
            "Epoch 264/999 | Loss 0.0685 | Win count 147\n",
            "Epoch 265/999 | Loss 0.0642 | Win count 148\n",
            "Epoch 266/999 | Loss 0.1183 | Win count 149\n",
            "Epoch 267/999 | Loss 0.0947 | Win count 150\n",
            "Epoch 268/999 | Loss 0.0596 | Win count 150\n",
            "Epoch 269/999 | Loss 0.0709 | Win count 151\n",
            "Epoch 270/999 | Loss 0.0727 | Win count 151\n",
            "Epoch 271/999 | Loss 0.0669 | Win count 152\n",
            "Epoch 272/999 | Loss 0.0621 | Win count 152\n",
            "Epoch 273/999 | Loss 0.0807 | Win count 153\n",
            "Epoch 274/999 | Loss 0.0630 | Win count 154\n",
            "Epoch 275/999 | Loss 0.0729 | Win count 154\n",
            "Epoch 276/999 | Loss 0.0702 | Win count 155\n",
            "Epoch 277/999 | Loss 0.0636 | Win count 156\n",
            "Epoch 278/999 | Loss 0.1262 | Win count 157\n",
            "Epoch 279/999 | Loss 0.0758 | Win count 158\n",
            "Epoch 280/999 | Loss 0.0776 | Win count 159\n",
            "Epoch 281/999 | Loss 0.0940 | Win count 160\n",
            "Epoch 282/999 | Loss 0.0540 | Win count 160\n",
            "Epoch 283/999 | Loss 0.0885 | Win count 161\n",
            "Epoch 284/999 | Loss 0.0887 | Win count 162\n",
            "Epoch 285/999 | Loss 0.0853 | Win count 163\n",
            "Epoch 286/999 | Loss 0.0783 | Win count 164\n",
            "Epoch 287/999 | Loss 0.0722 | Win count 165\n",
            "Epoch 288/999 | Loss 0.0763 | Win count 166\n",
            "Epoch 289/999 | Loss 0.0735 | Win count 166\n",
            "Epoch 290/999 | Loss 0.1015 | Win count 167\n",
            "Epoch 291/999 | Loss 0.0694 | Win count 168\n",
            "Epoch 292/999 | Loss 0.1037 | Win count 169\n",
            "Epoch 293/999 | Loss 0.0758 | Win count 170\n",
            "Epoch 294/999 | Loss 0.0728 | Win count 170\n",
            "Epoch 295/999 | Loss 0.0686 | Win count 171\n",
            "Epoch 296/999 | Loss 0.0776 | Win count 172\n",
            "Epoch 297/999 | Loss 0.0722 | Win count 173\n",
            "Epoch 298/999 | Loss 0.0468 | Win count 174\n",
            "Epoch 299/999 | Loss 0.0756 | Win count 175\n",
            "Epoch 300/999 | Loss 0.0676 | Win count 176\n",
            "Epoch 301/999 | Loss 0.0594 | Win count 177\n",
            "Epoch 302/999 | Loss 0.0599 | Win count 178\n",
            "Epoch 303/999 | Loss 0.0619 | Win count 178\n",
            "Epoch 304/999 | Loss 0.0576 | Win count 179\n",
            "Epoch 305/999 | Loss 0.0554 | Win count 180\n",
            "Epoch 306/999 | Loss 0.0528 | Win count 181\n",
            "Epoch 307/999 | Loss 0.0541 | Win count 182\n",
            "Epoch 308/999 | Loss 0.0584 | Win count 183\n",
            "Epoch 309/999 | Loss 0.0472 | Win count 184\n",
            "Epoch 310/999 | Loss 0.0382 | Win count 184\n",
            "Epoch 311/999 | Loss 0.0407 | Win count 185\n",
            "Epoch 312/999 | Loss 0.0397 | Win count 186\n",
            "Epoch 313/999 | Loss 0.0385 | Win count 187\n",
            "Epoch 314/999 | Loss 0.0357 | Win count 188\n",
            "Epoch 315/999 | Loss 0.0557 | Win count 188\n",
            "Epoch 316/999 | Loss 0.0441 | Win count 189\n",
            "Epoch 317/999 | Loss 0.0435 | Win count 190\n",
            "Epoch 318/999 | Loss 0.0638 | Win count 191\n",
            "Epoch 319/999 | Loss 0.0701 | Win count 192\n",
            "Epoch 320/999 | Loss 0.0554 | Win count 192\n",
            "Epoch 321/999 | Loss 0.0731 | Win count 192\n",
            "Epoch 322/999 | Loss 0.0521 | Win count 193\n",
            "Epoch 323/999 | Loss 0.0736 | Win count 193\n",
            "Epoch 324/999 | Loss 0.0715 | Win count 194\n",
            "Epoch 325/999 | Loss 0.0823 | Win count 194\n",
            "Epoch 326/999 | Loss 0.1373 | Win count 195\n",
            "Epoch 327/999 | Loss 0.1128 | Win count 195\n",
            "Epoch 328/999 | Loss 0.0898 | Win count 196\n",
            "Epoch 329/999 | Loss 0.0878 | Win count 197\n",
            "Epoch 330/999 | Loss 0.1196 | Win count 198\n",
            "Epoch 331/999 | Loss 0.0599 | Win count 198\n",
            "Epoch 332/999 | Loss 0.0817 | Win count 199\n",
            "Epoch 333/999 | Loss 0.0949 | Win count 200\n",
            "Epoch 334/999 | Loss 0.0958 | Win count 201\n",
            "Epoch 335/999 | Loss 0.0817 | Win count 202\n",
            "Epoch 336/999 | Loss 0.0922 | Win count 203\n",
            "Epoch 337/999 | Loss 0.0863 | Win count 204\n",
            "Epoch 338/999 | Loss 0.0770 | Win count 205\n",
            "Epoch 339/999 | Loss 0.0515 | Win count 205\n",
            "Epoch 340/999 | Loss 0.0772 | Win count 206\n",
            "Epoch 341/999 | Loss 0.0696 | Win count 207\n",
            "Epoch 342/999 | Loss 0.0757 | Win count 208\n",
            "Epoch 343/999 | Loss 0.0830 | Win count 209\n",
            "Epoch 344/999 | Loss 0.0567 | Win count 210\n",
            "Epoch 345/999 | Loss 0.0628 | Win count 211\n",
            "Epoch 346/999 | Loss 0.0608 | Win count 211\n",
            "Epoch 347/999 | Loss 0.0592 | Win count 212\n",
            "Epoch 348/999 | Loss 0.0597 | Win count 213\n",
            "Epoch 349/999 | Loss 0.0571 | Win count 213\n",
            "Epoch 350/999 | Loss 0.1091 | Win count 214\n",
            "Epoch 351/999 | Loss 0.0881 | Win count 214\n",
            "Epoch 352/999 | Loss 0.0709 | Win count 215\n",
            "Epoch 353/999 | Loss 0.1292 | Win count 215\n",
            "Epoch 354/999 | Loss 0.0822 | Win count 216\n",
            "Epoch 355/999 | Loss 0.1085 | Win count 217\n",
            "Epoch 356/999 | Loss 0.0710 | Win count 218\n",
            "Epoch 357/999 | Loss 0.1067 | Win count 219\n",
            "Epoch 358/999 | Loss 0.0561 | Win count 220\n",
            "Epoch 359/999 | Loss 0.0695 | Win count 221\n",
            "Epoch 360/999 | Loss 0.0670 | Win count 222\n",
            "Epoch 361/999 | Loss 0.0483 | Win count 223\n",
            "Epoch 362/999 | Loss 0.0853 | Win count 224\n",
            "Epoch 363/999 | Loss 0.0709 | Win count 225\n",
            "Epoch 364/999 | Loss 0.0631 | Win count 226\n",
            "Epoch 365/999 | Loss 0.0865 | Win count 227\n",
            "Epoch 366/999 | Loss 0.0571 | Win count 228\n",
            "Epoch 367/999 | Loss 0.0617 | Win count 228\n",
            "Epoch 368/999 | Loss 0.0646 | Win count 229\n",
            "Epoch 369/999 | Loss 0.0555 | Win count 230\n",
            "Epoch 370/999 | Loss 0.0511 | Win count 231\n",
            "Epoch 371/999 | Loss 0.0618 | Win count 232\n",
            "Epoch 372/999 | Loss 0.0517 | Win count 233\n",
            "Epoch 373/999 | Loss 0.0563 | Win count 233\n",
            "Epoch 374/999 | Loss 0.0461 | Win count 234\n",
            "Epoch 375/999 | Loss 0.0501 | Win count 235\n",
            "Epoch 376/999 | Loss 0.0554 | Win count 236\n",
            "Epoch 377/999 | Loss 0.0511 | Win count 237\n",
            "Epoch 378/999 | Loss 0.0484 | Win count 238\n",
            "Epoch 379/999 | Loss 0.0478 | Win count 239\n",
            "Epoch 380/999 | Loss 0.0479 | Win count 240\n",
            "Epoch 381/999 | Loss 0.0389 | Win count 241\n",
            "Epoch 382/999 | Loss 0.0339 | Win count 242\n",
            "Epoch 383/999 | Loss 0.0412 | Win count 243\n",
            "Epoch 384/999 | Loss 0.0347 | Win count 244\n",
            "Epoch 385/999 | Loss 0.0343 | Win count 245\n",
            "Epoch 386/999 | Loss 0.0339 | Win count 245\n",
            "Epoch 387/999 | Loss 0.0442 | Win count 246\n",
            "Epoch 388/999 | Loss 0.0358 | Win count 247\n",
            "Epoch 389/999 | Loss 0.0459 | Win count 248\n",
            "Epoch 390/999 | Loss 0.0385 | Win count 249\n",
            "Epoch 391/999 | Loss 0.0434 | Win count 249\n",
            "Epoch 392/999 | Loss 0.0656 | Win count 250\n",
            "Epoch 393/999 | Loss 0.0442 | Win count 250\n",
            "Epoch 394/999 | Loss 0.0455 | Win count 251\n",
            "Epoch 395/999 | Loss 0.0315 | Win count 251\n",
            "Epoch 396/999 | Loss 0.0486 | Win count 252\n",
            "Epoch 397/999 | Loss 0.0458 | Win count 253\n",
            "Epoch 398/999 | Loss 0.0500 | Win count 254\n",
            "Epoch 399/999 | Loss 0.0563 | Win count 254\n",
            "Epoch 400/999 | Loss 0.0346 | Win count 255\n",
            "Epoch 401/999 | Loss 0.0484 | Win count 256\n",
            "Epoch 402/999 | Loss 0.0419 | Win count 257\n",
            "Epoch 403/999 | Loss 0.0368 | Win count 258\n",
            "Epoch 404/999 | Loss 0.0286 | Win count 259\n",
            "Epoch 405/999 | Loss 0.0380 | Win count 260\n",
            "Epoch 406/999 | Loss 0.0360 | Win count 260\n",
            "Epoch 407/999 | Loss 0.0312 | Win count 261\n",
            "Epoch 408/999 | Loss 0.0441 | Win count 262\n",
            "Epoch 409/999 | Loss 0.0369 | Win count 263\n",
            "Epoch 410/999 | Loss 0.0309 | Win count 263\n",
            "Epoch 411/999 | Loss 0.0281 | Win count 264\n",
            "Epoch 412/999 | Loss 0.0261 | Win count 265\n",
            "Epoch 413/999 | Loss 0.0318 | Win count 266\n",
            "Epoch 414/999 | Loss 0.0272 | Win count 267\n",
            "Epoch 415/999 | Loss 0.0222 | Win count 268\n",
            "Epoch 416/999 | Loss 0.0208 | Win count 269\n",
            "Epoch 417/999 | Loss 0.0285 | Win count 270\n",
            "Epoch 418/999 | Loss 0.0248 | Win count 271\n",
            "Epoch 419/999 | Loss 0.0329 | Win count 272\n",
            "Epoch 420/999 | Loss 0.0268 | Win count 273\n",
            "Epoch 421/999 | Loss 0.0359 | Win count 274\n",
            "Epoch 422/999 | Loss 0.0259 | Win count 275\n",
            "Epoch 423/999 | Loss 0.0301 | Win count 276\n",
            "Epoch 424/999 | Loss 0.0248 | Win count 277\n",
            "Epoch 425/999 | Loss 0.0221 | Win count 277\n",
            "Epoch 426/999 | Loss 0.0465 | Win count 278\n",
            "Epoch 427/999 | Loss 0.0316 | Win count 279\n",
            "Epoch 428/999 | Loss 0.0273 | Win count 280\n",
            "Epoch 429/999 | Loss 0.0318 | Win count 280\n",
            "Epoch 430/999 | Loss 0.0417 | Win count 281\n",
            "Epoch 431/999 | Loss 0.0515 | Win count 281\n",
            "Epoch 432/999 | Loss 0.0515 | Win count 282\n",
            "Epoch 433/999 | Loss 0.0374 | Win count 282\n",
            "Epoch 434/999 | Loss 0.0308 | Win count 283\n",
            "Epoch 435/999 | Loss 0.0386 | Win count 284\n",
            "Epoch 436/999 | Loss 0.0469 | Win count 284\n",
            "Epoch 437/999 | Loss 0.0516 | Win count 285\n",
            "Epoch 438/999 | Loss 0.0322 | Win count 286\n",
            "Epoch 439/999 | Loss 0.0473 | Win count 287\n",
            "Epoch 440/999 | Loss 0.0387 | Win count 288\n",
            "Epoch 441/999 | Loss 0.0351 | Win count 289\n",
            "Epoch 442/999 | Loss 0.0303 | Win count 290\n",
            "Epoch 443/999 | Loss 0.0380 | Win count 290\n",
            "Epoch 444/999 | Loss 0.0350 | Win count 291\n",
            "Epoch 445/999 | Loss 0.0353 | Win count 292\n",
            "Epoch 446/999 | Loss 0.0372 | Win count 293\n",
            "Epoch 447/999 | Loss 0.0307 | Win count 294\n",
            "Epoch 448/999 | Loss 0.0263 | Win count 295\n",
            "Epoch 449/999 | Loss 0.0331 | Win count 296\n",
            "Epoch 450/999 | Loss 0.0257 | Win count 297\n",
            "Epoch 451/999 | Loss 0.0307 | Win count 298\n",
            "Epoch 452/999 | Loss 0.0216 | Win count 299\n",
            "Epoch 453/999 | Loss 0.0253 | Win count 300\n",
            "Epoch 454/999 | Loss 0.0219 | Win count 301\n",
            "Epoch 455/999 | Loss 0.0197 | Win count 302\n",
            "Epoch 456/999 | Loss 0.0231 | Win count 303\n",
            "Epoch 457/999 | Loss 0.0230 | Win count 304\n",
            "Epoch 458/999 | Loss 0.0223 | Win count 304\n",
            "Epoch 459/999 | Loss 0.0237 | Win count 305\n",
            "Epoch 460/999 | Loss 0.0181 | Win count 306\n",
            "Epoch 461/999 | Loss 0.0235 | Win count 306\n",
            "Epoch 462/999 | Loss 0.0302 | Win count 307\n",
            "Epoch 463/999 | Loss 0.0293 | Win count 308\n",
            "Epoch 464/999 | Loss 0.0198 | Win count 309\n",
            "Epoch 465/999 | Loss 0.0189 | Win count 310\n",
            "Epoch 466/999 | Loss 0.0232 | Win count 311\n",
            "Epoch 467/999 | Loss 0.0193 | Win count 312\n",
            "Epoch 468/999 | Loss 0.0172 | Win count 313\n",
            "Epoch 469/999 | Loss 0.0197 | Win count 314\n",
            "Epoch 470/999 | Loss 0.0191 | Win count 315\n",
            "Epoch 471/999 | Loss 0.0169 | Win count 316\n",
            "Epoch 472/999 | Loss 0.0226 | Win count 317\n",
            "Epoch 473/999 | Loss 0.0141 | Win count 318\n",
            "Epoch 474/999 | Loss 0.0145 | Win count 319\n",
            "Epoch 475/999 | Loss 0.0187 | Win count 320\n",
            "Epoch 476/999 | Loss 0.0260 | Win count 321\n",
            "Epoch 477/999 | Loss 0.0216 | Win count 322\n",
            "Epoch 478/999 | Loss 0.0180 | Win count 323\n",
            "Epoch 479/999 | Loss 0.0149 | Win count 324\n",
            "Epoch 480/999 | Loss 0.0140 | Win count 325\n",
            "Epoch 481/999 | Loss 0.0181 | Win count 326\n",
            "Epoch 482/999 | Loss 0.0139 | Win count 327\n",
            "Epoch 483/999 | Loss 0.0128 | Win count 328\n",
            "Epoch 484/999 | Loss 0.0255 | Win count 329\n",
            "Epoch 485/999 | Loss 0.0163 | Win count 330\n",
            "Epoch 486/999 | Loss 0.0217 | Win count 331\n",
            "Epoch 487/999 | Loss 0.0172 | Win count 332\n",
            "Epoch 488/999 | Loss 0.0170 | Win count 333\n",
            "Epoch 489/999 | Loss 0.0137 | Win count 334\n",
            "Epoch 490/999 | Loss 0.0155 | Win count 335\n",
            "Epoch 491/999 | Loss 0.0139 | Win count 336\n",
            "Epoch 492/999 | Loss 0.0169 | Win count 337\n",
            "Epoch 493/999 | Loss 0.0151 | Win count 338\n",
            "Epoch 494/999 | Loss 0.0113 | Win count 339\n",
            "Epoch 495/999 | Loss 0.0134 | Win count 340\n",
            "Epoch 496/999 | Loss 0.0144 | Win count 340\n",
            "Epoch 497/999 | Loss 0.0194 | Win count 341\n",
            "Epoch 498/999 | Loss 0.0107 | Win count 342\n",
            "Epoch 499/999 | Loss 0.0121 | Win count 343\n",
            "Epoch 500/999 | Loss 0.0179 | Win count 344\n",
            "Epoch 501/999 | Loss 0.0132 | Win count 345\n",
            "Epoch 502/999 | Loss 0.0151 | Win count 346\n",
            "Epoch 503/999 | Loss 0.0098 | Win count 347\n",
            "Epoch 504/999 | Loss 0.0100 | Win count 347\n",
            "Epoch 505/999 | Loss 0.0274 | Win count 348\n",
            "Epoch 506/999 | Loss 0.0184 | Win count 349\n",
            "Epoch 507/999 | Loss 0.0202 | Win count 350\n",
            "Epoch 508/999 | Loss 0.0198 | Win count 351\n",
            "Epoch 509/999 | Loss 0.0128 | Win count 352\n",
            "Epoch 510/999 | Loss 0.0146 | Win count 353\n",
            "Epoch 511/999 | Loss 0.0131 | Win count 354\n",
            "Epoch 512/999 | Loss 0.0197 | Win count 355\n",
            "Epoch 513/999 | Loss 0.0106 | Win count 356\n",
            "Epoch 514/999 | Loss 0.0151 | Win count 356\n",
            "Epoch 515/999 | Loss 0.0090 | Win count 357\n",
            "Epoch 516/999 | Loss 0.0162 | Win count 358\n",
            "Epoch 517/999 | Loss 0.0118 | Win count 359\n",
            "Epoch 518/999 | Loss 0.0139 | Win count 360\n",
            "Epoch 519/999 | Loss 0.0132 | Win count 361\n",
            "Epoch 520/999 | Loss 0.0156 | Win count 362\n",
            "Epoch 521/999 | Loss 0.0115 | Win count 363\n",
            "Epoch 522/999 | Loss 0.0105 | Win count 364\n",
            "Epoch 523/999 | Loss 0.0132 | Win count 365\n",
            "Epoch 524/999 | Loss 0.0120 | Win count 365\n",
            "Epoch 525/999 | Loss 0.0116 | Win count 366\n",
            "Epoch 526/999 | Loss 0.0134 | Win count 367\n",
            "Epoch 527/999 | Loss 0.0086 | Win count 368\n",
            "Epoch 528/999 | Loss 0.0168 | Win count 369\n",
            "Epoch 529/999 | Loss 0.0106 | Win count 370\n",
            "Epoch 530/999 | Loss 0.0158 | Win count 371\n",
            "Epoch 531/999 | Loss 0.0103 | Win count 372\n",
            "Epoch 532/999 | Loss 0.0136 | Win count 373\n",
            "Epoch 533/999 | Loss 0.0148 | Win count 374\n",
            "Epoch 534/999 | Loss 0.0143 | Win count 375\n",
            "Epoch 535/999 | Loss 0.0181 | Win count 376\n",
            "Epoch 536/999 | Loss 0.0087 | Win count 377\n",
            "Epoch 537/999 | Loss 0.0078 | Win count 378\n",
            "Epoch 538/999 | Loss 0.0094 | Win count 379\n",
            "Epoch 539/999 | Loss 0.0110 | Win count 380\n",
            "Epoch 540/999 | Loss 0.0118 | Win count 380\n",
            "Epoch 541/999 | Loss 0.0111 | Win count 381\n",
            "Epoch 542/999 | Loss 0.0173 | Win count 382\n",
            "Epoch 543/999 | Loss 0.0137 | Win count 382\n",
            "Epoch 544/999 | Loss 0.0135 | Win count 383\n",
            "Epoch 545/999 | Loss 0.0170 | Win count 384\n",
            "Epoch 546/999 | Loss 0.0296 | Win count 385\n",
            "Epoch 547/999 | Loss 0.0125 | Win count 385\n",
            "Epoch 548/999 | Loss 0.0370 | Win count 386\n",
            "Epoch 549/999 | Loss 0.0260 | Win count 387\n",
            "Epoch 550/999 | Loss 0.0154 | Win count 388\n",
            "Epoch 551/999 | Loss 0.0100 | Win count 389\n",
            "Epoch 552/999 | Loss 0.0247 | Win count 390\n",
            "Epoch 553/999 | Loss 0.0225 | Win count 391\n",
            "Epoch 554/999 | Loss 0.0243 | Win count 392\n",
            "Epoch 555/999 | Loss 0.0202 | Win count 393\n",
            "Epoch 556/999 | Loss 0.0277 | Win count 394\n",
            "Epoch 557/999 | Loss 0.0386 | Win count 395\n",
            "Epoch 558/999 | Loss 0.0222 | Win count 396\n",
            "Epoch 559/999 | Loss 0.0292 | Win count 397\n",
            "Epoch 560/999 | Loss 0.0140 | Win count 398\n",
            "Epoch 561/999 | Loss 0.0236 | Win count 399\n",
            "Epoch 562/999 | Loss 0.0164 | Win count 400\n",
            "Epoch 563/999 | Loss 0.0139 | Win count 401\n",
            "Epoch 564/999 | Loss 0.0119 | Win count 402\n",
            "Epoch 565/999 | Loss 0.0130 | Win count 403\n",
            "Epoch 566/999 | Loss 0.0062 | Win count 404\n",
            "Epoch 567/999 | Loss 0.0077 | Win count 405\n",
            "Epoch 568/999 | Loss 0.0053 | Win count 406\n",
            "Epoch 569/999 | Loss 0.0086 | Win count 407\n",
            "Epoch 570/999 | Loss 0.0090 | Win count 408\n",
            "Epoch 571/999 | Loss 0.0088 | Win count 409\n",
            "Epoch 572/999 | Loss 0.0089 | Win count 410\n",
            "Epoch 573/999 | Loss 0.0162 | Win count 411\n",
            "Epoch 574/999 | Loss 0.0081 | Win count 412\n",
            "Epoch 575/999 | Loss 0.0156 | Win count 413\n",
            "Epoch 576/999 | Loss 0.0122 | Win count 414\n",
            "Epoch 577/999 | Loss 0.0094 | Win count 415\n",
            "Epoch 578/999 | Loss 0.0108 | Win count 416\n",
            "Epoch 579/999 | Loss 0.0085 | Win count 417\n",
            "Epoch 580/999 | Loss 0.0106 | Win count 418\n",
            "Epoch 581/999 | Loss 0.0077 | Win count 419\n",
            "Epoch 582/999 | Loss 0.0081 | Win count 420\n",
            "Epoch 583/999 | Loss 0.0126 | Win count 421\n",
            "Epoch 584/999 | Loss 0.0102 | Win count 422\n",
            "Epoch 585/999 | Loss 0.0089 | Win count 423\n",
            "Epoch 586/999 | Loss 0.0058 | Win count 424\n",
            "Epoch 587/999 | Loss 0.0067 | Win count 425\n",
            "Epoch 588/999 | Loss 0.0111 | Win count 426\n",
            "Epoch 589/999 | Loss 0.0077 | Win count 427\n",
            "Epoch 590/999 | Loss 0.0076 | Win count 428\n",
            "Epoch 591/999 | Loss 0.0097 | Win count 429\n",
            "Epoch 592/999 | Loss 0.0051 | Win count 430\n",
            "Epoch 593/999 | Loss 0.0074 | Win count 431\n",
            "Epoch 594/999 | Loss 0.0072 | Win count 432\n",
            "Epoch 595/999 | Loss 0.0065 | Win count 433\n",
            "Epoch 596/999 | Loss 0.0048 | Win count 433\n",
            "Epoch 597/999 | Loss 0.0046 | Win count 434\n",
            "Epoch 598/999 | Loss 0.0059 | Win count 434\n",
            "Epoch 599/999 | Loss 0.0081 | Win count 434\n",
            "Epoch 600/999 | Loss 0.0293 | Win count 435\n",
            "Epoch 601/999 | Loss 0.0087 | Win count 436\n",
            "Epoch 602/999 | Loss 0.0149 | Win count 437\n",
            "Epoch 603/999 | Loss 0.0251 | Win count 438\n",
            "Epoch 604/999 | Loss 0.0187 | Win count 439\n",
            "Epoch 605/999 | Loss 0.0079 | Win count 440\n",
            "Epoch 606/999 | Loss 0.0083 | Win count 441\n",
            "Epoch 607/999 | Loss 0.0229 | Win count 442\n",
            "Epoch 608/999 | Loss 0.0095 | Win count 443\n",
            "Epoch 609/999 | Loss 0.0093 | Win count 444\n",
            "Epoch 610/999 | Loss 0.0083 | Win count 445\n",
            "Epoch 611/999 | Loss 0.0056 | Win count 446\n",
            "Epoch 612/999 | Loss 0.0113 | Win count 447\n",
            "Epoch 613/999 | Loss 0.0100 | Win count 448\n",
            "Epoch 614/999 | Loss 0.0148 | Win count 449\n",
            "Epoch 615/999 | Loss 0.0126 | Win count 450\n",
            "Epoch 616/999 | Loss 0.0101 | Win count 451\n",
            "Epoch 617/999 | Loss 0.0129 | Win count 452\n",
            "Epoch 618/999 | Loss 0.0077 | Win count 453\n",
            "Epoch 619/999 | Loss 0.0046 | Win count 454\n",
            "Epoch 620/999 | Loss 0.0072 | Win count 455\n",
            "Epoch 621/999 | Loss 0.0149 | Win count 456\n",
            "Epoch 622/999 | Loss 0.0103 | Win count 457\n",
            "Epoch 623/999 | Loss 0.0074 | Win count 458\n",
            "Epoch 624/999 | Loss 0.0080 | Win count 458\n",
            "Epoch 625/999 | Loss 0.0148 | Win count 459\n",
            "Epoch 626/999 | Loss 0.0099 | Win count 460\n",
            "Epoch 627/999 | Loss 0.0111 | Win count 461\n",
            "Epoch 628/999 | Loss 0.0074 | Win count 462\n",
            "Epoch 629/999 | Loss 0.0065 | Win count 463\n",
            "Epoch 630/999 | Loss 0.0058 | Win count 464\n",
            "Epoch 631/999 | Loss 0.0061 | Win count 465\n",
            "Epoch 632/999 | Loss 0.0088 | Win count 466\n",
            "Epoch 633/999 | Loss 0.0075 | Win count 467\n",
            "Epoch 634/999 | Loss 0.0121 | Win count 468\n",
            "Epoch 635/999 | Loss 0.0072 | Win count 469\n",
            "Epoch 636/999 | Loss 0.0102 | Win count 470\n",
            "Epoch 637/999 | Loss 0.0058 | Win count 471\n",
            "Epoch 638/999 | Loss 0.0117 | Win count 472\n",
            "Epoch 639/999 | Loss 0.0116 | Win count 473\n",
            "Epoch 640/999 | Loss 0.0071 | Win count 474\n",
            "Epoch 641/999 | Loss 0.0067 | Win count 475\n",
            "Epoch 642/999 | Loss 0.0140 | Win count 476\n",
            "Epoch 643/999 | Loss 0.0105 | Win count 477\n",
            "Epoch 644/999 | Loss 0.0095 | Win count 478\n",
            "Epoch 645/999 | Loss 0.0092 | Win count 479\n",
            "Epoch 646/999 | Loss 0.0091 | Win count 480\n",
            "Epoch 647/999 | Loss 0.0086 | Win count 481\n",
            "Epoch 648/999 | Loss 0.0052 | Win count 482\n",
            "Epoch 649/999 | Loss 0.0064 | Win count 483\n",
            "Epoch 650/999 | Loss 0.0077 | Win count 484\n",
            "Epoch 651/999 | Loss 0.0072 | Win count 485\n",
            "Epoch 652/999 | Loss 0.0067 | Win count 486\n",
            "Epoch 653/999 | Loss 0.0068 | Win count 487\n",
            "Epoch 654/999 | Loss 0.0091 | Win count 488\n",
            "Epoch 655/999 | Loss 0.0093 | Win count 489\n",
            "Epoch 656/999 | Loss 0.0045 | Win count 490\n",
            "Epoch 657/999 | Loss 0.0042 | Win count 491\n",
            "Epoch 658/999 | Loss 0.0056 | Win count 492\n",
            "Epoch 659/999 | Loss 0.0052 | Win count 493\n",
            "Epoch 660/999 | Loss 0.0096 | Win count 493\n",
            "Epoch 661/999 | Loss 0.0075 | Win count 494\n",
            "Epoch 662/999 | Loss 0.0077 | Win count 495\n",
            "Epoch 663/999 | Loss 0.0077 | Win count 496\n",
            "Epoch 664/999 | Loss 0.0064 | Win count 497\n",
            "Epoch 665/999 | Loss 0.0044 | Win count 498\n",
            "Epoch 666/999 | Loss 0.0070 | Win count 499\n",
            "Epoch 667/999 | Loss 0.0069 | Win count 500\n",
            "Epoch 668/999 | Loss 0.0081 | Win count 501\n",
            "Epoch 669/999 | Loss 0.0104 | Win count 502\n",
            "Epoch 670/999 | Loss 0.0116 | Win count 503\n",
            "Epoch 671/999 | Loss 0.0140 | Win count 504\n",
            "Epoch 672/999 | Loss 0.0148 | Win count 505\n",
            "Epoch 673/999 | Loss 0.0160 | Win count 506\n",
            "Epoch 674/999 | Loss 0.0120 | Win count 506\n",
            "Epoch 675/999 | Loss 0.0099 | Win count 506\n",
            "Epoch 676/999 | Loss 0.0157 | Win count 507\n",
            "Epoch 677/999 | Loss 0.0156 | Win count 508\n",
            "Epoch 678/999 | Loss 0.0095 | Win count 509\n",
            "Epoch 679/999 | Loss 0.0117 | Win count 510\n",
            "Epoch 680/999 | Loss 0.0101 | Win count 511\n",
            "Epoch 681/999 | Loss 0.0133 | Win count 512\n",
            "Epoch 682/999 | Loss 0.0099 | Win count 513\n",
            "Epoch 683/999 | Loss 0.0082 | Win count 514\n",
            "Epoch 684/999 | Loss 0.0139 | Win count 515\n",
            "Epoch 685/999 | Loss 0.0107 | Win count 516\n",
            "Epoch 686/999 | Loss 0.0093 | Win count 517\n",
            "Epoch 687/999 | Loss 0.0114 | Win count 518\n",
            "Epoch 688/999 | Loss 0.0087 | Win count 519\n",
            "Epoch 689/999 | Loss 0.0122 | Win count 520\n",
            "Epoch 690/999 | Loss 0.0083 | Win count 521\n",
            "Epoch 691/999 | Loss 0.0075 | Win count 522\n",
            "Epoch 692/999 | Loss 0.0089 | Win count 523\n",
            "Epoch 693/999 | Loss 0.0104 | Win count 524\n",
            "Epoch 694/999 | Loss 0.0087 | Win count 525\n",
            "Epoch 695/999 | Loss 0.0087 | Win count 526\n",
            "Epoch 696/999 | Loss 0.0064 | Win count 527\n",
            "Epoch 697/999 | Loss 0.0071 | Win count 528\n",
            "Epoch 698/999 | Loss 0.0074 | Win count 529\n",
            "Epoch 699/999 | Loss 0.0047 | Win count 530\n",
            "Epoch 700/999 | Loss 0.0045 | Win count 531\n",
            "Epoch 701/999 | Loss 0.0072 | Win count 532\n",
            "Epoch 702/999 | Loss 0.0060 | Win count 532\n",
            "Epoch 703/999 | Loss 0.0058 | Win count 533\n",
            "Epoch 704/999 | Loss 0.0136 | Win count 534\n",
            "Epoch 705/999 | Loss 0.0081 | Win count 535\n",
            "Epoch 706/999 | Loss 0.0073 | Win count 536\n",
            "Epoch 707/999 | Loss 0.0068 | Win count 537\n",
            "Epoch 708/999 | Loss 0.0068 | Win count 538\n",
            "Epoch 709/999 | Loss 0.0079 | Win count 539\n",
            "Epoch 710/999 | Loss 0.0081 | Win count 540\n",
            "Epoch 711/999 | Loss 0.0045 | Win count 541\n",
            "Epoch 712/999 | Loss 0.0042 | Win count 542\n",
            "Epoch 713/999 | Loss 0.0060 | Win count 543\n",
            "Epoch 714/999 | Loss 0.0097 | Win count 543\n",
            "Epoch 715/999 | Loss 0.0052 | Win count 544\n",
            "Epoch 716/999 | Loss 0.0056 | Win count 545\n",
            "Epoch 717/999 | Loss 0.0067 | Win count 546\n",
            "Epoch 718/999 | Loss 0.0052 | Win count 547\n",
            "Epoch 719/999 | Loss 0.0062 | Win count 548\n",
            "Epoch 720/999 | Loss 0.0035 | Win count 549\n",
            "Epoch 721/999 | Loss 0.0081 | Win count 550\n",
            "Epoch 722/999 | Loss 0.0079 | Win count 551\n",
            "Epoch 723/999 | Loss 0.0071 | Win count 552\n",
            "Epoch 724/999 | Loss 0.0050 | Win count 552\n",
            "Epoch 725/999 | Loss 0.0066 | Win count 553\n",
            "Epoch 726/999 | Loss 0.0060 | Win count 554\n",
            "Epoch 727/999 | Loss 0.0074 | Win count 555\n",
            "Epoch 728/999 | Loss 0.0076 | Win count 556\n",
            "Epoch 729/999 | Loss 0.0055 | Win count 557\n",
            "Epoch 730/999 | Loss 0.0066 | Win count 558\n",
            "Epoch 731/999 | Loss 0.0058 | Win count 559\n",
            "Epoch 732/999 | Loss 0.0048 | Win count 560\n",
            "Epoch 733/999 | Loss 0.0066 | Win count 561\n",
            "Epoch 734/999 | Loss 0.0053 | Win count 562\n",
            "Epoch 735/999 | Loss 0.0042 | Win count 563\n",
            "Epoch 736/999 | Loss 0.0064 | Win count 564\n",
            "Epoch 737/999 | Loss 0.0085 | Win count 565\n",
            "Epoch 738/999 | Loss 0.0077 | Win count 566\n",
            "Epoch 739/999 | Loss 0.0048 | Win count 567\n",
            "Epoch 740/999 | Loss 0.0059 | Win count 568\n",
            "Epoch 741/999 | Loss 0.0080 | Win count 569\n",
            "Epoch 742/999 | Loss 0.0080 | Win count 570\n",
            "Epoch 743/999 | Loss 0.0057 | Win count 571\n",
            "Epoch 744/999 | Loss 0.0052 | Win count 572\n",
            "Epoch 745/999 | Loss 0.0079 | Win count 573\n",
            "Epoch 746/999 | Loss 0.0050 | Win count 574\n",
            "Epoch 747/999 | Loss 0.0059 | Win count 575\n",
            "Epoch 748/999 | Loss 0.0082 | Win count 576\n",
            "Epoch 749/999 | Loss 0.0057 | Win count 577\n",
            "Epoch 750/999 | Loss 0.0056 | Win count 578\n",
            "Epoch 751/999 | Loss 0.0077 | Win count 579\n",
            "Epoch 752/999 | Loss 0.0054 | Win count 580\n",
            "Epoch 753/999 | Loss 0.0075 | Win count 581\n",
            "Epoch 754/999 | Loss 0.0063 | Win count 582\n",
            "Epoch 755/999 | Loss 0.0052 | Win count 583\n",
            "Epoch 756/999 | Loss 0.0063 | Win count 584\n",
            "Epoch 757/999 | Loss 0.0037 | Win count 585\n",
            "Epoch 758/999 | Loss 0.0061 | Win count 586\n",
            "Epoch 759/999 | Loss 0.0054 | Win count 587\n",
            "Epoch 760/999 | Loss 0.0049 | Win count 588\n",
            "Epoch 761/999 | Loss 0.0041 | Win count 588\n",
            "Epoch 762/999 | Loss 0.0038 | Win count 589\n",
            "Epoch 763/999 | Loss 0.0051 | Win count 590\n",
            "Epoch 764/999 | Loss 0.0042 | Win count 591\n",
            "Epoch 765/999 | Loss 0.0052 | Win count 592\n",
            "Epoch 766/999 | Loss 0.0043 | Win count 593\n",
            "Epoch 767/999 | Loss 0.0047 | Win count 594\n",
            "Epoch 768/999 | Loss 0.0045 | Win count 595\n",
            "Epoch 769/999 | Loss 0.0037 | Win count 596\n",
            "Epoch 770/999 | Loss 0.0047 | Win count 597\n",
            "Epoch 771/999 | Loss 0.0059 | Win count 598\n",
            "Epoch 772/999 | Loss 0.0073 | Win count 599\n",
            "Epoch 773/999 | Loss 0.0037 | Win count 600\n",
            "Epoch 774/999 | Loss 0.0083 | Win count 601\n",
            "Epoch 775/999 | Loss 0.0057 | Win count 602\n",
            "Epoch 776/999 | Loss 0.0043 | Win count 603\n",
            "Epoch 777/999 | Loss 0.0034 | Win count 604\n",
            "Epoch 778/999 | Loss 0.0053 | Win count 605\n",
            "Epoch 779/999 | Loss 0.0031 | Win count 606\n",
            "Epoch 780/999 | Loss 0.0059 | Win count 607\n",
            "Epoch 781/999 | Loss 0.0047 | Win count 608\n",
            "Epoch 782/999 | Loss 0.0035 | Win count 609\n",
            "Epoch 783/999 | Loss 0.0022 | Win count 610\n",
            "Epoch 784/999 | Loss 0.0037 | Win count 611\n",
            "Epoch 785/999 | Loss 0.0049 | Win count 612\n",
            "Epoch 786/999 | Loss 0.0060 | Win count 613\n",
            "Epoch 787/999 | Loss 0.0056 | Win count 614\n",
            "Epoch 788/999 | Loss 0.0097 | Win count 615\n",
            "Epoch 789/999 | Loss 0.0086 | Win count 616\n",
            "Epoch 790/999 | Loss 0.0041 | Win count 617\n",
            "Epoch 791/999 | Loss 0.0185 | Win count 618\n",
            "Epoch 792/999 | Loss 0.0090 | Win count 619\n",
            "Epoch 793/999 | Loss 0.0095 | Win count 620\n",
            "Epoch 794/999 | Loss 0.0065 | Win count 621\n",
            "Epoch 795/999 | Loss 0.0035 | Win count 622\n",
            "Epoch 796/999 | Loss 0.0057 | Win count 623\n",
            "Epoch 797/999 | Loss 0.0092 | Win count 624\n",
            "Epoch 798/999 | Loss 0.0072 | Win count 625\n",
            "Epoch 799/999 | Loss 0.0068 | Win count 626\n",
            "Epoch 800/999 | Loss 0.0034 | Win count 627\n",
            "Epoch 801/999 | Loss 0.0050 | Win count 628\n",
            "Epoch 802/999 | Loss 0.0077 | Win count 629\n",
            "Epoch 803/999 | Loss 0.0100 | Win count 630\n",
            "Epoch 804/999 | Loss 0.0053 | Win count 631\n",
            "Epoch 805/999 | Loss 0.0236 | Win count 632\n",
            "Epoch 806/999 | Loss 0.0377 | Win count 633\n",
            "Epoch 807/999 | Loss 0.0196 | Win count 634\n",
            "Epoch 808/999 | Loss 0.0174 | Win count 635\n",
            "Epoch 809/999 | Loss 0.0065 | Win count 636\n",
            "Epoch 810/999 | Loss 0.0310 | Win count 637\n",
            "Epoch 811/999 | Loss 0.0078 | Win count 638\n",
            "Epoch 812/999 | Loss 0.0129 | Win count 639\n",
            "Epoch 813/999 | Loss 0.0117 | Win count 640\n",
            "Epoch 814/999 | Loss 0.0201 | Win count 641\n",
            "Epoch 815/999 | Loss 0.0122 | Win count 642\n",
            "Epoch 816/999 | Loss 0.0166 | Win count 642\n",
            "Epoch 817/999 | Loss 0.0330 | Win count 643\n",
            "Epoch 818/999 | Loss 0.0130 | Win count 644\n",
            "Epoch 819/999 | Loss 0.0113 | Win count 645\n",
            "Epoch 820/999 | Loss 0.0208 | Win count 646\n",
            "Epoch 821/999 | Loss 0.0207 | Win count 647\n",
            "Epoch 822/999 | Loss 0.0173 | Win count 648\n",
            "Epoch 823/999 | Loss 0.0229 | Win count 649\n",
            "Epoch 824/999 | Loss 0.0179 | Win count 650\n",
            "Epoch 825/999 | Loss 0.0181 | Win count 651\n",
            "Epoch 826/999 | Loss 0.0191 | Win count 652\n",
            "Epoch 827/999 | Loss 0.0215 | Win count 653\n",
            "Epoch 828/999 | Loss 0.0261 | Win count 654\n",
            "Epoch 829/999 | Loss 0.0219 | Win count 655\n",
            "Epoch 830/999 | Loss 0.0108 | Win count 656\n",
            "Epoch 831/999 | Loss 0.0177 | Win count 657\n",
            "Epoch 832/999 | Loss 0.0164 | Win count 658\n",
            "Epoch 833/999 | Loss 0.0282 | Win count 659\n",
            "Epoch 834/999 | Loss 0.0276 | Win count 660\n",
            "Epoch 835/999 | Loss 0.0219 | Win count 661\n",
            "Epoch 836/999 | Loss 0.0196 | Win count 662\n",
            "Epoch 837/999 | Loss 0.0123 | Win count 663\n",
            "Epoch 838/999 | Loss 0.0148 | Win count 664\n",
            "Epoch 839/999 | Loss 0.0090 | Win count 665\n",
            "Epoch 840/999 | Loss 0.0072 | Win count 666\n",
            "Epoch 841/999 | Loss 0.0130 | Win count 667\n",
            "Epoch 842/999 | Loss 0.0139 | Win count 668\n",
            "Epoch 843/999 | Loss 0.0092 | Win count 669\n",
            "Epoch 844/999 | Loss 0.0131 | Win count 670\n",
            "Epoch 845/999 | Loss 0.0167 | Win count 671\n",
            "Epoch 846/999 | Loss 0.0079 | Win count 672\n",
            "Epoch 847/999 | Loss 0.0097 | Win count 673\n",
            "Epoch 848/999 | Loss 0.0079 | Win count 674\n",
            "Epoch 849/999 | Loss 0.0147 | Win count 675\n",
            "Epoch 850/999 | Loss 0.0147 | Win count 676\n",
            "Epoch 851/999 | Loss 0.0101 | Win count 677\n",
            "Epoch 852/999 | Loss 0.0098 | Win count 678\n",
            "Epoch 853/999 | Loss 0.0081 | Win count 679\n",
            "Epoch 854/999 | Loss 0.0107 | Win count 680\n",
            "Epoch 855/999 | Loss 0.0109 | Win count 681\n",
            "Epoch 856/999 | Loss 0.0091 | Win count 682\n",
            "Epoch 857/999 | Loss 0.0086 | Win count 683\n",
            "Epoch 858/999 | Loss 0.0088 | Win count 684\n",
            "Epoch 859/999 | Loss 0.0098 | Win count 685\n",
            "Epoch 860/999 | Loss 0.0107 | Win count 686\n",
            "Epoch 861/999 | Loss 0.0103 | Win count 687\n",
            "Epoch 862/999 | Loss 0.0111 | Win count 688\n",
            "Epoch 863/999 | Loss 0.0071 | Win count 689\n",
            "Epoch 864/999 | Loss 0.0064 | Win count 690\n",
            "Epoch 865/999 | Loss 0.0093 | Win count 691\n",
            "Epoch 866/999 | Loss 0.0046 | Win count 692\n",
            "Epoch 867/999 | Loss 0.0044 | Win count 692\n",
            "Epoch 868/999 | Loss 0.0099 | Win count 693\n",
            "Epoch 869/999 | Loss 0.0065 | Win count 694\n",
            "Epoch 870/999 | Loss 0.0063 | Win count 695\n",
            "Epoch 871/999 | Loss 0.0062 | Win count 696\n",
            "Epoch 872/999 | Loss 0.0066 | Win count 697\n",
            "Epoch 873/999 | Loss 0.0061 | Win count 698\n",
            "Epoch 874/999 | Loss 0.0038 | Win count 699\n",
            "Epoch 875/999 | Loss 0.0063 | Win count 700\n",
            "Epoch 876/999 | Loss 0.0035 | Win count 701\n",
            "Epoch 877/999 | Loss 0.0033 | Win count 702\n",
            "Epoch 878/999 | Loss 0.0035 | Win count 703\n",
            "Epoch 879/999 | Loss 0.0050 | Win count 704\n",
            "Epoch 880/999 | Loss 0.0035 | Win count 705\n",
            "Epoch 881/999 | Loss 0.0045 | Win count 706\n",
            "Epoch 882/999 | Loss 0.0038 | Win count 707\n",
            "Epoch 883/999 | Loss 0.0083 | Win count 708\n",
            "Epoch 884/999 | Loss 0.0031 | Win count 709\n",
            "Epoch 885/999 | Loss 0.0047 | Win count 710\n",
            "Epoch 886/999 | Loss 0.0093 | Win count 711\n",
            "Epoch 887/999 | Loss 0.0082 | Win count 712\n",
            "Epoch 888/999 | Loss 0.0044 | Win count 713\n",
            "Epoch 889/999 | Loss 0.0039 | Win count 714\n",
            "Epoch 890/999 | Loss 0.0028 | Win count 715\n",
            "Epoch 891/999 | Loss 0.0075 | Win count 716\n",
            "Epoch 892/999 | Loss 0.0117 | Win count 717\n",
            "Epoch 893/999 | Loss 0.0047 | Win count 718\n",
            "Epoch 894/999 | Loss 0.0063 | Win count 719\n",
            "Epoch 895/999 | Loss 0.0063 | Win count 720\n",
            "Epoch 896/999 | Loss 0.0062 | Win count 721\n",
            "Epoch 897/999 | Loss 0.0080 | Win count 722\n",
            "Epoch 898/999 | Loss 0.0052 | Win count 723\n",
            "Epoch 899/999 | Loss 0.0086 | Win count 724\n",
            "Epoch 900/999 | Loss 0.0053 | Win count 725\n",
            "Epoch 901/999 | Loss 0.0050 | Win count 726\n",
            "Epoch 902/999 | Loss 0.0040 | Win count 727\n",
            "Epoch 903/999 | Loss 0.0039 | Win count 728\n",
            "Epoch 904/999 | Loss 0.0048 | Win count 729\n",
            "Epoch 905/999 | Loss 0.0073 | Win count 730\n",
            "Epoch 906/999 | Loss 0.0062 | Win count 731\n",
            "Epoch 907/999 | Loss 0.0068 | Win count 732\n",
            "Epoch 908/999 | Loss 0.0045 | Win count 733\n",
            "Epoch 909/999 | Loss 0.0076 | Win count 734\n",
            "Epoch 910/999 | Loss 0.0056 | Win count 735\n",
            "Epoch 911/999 | Loss 0.0038 | Win count 736\n",
            "Epoch 912/999 | Loss 0.0031 | Win count 737\n",
            "Epoch 913/999 | Loss 0.0081 | Win count 737\n",
            "Epoch 914/999 | Loss 0.0096 | Win count 738\n",
            "Epoch 915/999 | Loss 0.0095 | Win count 739\n",
            "Epoch 916/999 | Loss 0.0037 | Win count 740\n",
            "Epoch 917/999 | Loss 0.0034 | Win count 741\n",
            "Epoch 918/999 | Loss 0.0053 | Win count 742\n",
            "Epoch 919/999 | Loss 0.0038 | Win count 743\n",
            "Epoch 920/999 | Loss 0.0027 | Win count 744\n",
            "Epoch 921/999 | Loss 0.0049 | Win count 745\n",
            "Epoch 922/999 | Loss 0.0062 | Win count 746\n",
            "Epoch 923/999 | Loss 0.0067 | Win count 747\n",
            "Epoch 924/999 | Loss 0.0097 | Win count 748\n",
            "Epoch 925/999 | Loss 0.0046 | Win count 749\n",
            "Epoch 926/999 | Loss 0.0066 | Win count 750\n",
            "Epoch 927/999 | Loss 0.0107 | Win count 751\n",
            "Epoch 928/999 | Loss 0.0075 | Win count 752\n",
            "Epoch 929/999 | Loss 0.0034 | Win count 753\n",
            "Epoch 930/999 | Loss 0.0046 | Win count 754\n",
            "Epoch 931/999 | Loss 0.0072 | Win count 755\n",
            "Epoch 932/999 | Loss 0.0038 | Win count 756\n",
            "Epoch 933/999 | Loss 0.0044 | Win count 757\n",
            "Epoch 934/999 | Loss 0.0064 | Win count 758\n",
            "Epoch 935/999 | Loss 0.0055 | Win count 759\n",
            "Epoch 936/999 | Loss 0.0055 | Win count 760\n",
            "Epoch 937/999 | Loss 0.0062 | Win count 761\n",
            "Epoch 938/999 | Loss 0.0050 | Win count 762\n",
            "Epoch 939/999 | Loss 0.0044 | Win count 763\n",
            "Epoch 940/999 | Loss 0.0066 | Win count 764\n",
            "Epoch 941/999 | Loss 0.0052 | Win count 764\n",
            "Epoch 942/999 | Loss 0.0053 | Win count 765\n",
            "Epoch 943/999 | Loss 0.0051 | Win count 766\n",
            "Epoch 944/999 | Loss 0.0042 | Win count 767\n",
            "Epoch 945/999 | Loss 0.0044 | Win count 768\n",
            "Epoch 946/999 | Loss 0.0041 | Win count 769\n",
            "Epoch 947/999 | Loss 0.0040 | Win count 770\n",
            "Epoch 948/999 | Loss 0.0028 | Win count 771\n",
            "Epoch 949/999 | Loss 0.0039 | Win count 772\n",
            "Epoch 950/999 | Loss 0.0043 | Win count 773\n",
            "Epoch 951/999 | Loss 0.0043 | Win count 774\n",
            "Epoch 952/999 | Loss 0.0036 | Win count 775\n",
            "Epoch 953/999 | Loss 0.0043 | Win count 776\n",
            "Epoch 954/999 | Loss 0.0032 | Win count 777\n",
            "Epoch 955/999 | Loss 0.0036 | Win count 778\n",
            "Epoch 956/999 | Loss 0.0032 | Win count 778\n",
            "Epoch 957/999 | Loss 0.0040 | Win count 779\n",
            "Epoch 958/999 | Loss 0.0022 | Win count 780\n",
            "Epoch 959/999 | Loss 0.0035 | Win count 781\n",
            "Epoch 960/999 | Loss 0.0181 | Win count 782\n",
            "Epoch 961/999 | Loss 0.0036 | Win count 783\n",
            "Epoch 962/999 | Loss 0.0094 | Win count 784\n",
            "Epoch 963/999 | Loss 0.0034 | Win count 785\n",
            "Epoch 964/999 | Loss 0.0039 | Win count 786\n",
            "Epoch 965/999 | Loss 0.0091 | Win count 787\n",
            "Epoch 966/999 | Loss 0.0131 | Win count 788\n",
            "Epoch 967/999 | Loss 0.0027 | Win count 789\n",
            "Epoch 968/999 | Loss 0.0099 | Win count 790\n",
            "Epoch 969/999 | Loss 0.0086 | Win count 791\n",
            "Epoch 970/999 | Loss 0.0057 | Win count 792\n",
            "Epoch 971/999 | Loss 0.0078 | Win count 793\n",
            "Epoch 972/999 | Loss 0.0043 | Win count 794\n",
            "Epoch 973/999 | Loss 0.0040 | Win count 795\n",
            "Epoch 974/999 | Loss 0.0051 | Win count 796\n",
            "Epoch 975/999 | Loss 0.0103 | Win count 797\n",
            "Epoch 976/999 | Loss 0.0099 | Win count 798\n",
            "Epoch 977/999 | Loss 0.0066 | Win count 799\n",
            "Epoch 978/999 | Loss 0.0050 | Win count 800\n",
            "Epoch 979/999 | Loss 0.0061 | Win count 801\n",
            "Epoch 980/999 | Loss 0.0065 | Win count 802\n",
            "Epoch 981/999 | Loss 0.0073 | Win count 803\n",
            "Epoch 982/999 | Loss 0.0090 | Win count 804\n",
            "Epoch 983/999 | Loss 0.0085 | Win count 805\n",
            "Epoch 984/999 | Loss 0.0055 | Win count 806\n",
            "Epoch 985/999 | Loss 0.0033 | Win count 807\n",
            "Epoch 986/999 | Loss 0.0074 | Win count 808\n",
            "Epoch 987/999 | Loss 0.0056 | Win count 809\n",
            "Epoch 988/999 | Loss 0.0061 | Win count 810\n",
            "Epoch 989/999 | Loss 0.0058 | Win count 811\n",
            "Epoch 990/999 | Loss 0.0065 | Win count 811\n",
            "Epoch 991/999 | Loss 0.0080 | Win count 812\n",
            "Epoch 992/999 | Loss 0.0113 | Win count 813\n",
            "Epoch 993/999 | Loss 0.0102 | Win count 814\n",
            "Epoch 994/999 | Loss 0.0074 | Win count 815\n",
            "Epoch 995/999 | Loss 0.0083 | Win count 816\n",
            "Epoch 996/999 | Loss 0.0112 | Win count 817\n",
            "Epoch 997/999 | Loss 0.0190 | Win count 818\n",
            "Epoch 998/999 | Loss 0.0092 | Win count 819\n",
            "Epoch 999/999 | Loss 0.0112 | Win count 820\n"
          ],
          "name": "stdout"
        }
      ]
    },
    {
      "metadata": {
        "id": "mHEU8NQlE5uX",
        "colab_type": "code",
        "colab": {
          "base_uri": "https://localhost:8080/",
          "height": 22337
        },
        "outputId": "97c2f89e-5f71-4305-f343-a59656063945"
      },
      "cell_type": "code",
      "source": [
        "%matplotlib inline\n",
        "\n",
        "import json\n",
        "import matplotlib.pyplot as plt\n",
        "import numpy as np\n",
        "from keras.models import model_from_json\n",
        "\n",
        "\n",
        "if __name__ == \"__main__\":\n",
        "    # Make sure this grid size matches the value used fro training\n",
        "    grid_size = 10\n",
        "\n",
        "    with open(\"model.json\", \"r\") as jfile:\n",
        "        model = model_from_json(json.load(jfile))\n",
        "    model.load_weights(\"model.h5\")\n",
        "    model.compile(\"sgd\", \"mse\")\n",
        "\n",
        "    # Define environment, game\n",
        "    env = Catch(grid_size)\n",
        "    c = 0\n",
        "    for e in range(10):\n",
        "        loss = 0.\n",
        "        env.reset()\n",
        "        game_over = False\n",
        "        # get initial input\n",
        "        input_t = env.observe()\n",
        "\n",
        "        plt.imshow(input_t.reshape((grid_size,)*2),\n",
        "                   interpolation='none', cmap='gray')\n",
        "        plt.savefig(\"%03d.png\" % c)\n",
        "        c += 1\n",
        "        while not game_over:\n",
        "            input_tm1 = input_t\n",
        "\n",
        "            # get next action\n",
        "            q = model.predict(input_tm1)\n",
        "            action = np.argmax(q[0])\n",
        "\n",
        "            # apply action, get rewards and new state\n",
        "            input_t, reward, game_over = env.act(action)\n",
        "\n",
        "            plt.imshow(input_t.reshape((grid_size,)*2),\n",
        "                       interpolation='none', cmap='gray')\n",
        "            plt.savefig(\"%03d.png\" % c)\n",
        "            plt.show()\n",
        "            plt.pause(0.0001)\n",
        "            plt.close()\n",
        "            c += 1"
      ],
      "execution_count": 9,
      "outputs": [
        {
          "output_type": "display_data",
          "data": {
            "image/png": "[encoded data removed]",
            "text/plain": [
              "<Figure size 432x288 with 1 Axes>"
            ]
          },
          "metadata": {
            "tags": []
          }
        },
        {
          "output_type": "display_data",
          "data": {
            "image/png": "[encoded data removed]",
            "text/plain": [
              "<Figure size 432x288 with 1 Axes>"
            ]
          },
          "metadata": {
            "tags": []
          }
        },
        {
          "output_type": "display_data",
          "data": {
            "image/png": "[encoded data removed]",
            "text/plain": [
              "<Figure size 432x288 with 1 Axes>"
            ]
          },
          "metadata": {
            "tags": []
          }
        },
        {
          "output_type": "display_data",
          "data": {
            "image/png": "[encoded data removed]",
            "text/plain": [
              "<Figure size 432x288 with 1 Axes>"
            ]
          },
          "metadata": {
            "tags": []
          }
        },
        {
          "output_type": "display_data",
          "data": {
            "image/png": "[encoded data removed]",
            "text/plain": [
              "<Figure size 432x288 with 1 Axes>"
            ]
          },
          "metadata": {
            "tags": []
          }
        },
        {
          "output_type": "display_data",
          "data": {
            "image/png": "[encoded data removed]",
            "text/plain": [
              "<Figure size 432x288 with 1 Axes>"
            ]
          },
          "metadata": {
            "tags": []
          }
        },
        {
          "output_type": "display_data",
          "data": {
            "image/png": "[encoded data removed]",
            "text/plain": [
              "<Figure size 432x288 with 1 Axes>"
            ]
          },
          "metadata": {
            "tags": []
          }
        },
        {
          "output_type": "display_data",
          "data": {
            "image/png": "[encoded data removed]",
            "text/plain": [
              "<Figure size 432x288 with 1 Axes>"
            ]
          },
          "metadata": {
            "tags": []
          }
        },
        {
          "output_type": "display_data",
          "data": {
            "image/png": "[encoded data removed]",
            "text/plain": [
              "<Figure size 432x288 with 1 Axes>"
            ]
          },
          "metadata": {
            "tags": []
          }
        },
        {
          "output_type": "display_data",
          "data": {
            "image/png": "[encoded data removed]",
            "text/plain": [
              "<Figure size 432x288 with 1 Axes>"
            ]
          },
          "metadata": {
            "tags": []
          }
        },
        {
          "output_type": "display_data",
          "data": {
            "image/png": "[encoded data removed]",
            "text/plain": [
              "<Figure size 432x288 with 1 Axes>"
            ]
          },
          "metadata": {
            "tags": []
          }
        },
        {
          "output_type": "display_data",
          "data": {
            "image/png": "[encoded data removed]",
            "text/plain": [
              "<Figure size 432x288 with 1 Axes>"
            ]
          },
          "metadata": {
            "tags": []
          }
        },
        {
          "output_type": "display_data",
          "data": {
            "image/png": "[encoded data removed]",
            "text/plain": [
              "<Figure size 432x288 with 1 Axes>"
            ]
          },
          "metadata": {
            "tags": []
          }
        },
        {
          "output_type": "display_data",
          "data": {
            "image/png": "[encoded data removed]",
            "text/plain": [
              "<Figure size 432x288 with 1 Axes>"
            ]
          },
          "metadata": {
            "tags": []
          }
        },
        {
          "output_type": "display_data",
          "data": {
            "image/png": "[encoded data removed]",
            "text/plain": [
              "<Figure size 432x288 with 1 Axes>"
            ]
          },
          "metadata": {
            "tags": []
          }
        },
        {
          "output_type": "display_data",
          "data": {
            "image/png": "[encoded data removed]",
            "text/plain": [
              "<Figure size 432x288 with 1 Axes>"
            ]
          },
          "metadata": {
            "tags": []
          }
        },
        {
          "output_type": "display_data",
          "data": {
            "image/png": "[encoded data removed]",
            "text/plain": [
              "<Figure size 432x288 with 1 Axes>"
            ]
          },
          "metadata": {
            "tags": []
          }
        },
        {
          "output_type": "display_data",
          "data": {
            "image/png": "[encoded data removed]",
            "text/plain": [
              "<Figure size 432x288 with 1 Axes>"
            ]
          },
          "metadata": {
            "tags": []
          }
        },
        {
          "output_type": "display_data",
          "data": {
            "image/png": "[encoded data removed]",
            "text/plain": [
              "<Figure size 432x288 with 1 Axes>"
            ]
          },
          "metadata": {
            "tags": []
          }
        },
        {
          "output_type": "display_data",
          "data": {
            "image/png": "[encoded data removed]",
            "text/plain": [
              "<Figure size 432x288 with 1 Axes>"
            ]
          },
          "metadata": {
            "tags": []
          }
        },
        {
          "output_type": "display_data",
          "data": {
            "image/png": "[encoded data removed]",
            "text/plain": [
              "<Figure size 432x288 with 1 Axes>"
            ]
          },
          "metadata": {
            "tags": []
          }
        },
        {
          "output_type": "display_data",
          "data": {
            "image/png": "[encoded data removed]",
            "text/plain": [
              "<Figure size 432x288 with 1 Axes>"
            ]
          },
          "metadata": {
            "tags": []
          }
        },
        {
          "output_type": "display_data",
          "data": {
            "image/png": "[encoded data removed]",
            "text/plain": [
              "<Figure size 432x288 with 1 Axes>"
            ]
          },
          "metadata": {
            "tags": []
          }
        },
        {
          "output_type": "display_data",
          "data": {
            "image/png": "[encoded data removed]",
            "text/plain": [
              "<Figure size 432x288 with 1 Axes>"
            ]
          },
          "metadata": {
            "tags": []
          }
        },
        {
          "output_type": "display_data",
          "data": {
            "image/png": "[encoded data removed]",
            "text/plain": [
              "<Figure size 432x288 with 1 Axes>"
            ]
          },
          "metadata": {
            "tags": []
          }
        },
        {
          "output_type": "display_data",
          "data": {
            "image/png": "[encoded data removed]",
            "text/plain": [
              "<Figure size 432x288 with 1 Axes>"
            ]
          },
          "metadata": {
            "tags": []
          }
        },
        {
          "output_type": "display_data",
          "data": {
            "image/png": "[encoded data removed]",
            "text/plain": [
              "<Figure size 432x288 with 1 Axes>"
            ]
          },
          "metadata": {
            "tags": []
          }
        },
        {
          "output_type": "display_data",
          "data": {
            "image/png": "[encoded data removed]",
            "text/plain": [
              "<Figure size 432x288 with 1 Axes>"
            ]
          },
          "metadata": {
            "tags": []
          }
        },
        {
          "output_type": "display_data",
          "data": {
            "image/png": "[encoded data removed]",
            "text/plain": [
              "<Figure size 432x288 with 1 Axes>"
            ]
          },
          "metadata": {
            "tags": []
          }
        },
        {
          "output_type": "display_data",
          "data": {
            "image/png": "[encoded data removed]",
            "text/plain": [
              "<Figure size 432x288 with 1 Axes>"
            ]
          },
          "metadata": {
            "tags": []
          }
        },
        {
          "output_type": "display_data",
          "data": {
            "image/png": "[encoded data removed]",
            "text/plain": [
              "<Figure size 432x288 with 1 Axes>"
            ]
          },
          "metadata": {
            "tags": []
          }
        },
        {
          "output_type": "display_data",
          "data": {
            "image/png": "[encoded data removed]",
            "text/plain": [
              "<Figure size 432x288 with 1 Axes>"
            ]
          },
          "metadata": {
            "tags": []
          }
        },
        {
          "output_type": "display_data",
          "data": {
            "image/png": "[encoded data removed]",
            "text/plain": [
              "<Figure size 432x288 with 1 Axes>"
            ]
          },
          "metadata": {
            "tags": []
          }
        },
        {
          "output_type": "display_data",
          "data": {
            "image/png": "[encoded data removed]",
            "text/plain": [
              "<Figure size 432x288 with 1 Axes>"
            ]
          },
          "metadata": {
            "tags": []
          }
        },
        {
          "output_type": "display_data",
          "data": {
            "image/png": "[encoded data removed]",
            "text/plain": [
              "<Figure size 432x288 with 1 Axes>"
            ]
          },
          "metadata": {
            "tags": []
          }
        },
        {
          "output_type": "display_data",
          "data": {
            "image/png": "[encoded data removed]",
            "text/plain": [
              "<Figure size 432x288 with 1 Axes>"
            ]
          },
          "metadata": {
            "tags": []
          }
        },
        {
          "output_type": "display_data",
          "data": {
            "image/png": "[encoded data removed]",
            "text/plain": [
              "<Figure size 432x288 with 1 Axes>"
            ]
          },
          "metadata": {
            "tags": []
          }
        },
        {
          "output_type": "display_data",
          "data": {
            "image/png": "[encoded data removed]",
            "text/plain": [
              "<Figure size 432x288 with 1 Axes>"
            ]
          },
          "metadata": {
            "tags": []
          }
        },
        {
          "output_type": "display_data",
          "data": {
            "image/png": "[encoded data removed]",
            "text/plain": [
              "<Figure size 432x288 with 1 Axes>"
            ]
          },
          "metadata": {
            "tags": []
          }
        },
        {
          "output_type": "display_data",
          "data": {
            "image/png": "[encoded data removed]",
            "text/plain": [
              "<Figure size 432x288 with 1 Axes>"
            ]
          },
          "metadata": {
            "tags": []
          }
        },
        {
          "output_type": "display_data",
          "data": {
            "image/png": "[encoded data removed]",
            "text/plain": [
              "<Figure size 432x288 with 1 Axes>"
            ]
          },
          "metadata": {
            "tags": []
          }
        },
        {
          "output_type": "display_data",
          "data": {
            "image/png": "[encoded data removed]",
            "text/plain": [
              "<Figure size 432x288 with 1 Axes>"
            ]
          },
          "metadata": {
            "tags": []
          }
        },
        {
          "output_type": "display_data",
          "data": {
            "image/png": "[encoded data removed]",
            "text/plain": [
              "<Figure size 432x288 with 1 Axes>"
            ]
          },
          "metadata": {
            "tags": []
          }
        },
        {
          "output_type": "display_data",
          "data": {
            "image/png": "[encoded data removed]",
            "text/plain": [
              "<Figure size 432x288 with 1 Axes>"
            ]
          },
          "metadata": {
            "tags": []
          }
        },
        {
          "output_type": "display_data",
          "data": {
            "image/png": "[encoded data removed]",
            "text/plain": [
              "<Figure size 432x288 with 1 Axes>"
            ]
          },
          "metadata": {
            "tags": []
          }
        },
        {
          "output_type": "display_data",
          "data": {
            "image/png": "[encoded data removed]",
            "text/plain": [
              "<Figure size 432x288 with 1 Axes>"
            ]
          },
          "metadata": {
            "tags": []
          }
        },
        {
          "output_type": "display_data",
          "data": {
            "image/png": "[encoded data removed]",
            "text/plain": [
              "<Figure size 432x288 with 1 Axes>"
            ]
          },
          "metadata": {
            "tags": []
          }
        },
        {
          "output_type": "display_data",
          "data": {
            "image/png": "[encoded data removed]",
            "text/plain": [
              "<Figure size 432x288 with 1 Axes>"
            ]
          },
          "metadata": {
            "tags": []
          }
        },
        {
          "output_type": "display_data",
          "data": {
            "image/png": "[encoded data removed]",
            "text/plain": [
              "<Figure size 432x288 with 1 Axes>"
            ]
          },
          "metadata": {
            "tags": []
          }
        },
        {
          "output_type": "display_data",
          "data": {
            "image/png": "[encoded data removed]",
            "text/plain": [
              "<Figure size 432x288 with 1 Axes>"
            ]
          },
          "metadata": {
            "tags": []
          }
        },
        {
          "output_type": "display_data",
          "data": {
            "image/png": "[encoded data removed]",
            "text/plain": [
              "<Figure size 432x288 with 1 Axes>"
            ]
          },
          "metadata": {
            "tags": []
          }
        },
        {
          "output_type": "display_data",
          "data": {
            "image/png": "[encoded data removed]",
            "text/plain": [
              "<Figure size 432x288 with 1 Axes>"
            ]
          },
          "metadata": {
            "tags": []
          }
        },
        {
          "output_type": "display_data",
          "data": {
            "image/png": "[encoded data removed]",
            "text/plain": [
              "<Figure size 432x288 with 1 Axes>"
            ]
          },
          "metadata": {
            "tags": []
          }
        },
        {
          "output_type": "display_data",
          "data": {
            "image/png": "[encoded data removed]",
            "text/plain": [
              "<Figure size 432x288 with 1 Axes>"
            ]
          },
          "metadata": {
            "tags": []
          }
        },
        {
          "output_type": "display_data",
          "data": {
            "image/png": "[encoded data removed]",
            "text/plain": [
              "<Figure size 432x288 with 1 Axes>"
            ]
          },
          "metadata": {
            "tags": []
          }
        },
        {
          "output_type": "display_data",
          "data": {
            "image/png": "[encoded data removed]",
            "text/plain": [
              "<Figure size 432x288 with 1 Axes>"
            ]
          },
          "metadata": {
            "tags": []
          }
        },
        {
          "output_type": "display_data",
          "data": {
            "image/png": "[encoded data removed]",
            "text/plain": [
              "<Figure size 432x288 with 1 Axes>"
            ]
          },
          "metadata": {
            "tags": []
          }
        },
        {
          "output_type": "display_data",
          "data": {
            "image/png": "[encoded data removed]",
            "text/plain": [
              "<Figure size 432x288 with 1 Axes>"
            ]
          },
          "metadata": {
            "tags": []
          }
        },
        {
          "output_type": "display_data",
          "data": {
            "image/png": "[encoded data removed]",
            "text/plain": [
              "<Figure size 432x288 with 1 Axes>"
            ]
          },
          "metadata": {
            "tags": []
          }
        },
        {
          "output_type": "display_data",
          "data": {
            "image/png": "[encoded data removed]",
            "text/plain": [
              "<Figure size 432x288 with 1 Axes>"
            ]
          },
          "metadata": {
            "tags": []
          }
        },
        {
          "output_type": "display_data",
          "data": {
            "image/png": "[encoded data removed]",
            "text/plain": [
              "<Figure size 432x288 with 1 Axes>"
            ]
          },
          "metadata": {
            "tags": []
          }
        },
        {
          "output_type": "display_data",
          "data": {
            "image/png": "[encoded data removed]",
            "text/plain": [
              "<Figure size 432x288 with 1 Axes>"
            ]
          },
          "metadata": {
            "tags": []
          }
        },
        {
          "output_type": "display_data",
          "data": {
            "image/png": "[encoded data removed]",
            "text/plain": [
              "<Figure size 432x288 with 1 Axes>"
            ]
          },
          "metadata": {
            "tags": []
          }
        },
        {
          "output_type": "display_data",
          "data": {
            "image/png": "[encoded data removed]",
            "text/plain": [
              "<Figure size 432x288 with 1 Axes>"
            ]
          },
          "metadata": {
            "tags": []
          }
        },
        {
          "output_type": "display_data",
          "data": {
            "image/png": "[encoded data removed]",
            "text/plain": [
              "<Figure size 432x288 with 1 Axes>"
            ]
          },
          "metadata": {
            "tags": []
          }
        },
        {
          "output_type": "display_data",
          "data": {
            "image/png": "[encoded data removed]",
            "text/plain": [
              "<Figure size 432x288 with 1 Axes>"
            ]
          },
          "metadata": {
            "tags": []
          }
        },
        {
          "output_type": "display_data",
          "data": {
            "image/png": "[encoded data removed]",
            "text/plain": [
              "<Figure size 432x288 with 1 Axes>"
            ]
          },
          "metadata": {
            "tags": []
          }
        },
        {
          "output_type": "display_data",
          "data": {
            "image/png": "[encoded data removed]",
            "text/plain": [
              "<Figure size 432x288 with 1 Axes>"
            ]
          },
          "metadata": {
            "tags": []
          }
        },
        {
          "output_type": "display_data",
          "data": {
            "image/png": "[encoded data removed]",
            "text/plain": [
              "<Figure size 432x288 with 1 Axes>"
            ]
          },
          "metadata": {
            "tags": []
          }
        },
        {
          "output_type": "display_data",
          "data": {
            "image/png": "[encoded data removed]",
            "text/plain": [
              "<Figure size 432x288 with 1 Axes>"
            ]
          },
          "metadata": {
            "tags": []
          }
        },
        {
          "output_type": "display_data",
          "data": {
            "image/png": "[encoded data removed]",
            "text/plain": [
              "<Figure size 432x288 with 1 Axes>"
            ]
          },
          "metadata": {
            "tags": []
          }
        },
        {
          "output_type": "display_data",
          "data": {
            "image/png": "[encoded data removed]",
            "text/plain": [
              "<Figure size 432x288 with 1 Axes>"
            ]
          },
          "metadata": {
            "tags": []
          }
        },
        {
          "output_type": "display_data",
          "data": {
            "image/png": "[encoded data removed]",
            "text/plain": [
              "<Figure size 432x288 with 1 Axes>"
            ]
          },
          "metadata": {
            "tags": []
          }
        },
        {
          "output_type": "display_data",
          "data": {
            "image/png": "[encoded data removed]",
            "text/plain": [
              "<Figure size 432x288 with 1 Axes>"
            ]
          },
          "metadata": {
            "tags": []
          }
        },
        {
          "output_type": "display_data",
          "data": {
            "image/png": "[encoded data removed]",
            "text/plain": [
              "<Figure size 432x288 with 1 Axes>"
            ]
          },
          "metadata": {
            "tags": []
          }
        },
        {
          "output_type": "display_data",
          "data": {
            "image/png": "[encoded data removed]",
            "text/plain": [
              "<Figure size 432x288 with 1 Axes>"
            ]
          },
          "metadata": {
            "tags": []
          }
        },
        {
          "output_type": "display_data",
          "data": {
            "image/png": "[encoded data removed]",
            "text/plain": [
              "<Figure size 432x288 with 1 Axes>"
            ]
          },
          "metadata": {
            "tags": []
          }
        },
        {
          "output_type": "display_data",
          "data": {
            "image/png": "[encoded data removed]",
            "text/plain": [
              "<Figure size 432x288 with 1 Axes>"
            ]
          },
          "metadata": {
            "tags": []
          }
        },
        {
          "output_type": "display_data",
          "data": {
            "image/png": "[encoded data removed]",
            "text/plain": [
              "<Figure size 432x288 with 1 Axes>"
            ]
          },
          "metadata": {
            "tags": []
          }
        },
        {
          "output_type": "display_data",
          "data": {
            "image/png": "[encoded data removed]",
            "text/plain": [
              "<Figure size 432x288 with 1 Axes>"
            ]
          },
          "metadata": {
            "tags": []
          }
        },
        {
          "output_type": "display_data",
          "data": {
            "image/png": "[encoded data removed]",
            "text/plain": [
              "<Figure size 432x288 with 1 Axes>"
            ]
          },
          "metadata": {
            "tags": []
          }
        },
        {
          "output_type": "display_data",
          "data": {
            "image/png": "[encoded data removed]",
            "text/plain": [
              "<Figure size 432x288 with 1 Axes>"
            ]
          },
          "metadata": {
            "tags": []
          }
        },
        {
          "output_type": "display_data",
          "data": {
            "image/png": "[encoded data removed]",
            "text/plain": [
              "<Figure size 432x288 with 1 Axes>"
            ]
          },
          "metadata": {
            "tags": []
          }
        },
        {
          "output_type": "display_data",
          "data": {
            "image/png": "[encoded data removed]",
            "text/plain": [
              "<Figure size 432x288 with 1 Axes>"
            ]
          },
          "metadata": {
            "tags": []
          }
        },
        {
          "output_type": "display_data",
          "data": {
            "image/png": "[encoded data removed]",
            "text/plain": [
              "<Figure size 432x288 with 1 Axes>"
            ]
          },
          "metadata": {
            "tags": []
          }
        },
        {
          "output_type": "display_data",
          "data": {
            "image/png": "[encoded data removed]",
            "text/plain": [
              "<Figure size 432x288 with 1 Axes>"
            ]
          },
          "metadata": {
            "tags": []
          }
        },
        {
          "output_type": "display_data",
          "data": {
            "image/png": "[encoded data removed]",
            "text/plain": [
              "<Figure size 432x288 with 1 Axes>"
            ]
          },
          "metadata": {
            "tags": []
          }
        },
        {
          "output_type": "display_data",
          "data": {
            "image/png": "[encoded data removed]",
            "text/plain": [
              "<Figure size 432x288 with 1 Axes>"
            ]
          },
          "metadata": {
            "tags": []
          }
        },
        {
          "output_type": "display_data",
          "data": {
            "image/png": "[encoded data removed]",
            "text/plain": [
              "<Figure size 432x288 with 1 Axes>"
            ]
          },
          "metadata": {
            "tags": []
          }
        },
        {
          "output_type": "display_data",
          "data": {
            "image/png": "[encoded data removed]",
            "text/plain": [
              "<Figure size 432x288 with 1 Axes>"
            ]
          },
          "metadata": {
            "tags": []
          }
        }
      ]
    }
  ]
}